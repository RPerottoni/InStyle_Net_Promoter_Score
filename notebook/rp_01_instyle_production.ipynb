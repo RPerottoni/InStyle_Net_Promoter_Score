{
 "cells": [
  {
   "cell_type": "markdown",
   "id": "8ba1e0d7",
   "metadata": {},
   "source": [
    "# InStyle Net Promoted Score"
   ]
  },
  {
   "cell_type": "markdown",
   "id": "ce96817c",
   "metadata": {},
   "source": [
    "## 0 - IMPORTS AND FUNCTIONS"
   ]
  },
  {
   "cell_type": "code",
   "execution_count": 1,
   "id": "179b485c",
   "metadata": {
    "ExecuteTime": {
     "end_time": "2024-01-13T11:41:31.834002Z",
     "start_time": "2024-01-13T11:41:29.556773Z"
    }
   },
   "outputs": [],
   "source": [
    "# Data Analysis and Data Manipulation Libraries\n",
    "import inflection\n",
    "import joblib\n",
    "import pandas                                       as pd\n",
    "import numpy                                        as np\n",
    "import seaborn                                      as sns\n",
    "import scikitplot                                   as skplt\n",
    "import plotly.express                               as px\n",
    "import plotly.graph_objects                         as go\n",
    "\n",
    "# Data Processing Libraries\n",
    "from sklearn                 import model_selection as ms\n",
    "from sklearn                 import preprocessing   as pp\n",
    "from sklearn.model_selection import KFold\n",
    "\n",
    "# ML Models and Optimization Libraries\n",
    "import optuna\n",
    "import lightgbm                                     as lgbm\n",
    "\n",
    "from catboost                import CatBoostClassifier\n",
    "from xgboost                 import XGBClassifier\n",
    "from sklearn.metrics         import precision_score \n",
    "from sklearn.metrics         import confusion_matrix, ConfusionMatrixDisplay\n",
    "\n",
    "# Dysplay\n",
    "%matplotlib inline\n",
    "from IPython.core.display    import HTML\n",
    "from IPython.display         import Image\n",
    "\n",
    "import warnings\n",
    "warnings.filterwarnings( 'ignore' )"
   ]
  },
  {
   "cell_type": "markdown",
   "id": "05be3a58",
   "metadata": {},
   "source": [
    "### 0.1 - HELPER FUNCTIONS"
   ]
  },
  {
   "cell_type": "code",
   "execution_count": null,
   "id": "b12e9959",
   "metadata": {
    "ExecuteTime": {
     "end_time": "2024-01-02T23:37:25.630428Z",
     "start_time": "2024-01-02T23:37:25.601769Z"
    },
    "code_folding": []
   },
   "outputs": [],
   "source": [
    "# These functions were created to help us to apply data cleaning, featue engineering and data transformations in our dataset, seeking to apply same principles to every datasets to be used in this notebook.\n",
    "def train_prep(dftr):\n",
    "    ## Renaming Columns\n",
    "    cols_old = ['id', 'Gender', 'Customer Type', 'Age', 'Type of Purchase','Store size', 'Store distance', 'InStore wifi',\n",
    "                'Open/Close time convenient', 'Easy of online shopping', 'Store location', 'Toilet cleaning', 'Dressing room', \n",
    "                'Waiting room','Kids entertainment', 'Seller service', 'Showroom ', 'Self-Store', 'Purchase service', \n",
    "                'Store Service', 'Cleanliness', 'Carrier delay in minutes', 'Delivery delay in minutes', 'Satisfaction']\n",
    "\n",
    "    snakecase = lambda x: inflection.underscore(x.replace(' ', '_'))\n",
    "    cols_new = list( map( snakecase, cols_old ) )\n",
    "\n",
    "    dftr.columns = cols_new\n",
    "\n",
    "    # FEATURE ENGINEERING\n",
    "\n",
    "    #dftr['distancia'] = dftr['store_distance'].apply(lambda x: 'close' if x <= 2500 else \n",
    "                                                               #'far' )\n",
    "\n",
    "    #dftr['age_group'] = dftr['age'].apply(lambda x: 'young' if x <= 18 else\n",
    "                                                    #'adult' if ((x > 18) and (x <= 60)) else\n",
    "                                                    #'elderly')\n",
    "    \n",
    "    # Fill NaN\n",
    "    dftr['delivery_delay_in_minutes'] = dftr['delivery_delay_in_minutes'].fillna(dftr['carrier_delay_in_minutes'])\n",
    "\n",
    "    # FREQUENCY ENCODER\n",
    "    # gender\n",
    "    fe_gender = dftr.groupby('gender').size() / len(dftr)\n",
    "    dftr['gender'] = dftr['gender'].map( fe_gender )\n",
    "    joblib.dump(fe_gender, 'fe_gender.joblib')\n",
    "\n",
    "    # type_of_purchase\n",
    "    fe_type_of_purchase = dftr.groupby( 'type_of_purchase' ).size() / len( dftr ) \n",
    "    dftr['type_of_purchase'] = dftr['type_of_purchase'].map( fe_type_of_purchase )\n",
    "    joblib.dump(fe_type_of_purchase, 'fe_tpurchase.joblib')\n",
    "\n",
    "    # ORDINAL ENCODER\n",
    "    #oea = pp.OrdinalEncoder()\n",
    "    #oeb = pp.OrdinalEncoder()\n",
    "    oec = pp.OrdinalEncoder()\n",
    "    oed = pp.OrdinalEncoder()\n",
    "    oee = pp.OrdinalEncoder()\n",
    "    \n",
    "    # distance\n",
    "    #dftr['distancia'] = oea.fit_transform(dftr[['distancia']].values)\n",
    "    #joblib.dump(oea, 'oe_distance.joblib')\n",
    "\n",
    "    # distance\n",
    "    #dftr['age_group'] = oeb.fit_transform(dftr[['age_group']].values)\n",
    "    #joblib.dump(oeb, 'oe_ageg.joblib')\n",
    "\n",
    "    # distance\n",
    "    dftr['customer_type'] = oec.fit_transform(dftr[['customer_type']].values)\n",
    "    joblib.dump(oec, 'oe_customer.joblib')\n",
    "\n",
    "    # Store Size\n",
    "    dftr['store_size'] = oed.fit_transform( dftr[['store_size']].values )\n",
    "    joblib.dump(oed, 'oe_store.joblib')\n",
    "\n",
    "    # REESCALING\n",
    "    mms = pp.MinMaxScaler()\n",
    "\n",
    "    # age\n",
    "    dftr['age'] = mms.fit_transform( dftr[['age']].values )\n",
    "    joblib.dump(mms, 'mm_age.joblib')\n",
    "\n",
    "    # ROBUST SCALER\n",
    "    rs = pp.RobustScaler()\n",
    "\n",
    "    # Store Distance\n",
    "    dftr['store_distance'] = rs.fit_transform( dftr[['store_distance']].values )\n",
    "    joblib.dump(rs, 'rs_stored.joblib')\n",
    "\n",
    "    # TRANSFORMACAO LOGARITMICA \n",
    "    # carrier_delay_in_minutes\n",
    "    dftr['carrier_delay_in_minutes'] = dftr['carrier_delay_in_minutes'].apply(lambda x: np.log(x) if x > 0 else x) \n",
    "\n",
    "    # delivery_delay_in_minutes\n",
    "    dftr['delivery_delay_in_minutes'] = dftr['delivery_delay_in_minutes'].apply(lambda x: np.log(x) if x > 0 else x) \n",
    "\n",
    "    # Response\n",
    "    # satisfaction\n",
    "    dftr['satisfaction'] = dftr['satisfaction'].apply(lambda x: 0 if x=='Satisfied' else 1)\n",
    "    \n",
    "    return (dftr)\n",
    "\n",
    "def test_prep(dfte):\n",
    "    ######## TEST DATASET ############\n",
    "    ## Renaming Columns\n",
    "    cols_old = ['id', 'Gender', 'Customer Type', 'Age', 'Type of Purchase','Store size', 'Store distance', 'InStore wifi',\n",
    "                'Open/Close time convenient', 'Easy of online shopping', 'Store location', 'Toilet cleaning', 'Dressing room', \n",
    "                'Waiting room','Kids entertainment', 'Seller service', 'Showroom ', 'Self-Store', 'Purchase service', \n",
    "                'Store Service', 'Cleanliness', 'Carrier delay in minutes', 'Delivery delay in minutes']\n",
    "\n",
    "    snakecase = lambda x: inflection.underscore(x.replace(' ', '_'))\n",
    "    cols_new = list( map( snakecase, cols_old ) )\n",
    "\n",
    "    dfte.columns = cols_new\n",
    "\n",
    "    # FEATURE ENGINEERING\n",
    "\n",
    "    #dfte['distancia'] = dfte['store_distance'].apply(lambda x: 'close' if x <= 2500 else \n",
    "                                                               #'far' )\n",
    "\n",
    "\n",
    "\n",
    "    #dfte['age_group'] = dfte['age'].apply(lambda x: 'young' if x <= 18 else\n",
    "                                                    #'adult' if ((x > 18) and (x <= 60)) else\n",
    "                                                    #'elderly')\n",
    "\n",
    "    # TRANSFORMERS\n",
    "    \n",
    "    fe_gender    = joblib.load( 'fe_gender.joblib')\n",
    "    fe_tpurchase = joblib.load( 'fe_tpurchase.joblib')\n",
    "    #oe_distance  = joblib.load( 'oe_distance.joblib')\n",
    "    #oe_ageg      = joblib.load( 'oe_ageg.joblib')\n",
    "    oe_customer  = joblib.load( 'oe_customer.joblib')\n",
    "    oe_store     = joblib.load( 'oe_store.joblib')\n",
    "    mm_age       = joblib.load( 'mm_age.joblib')\n",
    "    rs_stored    = joblib.load( 'rs_stored.joblib')\n",
    "    \n",
    "    # gender\n",
    "    dfte['gender'] = dfte['gender'].map(fe_gender)\n",
    "    \n",
    "    # type_of_purchase\n",
    "    dfte['type_of_purchase'] = dfte['type_of_purchase'].map( fe_tpurchase )\n",
    "\n",
    "    # distance\n",
    "    #dfte['distancia'] = oe_distance.transform(dfte[['distancia']].values)\n",
    "\n",
    "    # distance\n",
    "    #dfte['age_group'] =oe_ageg.transform(dfte[['age_group']].values)\n",
    "\n",
    "    # distance\n",
    "    dfte['customer_type'] =oe_customer.transform(dfte[['customer_type']].values)\n",
    "\n",
    "    # Store Size\n",
    "    dfte['store_size'] = oe_store.transform(dfte[['store_size']].values)\n",
    "\n",
    "    # REESCALING\n",
    " \n",
    "    # age\n",
    "    dfte['age'] = mm_age.transform(dfte[['age']].values)\n",
    "\n",
    "    # Store Distance\n",
    "    dfte['store_distance'] = rs_stored.transform(dfte[['store_distance']].values)\n",
    "\n",
    "    # TRANSFORMACAO LOGARITMICA \n",
    "    \n",
    "    # carrier_delay_in_minutes\n",
    "    dfte['carrier_delay_in_minutes'] = dfte['carrier_delay_in_minutes'].apply(lambda x: np.log(x) if x > 0 else x) \n",
    "\n",
    "    # delivery_delay_in_minutes\n",
    "    dfte['delivery_delay_in_minutes'] = dfte['delivery_delay_in_minutes'].apply(lambda x: np.log(x) if x > 0 else x) \n",
    "\n",
    "    return(dfte)\n",
    "\n",
    "def cross_validation(kfold, modelName, model, X, y):\n",
    "    \n",
    "    # Number of folds\n",
    "    fold=ms.StratifiedKFold(n_splits = kfold, shuffle=True, random_state=42)\n",
    "    \n",
    "    # Performance variables\n",
    "    precision_list = []\n",
    "    \n",
    "    for train_cv,val_cv in fold.split(X, y):\n",
    "        \n",
    "        # Separating train and validation dataset for each kfold\n",
    "        # training data\n",
    "        x_train_fold = X.iloc[train_cv]\n",
    "        x_train_fold = x_train_fold\n",
    "        \n",
    "        y_train_fold = y.iloc[train_cv]\n",
    "        y_train_fold = y_train_fold\n",
    "        \n",
    "        # validation data\n",
    "        x_val_fold = X.iloc[val_cv]\n",
    "        x_val_fold = x_val_fold\n",
    "        \n",
    "        y_val_fold = y.iloc[val_cv]\n",
    "        y_val_fold = y_val_fold\n",
    "        \n",
    "        # fitting the model\n",
    "        model_fitted = model.fit(x_train_fold, y_train_fold)\n",
    "        \n",
    "        # predict\n",
    "        yhat = model_fitted.predict(x_val_fold)\n",
    "        \n",
    "        #performance\n",
    "        precision = precision_score(y_val_fold, yhat, average='micro')\n",
    "        precision_list.append(precision)\n",
    "        \n",
    "    return np.mean(precision_list)"
   ]
  },
  {
   "cell_type": "code",
   "execution_count": null,
   "id": "f8efaddd",
   "metadata": {
    "ExecuteTime": {
     "end_time": "2024-01-02T23:38:57.444423Z",
     "start_time": "2024-01-02T23:38:57.433417Z"
    }
   },
   "outputs": [],
   "source": [
    "def jupyter_settings():\n",
    "    display( HTML( '<style>.container {width:100% !important; }</style>') )\n",
    "    sns.set()\n",
    "jupyter_settings()"
   ]
  },
  {
   "cell_type": "markdown",
   "id": "82380eb7",
   "metadata": {
    "cell_style": "center"
   },
   "source": [
    "## 1 - DATA EXTRACTION"
   ]
  },
  {
   "cell_type": "code",
   "execution_count": null,
   "id": "c520d31c",
   "metadata": {
    "ExecuteTime": {
     "end_time": "2024-01-02T23:37:27.973243Z",
     "start_time": "2024-01-02T23:37:27.778663Z"
    },
    "cell_style": "center"
   },
   "outputs": [],
   "source": [
    "# All Data - Windows\n",
    "df_raw = pd.read_csv('C:/Users/perot/Documents/ds_repos/projects/InStyle_Net_Promoter_Score/data/train.csv')\n",
    "\n",
    "df_test = pd.read_csv('C:/Users/perot/Documents/ds_repos/projects/InStyle_Net_Promoter_Score/data/test.csv')"
   ]
  },
  {
   "cell_type": "code",
   "execution_count": null,
   "id": "d5d15957",
   "metadata": {
    "ExecuteTime": {
     "end_time": "2024-01-02T23:37:28.376215Z",
     "start_time": "2024-01-02T23:37:28.356982Z"
    }
   },
   "outputs": [],
   "source": [
    "## Renaming Columns\n",
    "cols_old = ['id', 'Gender', 'Customer Type', 'Age', 'Type of Purchase','Store size', 'Store distance', 'InStore wifi',\n",
    "            'Open/Close time convenient', 'Easy of online shopping', 'Store location', 'Toilet cleaning', 'Dressing room', \n",
    "            'Waiting room','Kids entertainment', 'Seller service', 'Showroom ', 'Self-Store', 'Purchase service', \n",
    "            'Store Service', 'Cleanliness', 'Carrier delay in minutes', 'Delivery delay in minutes', 'Satisfaction']\n",
    "\n",
    "snakecase = lambda x: inflection.underscore(x.replace(' ', '_'))\n",
    "cols_new = list( map( snakecase, cols_old ) )\n",
    "\n",
    "df_raw.columns = cols_new"
   ]
  },
  {
   "cell_type": "code",
   "execution_count": null,
   "id": "021166b1",
   "metadata": {
    "ExecuteTime": {
     "end_time": "2024-01-02T23:37:28.700497Z",
     "start_time": "2024-01-02T23:37:28.685438Z"
    }
   },
   "outputs": [],
   "source": [
    "df1 = df_raw.copy()"
   ]
  },
  {
   "cell_type": "markdown",
   "id": "80a64eaf",
   "metadata": {},
   "source": [
    "### 1.1 - Data Descriptive"
   ]
  },
  {
   "cell_type": "code",
   "execution_count": null,
   "id": "f74f6f5d",
   "metadata": {
    "ExecuteTime": {
     "end_time": "2023-12-24T16:06:35.401994Z",
     "start_time": "2023-12-24T16:06:35.388619Z"
    }
   },
   "outputs": [],
   "source": [
    "#prof = ProfileReport(df_raw)\n",
    "#prof.to_file(output_file='data_descriptive.html')"
   ]
  },
  {
   "cell_type": "code",
   "execution_count": null,
   "id": "e8e7bc75",
   "metadata": {
    "ExecuteTime": {
     "end_time": "2024-01-02T22:09:56.116118Z",
     "start_time": "2024-01-02T22:09:56.097478Z"
    }
   },
   "outputs": [],
   "source": [
    "# Data Dimensions\n",
    "print( 'Number of Rows: {}'.format( df1.shape[0] ) )\n",
    "print( 'Number of Cols: {}'.format( df1.shape[1] ) )"
   ]
  },
  {
   "cell_type": "code",
   "execution_count": null,
   "id": "740d7b7c",
   "metadata": {
    "ExecuteTime": {
     "end_time": "2024-01-02T22:09:56.674534Z",
     "start_time": "2024-01-02T22:09:56.657648Z"
    }
   },
   "outputs": [],
   "source": [
    "# Data Types\n",
    "df1.dtypes"
   ]
  },
  {
   "cell_type": "code",
   "execution_count": null,
   "id": "a62084af",
   "metadata": {
    "ExecuteTime": {
     "end_time": "2024-01-02T22:09:57.096141Z",
     "start_time": "2024-01-02T22:09:56.961917Z"
    }
   },
   "outputs": [],
   "source": [
    "# Verifying if there are NaN values\n",
    "df1.isna().sum()"
   ]
  },
  {
   "cell_type": "markdown",
   "id": "b937bed6",
   "metadata": {},
   "source": [
    "There are 310 missing values for the variable delivery_delay_in_minutes. The decision made is to fill the NaN values with the correspondent value on the column carrier_delay_in_minutes, because were noticed that when the carrier is 0, the delay is also 0, and around 50% of the NaN is 0 for carrier_delay."
   ]
  },
  {
   "cell_type": "code",
   "execution_count": null,
   "id": "4a74ec90",
   "metadata": {
    "ExecuteTime": {
     "end_time": "2024-01-02T22:09:57.314450Z",
     "start_time": "2024-01-02T22:09:57.292724Z"
    }
   },
   "outputs": [],
   "source": [
    "# Analyze and Fill NaN\n",
    "\n",
    "df1['delivery_delay_in_minutes'] = df1['delivery_delay_in_minutes'].fillna(df1['carrier_delay_in_minutes'])"
   ]
  },
  {
   "cell_type": "markdown",
   "id": "4c859d60",
   "metadata": {
    "heading_collapsed": true
   },
   "source": [
    "### 1.1.1 - Distribuition Analysis"
   ]
  },
  {
   "cell_type": "code",
   "execution_count": null,
   "id": "bba05eb6",
   "metadata": {
    "ExecuteTime": {
     "end_time": "2024-01-02T22:09:57.596263Z",
     "start_time": "2024-01-02T22:09:57.579594Z"
    },
    "hidden": true
   },
   "outputs": [],
   "source": [
    "# numerical features\n",
    "num_attributes = df1.select_dtypes(include=['int64', 'float64'])\n",
    "\n",
    "# categorical features\n",
    "cat_attributes = df1.select_dtypes(exclude=['int64', 'float64'])"
   ]
  },
  {
   "cell_type": "code",
   "execution_count": null,
   "id": "74c82bb9",
   "metadata": {
    "ExecuteTime": {
     "end_time": "2024-01-02T22:09:58.705038Z",
     "start_time": "2024-01-02T22:09:57.917758Z"
    },
    "hidden": true
   },
   "outputs": [],
   "source": [
    "# Central Tendency - mean, median\n",
    "ct1 = pd.DataFrame( num_attributes.apply( np.mean ) ).T\n",
    "ct2 = pd.DataFrame( num_attributes.apply( np.median ) ).T\n",
    "\n",
    "# Dispersion - std, min, max, range, skew, kurtosis\n",
    "d1 = pd.DataFrame( num_attributes.apply( np.std ) ).T\n",
    "d2 = pd.DataFrame( num_attributes.apply( min ) ).T\n",
    "d3 = pd.DataFrame( num_attributes.apply( max ) ).T\n",
    "d4 = pd.DataFrame( num_attributes.apply( lambda x: x.max() - x.min() ) ).T\n",
    "d5 = pd.DataFrame( num_attributes.apply( lambda x: x.skew() ) ).T\n",
    "d6 = pd.DataFrame( num_attributes.apply( lambda x: x.kurtosis() ) ).T\n",
    "\n",
    "# Concatenar\n",
    "m = pd.concat( [ d2, d3, d4, ct1, ct2, d1, d5, d6 ] ).T.reset_index()\n",
    "m.columns = ['attributes', 'min', 'max', 'range', 'mean', 'median', 'std', 'skew', 'kurtosis']\n",
    "m"
   ]
  },
  {
   "cell_type": "markdown",
   "id": "8a2a7dd3",
   "metadata": {},
   "source": [
    "## 2 - FEATURE ENGINEERING"
   ]
  },
  {
   "cell_type": "code",
   "execution_count": null,
   "id": "88f55bba",
   "metadata": {
    "ExecuteTime": {
     "end_time": "2024-01-02T23:37:33.442228Z",
     "start_time": "2024-01-02T23:37:33.424050Z"
    }
   },
   "outputs": [],
   "source": [
    "df2 = df1.copy()"
   ]
  },
  {
   "cell_type": "code",
   "execution_count": null,
   "id": "1551817a",
   "metadata": {
    "ExecuteTime": {
     "end_time": "2024-01-02T23:18:49.924473Z",
     "start_time": "2024-01-02T23:18:49.843598Z"
    }
   },
   "outputs": [],
   "source": [
    "# New Features\n",
    "\n",
    "df2['distancia'] = df2['store_distance'].apply(lambda x: 'close' if x <= 2500 else \n",
    "                                                         'far' )\n",
    "\n",
    "\n",
    "\n",
    "df2['age_group'] = df2['age'].apply(lambda x: 'young' if x <= 18 else\n",
    "                                              'adult' if ((x > 18) and (x <= 60)) else\n",
    "                                              'elderly')"
   ]
  },
  {
   "cell_type": "markdown",
   "id": "9f147da5",
   "metadata": {},
   "source": [
    "# 3. DATA FILTERING"
   ]
  },
  {
   "cell_type": "code",
   "execution_count": null,
   "id": "9b2d09ba",
   "metadata": {
    "ExecuteTime": {
     "end_time": "2024-01-02T23:37:35.667975Z",
     "start_time": "2024-01-02T23:37:35.653794Z"
    }
   },
   "outputs": [],
   "source": [
    "df3 = df2.copy()"
   ]
  },
  {
   "cell_type": "markdown",
   "id": "ad8b24ef",
   "metadata": {},
   "source": [
    "# 4. EDA"
   ]
  },
  {
   "cell_type": "code",
   "execution_count": null,
   "id": "d5fde51b",
   "metadata": {
    "ExecuteTime": {
     "end_time": "2024-01-02T23:37:36.225666Z",
     "start_time": "2024-01-02T23:37:36.200222Z"
    }
   },
   "outputs": [],
   "source": [
    "df4_eda = df3.copy()"
   ]
  },
  {
   "cell_type": "markdown",
   "id": "41dd5d35",
   "metadata": {
    "heading_collapsed": true
   },
   "source": [
    "## 4.1 Univariate Analysis"
   ]
  },
  {
   "cell_type": "markdown",
   "id": "a8203723",
   "metadata": {
    "hidden": true
   },
   "source": [
    "### Numerical Attributes"
   ]
  },
  {
   "cell_type": "code",
   "execution_count": null,
   "id": "f6ed27d2",
   "metadata": {
    "ExecuteTime": {
     "end_time": "2024-01-02T19:18:35.373272Z",
     "start_time": "2024-01-02T19:18:31.405274Z"
    },
    "hidden": true
   },
   "outputs": [],
   "source": [
    "columns_to_plot = num_attributes.columns\n",
    "\n",
    "fig, axes = plt.subplots(nrows=7, ncols=3, figsize=(30, 15))\n",
    "fig.subplots_adjust(hspace=0.5)\n",
    "\n",
    "#Usar o divmod para encontrar os axes \n",
    "for i, column in enumerate(columns_to_plot):\n",
    "    row, col = divmod(i, 3)\n",
    "    ax = axes[row, col]\n",
    "    #plotar todos os boxplots\n",
    "    sns.boxplot(df1, x=column, ax=ax)\n",
    "    ax.set_title(column)\n",
    "\n",
    "plt.tight_layout()\n",
    "plt.show()"
   ]
  },
  {
   "cell_type": "markdown",
   "id": "7ca8dab0",
   "metadata": {
    "hidden": true
   },
   "source": [
    "### Categorical Attributes"
   ]
  },
  {
   "cell_type": "code",
   "execution_count": null,
   "id": "8a912aa8",
   "metadata": {
    "ExecuteTime": {
     "end_time": "2024-01-02T19:20:21.405662Z",
     "start_time": "2024-01-02T19:20:21.395368Z"
    },
    "hidden": true
   },
   "outputs": [],
   "source": [
    "labels = cat_attributes.columns\n",
    "label = 'satisfaction'"
   ]
  },
  {
   "cell_type": "code",
   "execution_count": null,
   "id": "98de3b2b",
   "metadata": {
    "ExecuteTime": {
     "end_time": "2024-01-02T19:20:23.223820Z",
     "start_time": "2024-01-02T19:20:21.868629Z"
    },
    "hidden": true
   },
   "outputs": [],
   "source": [
    "plt.figure(figsize=(14, len(labels) * 2))\n",
    "for i, col in enumerate(labels):\n",
    "    plt.subplot(len(labels) // 2 + 1, 3, i + 1)\n",
    "    sns.countplot(x=col, hue=label, data=df1)\n",
    "    plt.title(f\"{col} vs {label}\")\n",
    "    plt.tight_layout()"
   ]
  },
  {
   "cell_type": "markdown",
   "id": "2994e1e0",
   "metadata": {
    "heading_collapsed": true
   },
   "source": [
    "## 4.2 Bivariate Analysis"
   ]
  },
  {
   "cell_type": "code",
   "execution_count": null,
   "id": "22bf06c2",
   "metadata": {
    "ExecuteTime": {
     "end_time": "2024-01-02T19:21:18.350289Z",
     "start_time": "2024-01-02T19:21:18.336288Z"
    },
    "hidden": true
   },
   "outputs": [],
   "source": [
    "print(px.colors.qualitative.Plotly)"
   ]
  },
  {
   "cell_type": "code",
   "execution_count": null,
   "id": "d4078954",
   "metadata": {
    "ExecuteTime": {
     "end_time": "2024-01-02T19:21:19.885016Z",
     "start_time": "2024-01-02T19:21:18.868797Z"
    },
    "hidden": true
   },
   "outputs": [],
   "source": [
    "# 1 - As the dressing room score increases, the volume of dissatisfied customers decreases.\n",
    "# Hyphotesis is true.\n",
    "aux = df4_eda[['id','dressing_room','satisfaction']].groupby(['dressing_room','satisfaction']).count().reset_index()\n",
    "fig = px.bar(aux, x=\"dressing_room\", y=\"id\",\n",
    "             color='satisfaction',\n",
    "             barmode='group',\n",
    "             text='id',\n",
    "             color_discrete_sequence=['mediumturquoise', 'lightgreen'],\n",
    "             height=600,\n",
    "             width=1000)\n",
    "\n",
    "fig.update_traces(texttemplate='%{text:.2s}', \n",
    "                  textposition='outside')\n",
    "\n",
    "fig.update_layout(uniformtext_minsize=8, \n",
    "                  uniformtext_mode='hide',\n",
    "                  title={ 'text':'Dressing Room Score vs Customer Satisfaction', 'x':0.45, 'y':0.95},\n",
    "                  plot_bgcolor='white',\n",
    "                  paper_bgcolor='white')\n",
    "\n",
    "fig.show()"
   ]
  },
  {
   "cell_type": "code",
   "execution_count": null,
   "id": "101dfcd7",
   "metadata": {
    "ExecuteTime": {
     "end_time": "2024-01-02T19:21:20.198825Z",
     "start_time": "2024-01-02T19:21:20.109352Z"
    },
    "hidden": true
   },
   "outputs": [],
   "source": [
    "# 2 - As the toilet cleaning score increases, the volume of dissatisfied customers decreases.\n",
    "aux = df4_eda[['id','toilet_cleaning','satisfaction']].groupby(['toilet_cleaning','satisfaction']).count().reset_index()\n",
    "fig = px.bar(aux, x=\"toilet_cleaning\", y=\"id\",\n",
    "             color='satisfaction',\n",
    "             barmode='group',\n",
    "             text='id',\n",
    "             color_discrete_sequence=['mediumturquoise', 'lightgreen'],\n",
    "             height=600,\n",
    "             width=1000)\n",
    "\n",
    "fig.update_traces(texttemplate='%{text:.2s}', \n",
    "                  textposition='outside')\n",
    "\n",
    "fig.update_layout(uniformtext_minsize=8, \n",
    "                  uniformtext_mode='hide',\n",
    "                  title={ 'text':'Toilet Cleaning Score vs Customer Satisfaction', 'x':0.45, 'y':0.95},\n",
    "                  plot_bgcolor='white',\n",
    "                  paper_bgcolor='white')\n",
    "\n",
    "fig.show()"
   ]
  },
  {
   "cell_type": "code",
   "execution_count": null,
   "id": "1055d2a8",
   "metadata": {
    "ExecuteTime": {
     "end_time": "2024-01-02T19:21:58.297813Z",
     "start_time": "2024-01-02T19:21:58.200858Z"
    },
    "hidden": true
   },
   "outputs": [],
   "source": [
    "# 3 - Clientes homens sao em geral, mais satisfeitos que clientes mulheres.\n",
    "\n",
    "aux2 = pd.crosstab(df4_eda['gender'], df4_eda['satisfaction'])\n",
    "aux2['percentage'] = aux2['Neutral or Dissatisfaction']/(aux2['Neutral or Dissatisfaction']+aux2['Satisfied'])\n",
    "\n",
    "colors = ['mediumturquoise', 'lightgreen']\n",
    "\n",
    "fig = go.Figure(data=[go.Pie(labels= ['Neutral or Dissatisfaction', 'Satisfied'], values= [57, 56])])\n",
    "\n",
    "fig.update_traces(hoverinfo='label+percent', textinfo='value', textfont_size=20,\n",
    "                  marker=dict(colors=colors, line=dict(color='#000000', width=2)))\n",
    "\n",
    "\n",
    "fig.update_layout(uniformtext_minsize=8, \n",
    "                  uniformtext_mode='hide',\n",
    "                  title={ 'text':'Percent. of Gender vs Customer Satisfaction', 'x':0.40, 'y':0.95},\n",
    "                  height=600,  # Adjust the height as needed\n",
    "                  width=1000    # Adjust the width as needed\n",
    "                  )\n",
    "fig.show()"
   ]
  },
  {
   "cell_type": "code",
   "execution_count": null,
   "id": "fb896aa4",
   "metadata": {
    "ExecuteTime": {
     "end_time": "2024-01-02T19:21:58.654866Z",
     "start_time": "2024-01-02T19:21:58.514605Z"
    },
    "hidden": true
   },
   "outputs": [],
   "source": [
    "# 4 - The larger the store, the more satisfied its customers tend to be.\n",
    "aux1 = df4_eda[['id','store_size','satisfaction']].groupby(['store_size','satisfaction']).count().reset_index()\n",
    "\n",
    "fig = px.bar(aux1, x=\"store_size\", y=\"id\",\n",
    "             color='satisfaction',\n",
    "             barmode='group',\n",
    "             text='id',\n",
    "             color_discrete_sequence=['mediumturquoise', 'lightgreen'],\n",
    "             height=600,\n",
    "             width=1000)\n",
    "\n",
    "fig.update_traces(texttemplate='%{text:.2s}', \n",
    "                  textposition='outside')\n",
    "\n",
    "fig.update_layout(uniformtext_minsize=8, \n",
    "                  uniformtext_mode='hide',\n",
    "                  title={ 'text':'Store Size vs Customer Satisfaction', 'x':0.35, 'y':0.95},\n",
    "                  plot_bgcolor='white',\n",
    "                  paper_bgcolor='white')\n",
    "\n",
    "fig.show()"
   ]
  },
  {
   "cell_type": "code",
   "execution_count": null,
   "id": "b1b0aacc",
   "metadata": {
    "ExecuteTime": {
     "end_time": "2024-01-02T19:21:58.857223Z",
     "start_time": "2024-01-02T19:21:58.746045Z"
    },
    "hidden": true
   },
   "outputs": [],
   "source": [
    "# Even unsatisfied customers are happy with the store service.\n",
    "aux =df4_eda[['id','store_service','satisfaction']].groupby(['store_service','satisfaction']).count().reset_index()\n",
    "\n",
    "fig = px.bar(aux, x=\"store_service\", y=\"id\",\n",
    "             color='satisfaction',\n",
    "             barmode='group',\n",
    "             text='id',\n",
    "             color_discrete_sequence=['mediumturquoise', 'lightgreen'],\n",
    "             height=600,\n",
    "             width=1000)\n",
    "\n",
    "fig.update_traces(texttemplate='%{text:.2s}', \n",
    "                  textposition='outside')\n",
    "\n",
    "fig.update_layout(uniformtext_minsize=8, \n",
    "                  uniformtext_mode='hide',\n",
    "                  title={ 'text':'Store Service Score vs Customer Satisfaction', 'x':0.50, 'y':0.95},\n",
    "                  plot_bgcolor='white',\n",
    "                  paper_bgcolor='white')\n",
    "\n",
    "fig.show()\n"
   ]
  },
  {
   "cell_type": "markdown",
   "id": "4aebc137",
   "metadata": {
    "heading_collapsed": true
   },
   "source": [
    "## 4.3 Multivariate Analysis"
   ]
  },
  {
   "cell_type": "code",
   "execution_count": null,
   "id": "5eca5fd3",
   "metadata": {
    "ExecuteTime": {
     "end_time": "2024-01-02T19:22:00.772851Z",
     "start_time": "2024-01-02T19:21:59.394590Z"
    },
    "hidden": true
   },
   "outputs": [],
   "source": [
    "aux = df4_eda.copy()\n",
    "\n",
    "mask = np.zeros_like(aux.corr(), dtype=bool) \n",
    "mask[np.triu_indices_from(mask)] = True \n",
    "\n",
    "f, ax = plt.subplots(figsize=(16, 12))\n",
    "\n",
    "plt.title('Matriz de Correlação',fontsize=18)\n",
    "sns.heatmap(aux.corr(),linewidths=0.25,fmt=\".2f\", cmap=\"Blues\", linecolor='w',annot=True,annot_kws={\"size\":9},mask=mask,cbar_kws={\"shrink\": .9});"
   ]
  },
  {
   "cell_type": "markdown",
   "id": "ea6adb1f",
   "metadata": {},
   "source": [
    "# 5. DATA PREPARATION"
   ]
  },
  {
   "cell_type": "code",
   "execution_count": null,
   "id": "bb1b8f36",
   "metadata": {
    "ExecuteTime": {
     "end_time": "2024-01-02T23:37:38.597870Z",
     "start_time": "2024-01-02T23:37:38.578764Z"
    }
   },
   "outputs": [],
   "source": [
    "df5 = df4_eda.copy()"
   ]
  },
  {
   "cell_type": "code",
   "execution_count": null,
   "id": "0295916a",
   "metadata": {
    "ExecuteTime": {
     "end_time": "2024-01-02T23:37:46.339251Z",
     "start_time": "2024-01-02T23:37:45.628432Z"
    }
   },
   "outputs": [],
   "source": [
    "# FREQUENCY ENCODER\n",
    "# gender\n",
    "fe_gender = df5.groupby('gender').size() / len(df5)\n",
    "df5['gender'] = df5['gender'].map( fe_gender )\n",
    "#joblib.dump(fe_gender, 'fe_gender.joblib')\n",
    "\n",
    "# type_of_purchase\n",
    "fe_type_of_purchase = df5.groupby( 'type_of_purchase' ).size() / len( df5 ) \n",
    "df5['type_of_purchase'] = df5['type_of_purchase'].map( fe_type_of_purchase )\n",
    "#joblib.dump(fe_tpurchase, 'fe_tpurchase.joblib')\n",
    "\n",
    "# ORDINAL ENCODER\n",
    "oea = pp.OrdinalEncoder()\n",
    "oeb = pp.OrdinalEncoder()\n",
    "oec = pp.OrdinalEncoder()\n",
    "oed = pp.OrdinalEncoder()\n",
    "\n",
    "# distance\n",
    "#df5['distancia'] = oea.fit_transform(df5[['distancia']].values)\n",
    "#joblib.dump(oe_distance, 'oe_distance.joblib')\n",
    "\n",
    "# distance\n",
    "#df5['age_group'] = oeb.fit_transform(df5[['age_group']].values)\n",
    "#joblib.dump(oe_ageg, 'oe_ageg.joblib')\n",
    "\n",
    "# distance\n",
    "df5['customer_type'] =oec.fit_transform(df5[['customer_type']].values)\n",
    "#joblib.dump(oe_customer, 'oe_customer.joblib')\n",
    "\n",
    "# Store Size\n",
    "df5['store_size'] = oed.fit_transform( df5[['store_size']].values )\n",
    "#joblib.dump(oe_store, 'oe_store.joblib')\n",
    "\n",
    "# REESCALING\n",
    "mms = pp.MinMaxScaler()\n",
    "\n",
    "# age\n",
    "df5['age'] = mms.fit_transform( df5[['age']].values )\n",
    "#joblib.dump(mm_age, 'mm_age.joblib')\n",
    "\n",
    "# ROBUST SCALER\n",
    "rs = pp.RobustScaler()\n",
    "\n",
    "# Store Distance\n",
    "df5['store_distance'] = rs.fit_transform( df5[['store_distance']].values )\n",
    "#joblib.dump(rs_stored, 'rs_stored.joblib')\n",
    "\n",
    "# TRANSFORMACAO LOGARITMICA \n",
    "# carrier_delay_in_minutes\n",
    "df5['carrier_delay_in_minutes'] = df5['carrier_delay_in_minutes'].apply(lambda x: np.log(x) if x > 0 else x) \n",
    "\n",
    "# delivery_delay_in_minutes\n",
    "df5['delivery_delay_in_minutes'] = df5['delivery_delay_in_minutes'].apply(lambda x: np.log(x) if x > 0 else x) \n",
    "\n",
    "# Response\n",
    "# satisfaction\n",
    "df5['satisfaction'] = df5['satisfaction'].apply(lambda x: 0 if x=='Satisfied' else 1)"
   ]
  },
  {
   "cell_type": "markdown",
   "id": "49b4282c",
   "metadata": {},
   "source": [
    "# 6. FEATURE SELECTION"
   ]
  },
  {
   "cell_type": "code",
   "execution_count": null,
   "id": "78170a55",
   "metadata": {
    "ExecuteTime": {
     "end_time": "2024-01-02T23:37:47.726508Z",
     "start_time": "2024-01-02T23:37:46.992355Z"
    }
   },
   "outputs": [],
   "source": [
    "df6 = df_raw.copy()\n",
    "df6_prep = train_prep(df6)\n",
    "feat_x = df6_prep.drop(['satisfaction'], axis=1)\n",
    "feat_y = df6_prep['satisfaction'].copy() "
   ]
  },
  {
   "cell_type": "code",
   "execution_count": null,
   "id": "6d1f6518",
   "metadata": {
    "ExecuteTime": {
     "end_time": "2024-01-02T23:37:49.306545Z",
     "start_time": "2024-01-02T23:37:47.733494Z"
    }
   },
   "outputs": [],
   "source": [
    "# model definition\n",
    "xgboost = XGBClassifier()\n",
    "\n",
    "# model training\n",
    "xgboost.fit(feat_x, feat_y)"
   ]
  },
  {
   "cell_type": "code",
   "execution_count": null,
   "id": "a7ced9e8",
   "metadata": {
    "ExecuteTime": {
     "end_time": "2024-01-02T23:37:50.614317Z",
     "start_time": "2024-01-02T23:37:50.023121Z"
    }
   },
   "outputs": [],
   "source": [
    "feature_importances = xgboost.feature_importances_\n",
    "feature_names = feat_x.columns \n",
    "feature_importance_dict = dict(zip(feature_names, feature_importances))\n",
    "sorted_feature_importance = sorted(feature_importance_dict.items(), key=lambda x: x[1], reverse=True)\n",
    "sorted_feature_names, sorted_importance_scores = zip(*sorted_feature_importance)\n",
    "plt.figure(figsize=(10, 10))\n",
    "\n",
    "plt.barh(sorted_feature_names, sorted_importance_scores)\n",
    "plt.xlabel(\"Feature Importance\")\n",
    "plt.ylabel(\"Feature Name\")\n",
    "plt.title(\"Feature Importance\")\n",
    "plt.show()"
   ]
  },
  {
   "cell_type": "markdown",
   "id": "a269f4a4",
   "metadata": {},
   "source": [
    "As this is the first cycle, we will consider all features for the model, but it is something that could be tested ont he new further cycles and see the impact on performance, resources, etc."
   ]
  },
  {
   "cell_type": "markdown",
   "id": "a4bbd0c9",
   "metadata": {},
   "source": [
    "# 7. MACHINE LEARNING"
   ]
  },
  {
   "cell_type": "code",
   "execution_count": null,
   "id": "7bfb9572",
   "metadata": {
    "ExecuteTime": {
     "end_time": "2024-01-02T23:37:57.980360Z",
     "start_time": "2024-01-02T23:37:57.942704Z"
    }
   },
   "outputs": [],
   "source": [
    "df7 = df5.copy()"
   ]
  },
  {
   "cell_type": "markdown",
   "id": "48471f52",
   "metadata": {},
   "source": [
    "## 7.1 - DATASET SPLIT"
   ]
  },
  {
   "cell_type": "code",
   "execution_count": null,
   "id": "47506d22",
   "metadata": {
    "ExecuteTime": {
     "end_time": "2024-01-02T23:37:59.068997Z",
     "start_time": "2024-01-02T23:37:58.977444Z"
    }
   },
   "outputs": [],
   "source": [
    "# Dividindo o dataset em treino, validacao e teste\n",
    "X = df7.drop( ['satisfaction'], axis=1 )\n",
    "y = df7['satisfaction'].copy()\n",
    "\n",
    "train_x, val_x, train_y, val_y   = ms.train_test_split( X, y, test_size=0.15, shuffle=True, random_state=None )\n",
    "train_x, test_x, train_y, test_y   = ms.train_test_split( train_x, train_y, test_size=0.15, shuffle=True, random_state=None )\n",
    "print(f\" train_x: {train_x.shape}\\n train_y: {train_y.shape}\\n val_x: {val_x.shape}\\n val_y: {val_y.shape}\\n test_x: {test_x.shape}\\n test_y: {test_y.shape}\\n\")"
   ]
  },
  {
   "cell_type": "markdown",
   "id": "d9f15c43",
   "metadata": {},
   "source": [
    "## 7.2 Machine Learning Models"
   ]
  },
  {
   "cell_type": "markdown",
   "id": "09561de2",
   "metadata": {},
   "source": [
    "### 7.2.1 XGB"
   ]
  },
  {
   "cell_type": "code",
   "execution_count": null,
   "id": "6ec0a178",
   "metadata": {
    "ExecuteTime": {
     "end_time": "2024-01-02T23:38:06.367532Z",
     "start_time": "2024-01-02T23:38:01.922266Z"
    }
   },
   "outputs": [],
   "source": [
    "clf_xgb = XGBClassifier()\n",
    "\n",
    "evalxgb = cross_validation(5, 'XGB', clf_xgb, train_x, train_y)\n",
    "evalxgb"
   ]
  },
  {
   "cell_type": "code",
   "execution_count": null,
   "id": "a1b014fa",
   "metadata": {
    "ExecuteTime": {
     "end_time": "2024-01-02T23:39:05.231519Z",
     "start_time": "2024-01-02T23:39:05.211899Z"
    }
   },
   "outputs": [],
   "source": [
    "def plot_lgbm_param_scores(param_name, param_range, fixed_params, X_train, y_train, X_val, y_val):\n",
    "    \n",
    "    train_scores = []\n",
    "    val_scores = []\n",
    "    \n",
    "    for param_value in param_range:\n",
    "        params = fixed_params\n",
    "        params[param_name] = param_value\n",
    "        \n",
    "        lgbm = XGBClassifier(**params)\n",
    "        lgbm.fit(X_train, y_train)\n",
    "        \n",
    "        train_scores.append(precision_score(y_train, lgbm.predict(X_train)))\n",
    "        val_scores.append(precision_score(y_val, lgbm.predict(X_val)))\n",
    "    \n",
    "    plt.figure(figsize=(8, 4))\n",
    "    plt.plot(param_range, train_scores, label=\"Train\", color=\"#264653\")\n",
    "    plt.plot(param_range, val_scores, label=\"Val\", color=\"#e76f51\")\n",
    "\n",
    "    plt.title(\"LightGBM\")\n",
    "    plt.xlabel(param_name)\n",
    "    plt.ylabel(\"Precision\")\n",
    "    plt.tight_layout()\n",
    "    plt.legend(loc=\"best\");"
   ]
  },
  {
   "cell_type": "code",
   "execution_count": null,
   "id": "c3dda6d2",
   "metadata": {
    "ExecuteTime": {
     "end_time": "2024-01-02T23:44:54.766596Z",
     "start_time": "2024-01-02T23:44:54.752818Z"
    }
   },
   "outputs": [],
   "source": [
    "params_xgb = {\n",
    "    'max_depth': 3,\n",
    "    'eta': 0.02,\n",
    "    'learning_rate': 0.7,\n",
    "    'n_estimators': 2000,\n",
    "    'min_child_weight': 2,\n",
    "    'gamma': 0.3,\n",
    "    'subsample': 0.7,\n",
    "    'colsample_bytree': 0.6,\n",
    "    'reg_alpha': 4.2e-06,\n",
    "    'reg_lambda': 7.2e-05\n",
    "}"
   ]
  },
  {
   "cell_type": "code",
   "execution_count": null,
   "id": "34476ef8",
   "metadata": {
    "ExecuteTime": {
     "end_time": "2024-01-02T23:49:10.730604Z",
     "start_time": "2024-01-02T23:49:10.723068Z"
    }
   },
   "outputs": [],
   "source": [
    "params_xgb = {\n",
    "    'max_depth': 12,\n",
    "    'eta': 0.019834339603301256,\n",
    "    'learning_rate': 0.07,\n",
    "    'n_estimators': 2000,\n",
    "    'min_child_weight': 2,\n",
    "    'gamma': 0.3113641371820694,\n",
    "    'subsample': 0.7039764982894372,\n",
    "    'colsample_bytree': 0.6313892474468165,\n",
    "    'reg_alpha': 4.239283976142879e-06,\n",
    "    'reg_lambda': 7.270434099537632e-05\n",
    "}"
   ]
  },
  {
   "cell_type": "code",
   "execution_count": null,
   "id": "d02de712",
   "metadata": {
    "ExecuteTime": {
     "end_time": "2024-01-02T23:44:12.842692Z",
     "start_time": "2024-01-02T23:43:31.815224Z"
    }
   },
   "outputs": [],
   "source": [
    "param_name = \"n_estimators\"\n",
    "param_range = np.arange(1000, 3000, 500)\n",
    "fixed_params = params_xgb.copy()\n",
    "\n",
    "plot_lgbm_param_scores(param_name, param_range, fixed_params, train_x, train_y, val_x, val_y)"
   ]
  },
  {
   "cell_type": "code",
   "execution_count": null,
   "id": "da21af52",
   "metadata": {
    "ExecuteTime": {
     "end_time": "2024-01-02T21:56:17.880709Z",
     "start_time": "2024-01-02T21:56:15.750250Z"
    }
   },
   "outputs": [],
   "source": [
    "# model training\n",
    "clf_xgb.fit( train_x, train_y )\n",
    "\n",
    "# model prediction - Check if the model perform well\n",
    "yhat_xgb = clf_xgb.predict( val_x )"
   ]
  },
  {
   "cell_type": "code",
   "execution_count": null,
   "id": "81406654",
   "metadata": {
    "ExecuteTime": {
     "end_time": "2024-01-02T21:17:38.278962Z",
     "start_time": "2024-01-02T21:17:38.251376Z"
    }
   },
   "outputs": [],
   "source": [
    "precision_score(val_y, yhat_xgb, average='micro') "
   ]
  },
  {
   "cell_type": "code",
   "execution_count": null,
   "id": "4821e9f6",
   "metadata": {
    "ExecuteTime": {
     "end_time": "2024-01-02T21:17:39.305119Z",
     "start_time": "2024-01-02T21:17:38.937622Z"
    }
   },
   "outputs": [],
   "source": [
    "cm_xgb = confusion_matrix(val_y, yhat_xgb,  labels=clf_xgb.classes_)\n",
    "cm_xgb_disp = ConfusionMatrixDisplay(confusion_matrix=cm_xgb,\n",
    "                                     display_labels=clf_xgb.classes_,\n",
    "                                    )\n",
    "\n",
    "cm_xgb_disp.plot(cmap=plt.cm.Blues)\n",
    "plt.grid(False) # removing grid\n",
    "plt.gca().set_facecolor('white') # changing background color to white\n",
    "\n",
    "plt.show()"
   ]
  },
  {
   "cell_type": "markdown",
   "id": "ac669a47",
   "metadata": {},
   "source": [
    "0 represents Satisfied\n",
    "1 represents Neutral or Dissatisfaction"
   ]
  },
  {
   "cell_type": "markdown",
   "id": "413c1a7b",
   "metadata": {},
   "source": [
    "### 7.2.2 LGBM"
   ]
  },
  {
   "cell_type": "code",
   "execution_count": null,
   "id": "a8730fd3",
   "metadata": {
    "ExecuteTime": {
     "end_time": "2024-01-02T23:38:16.555293Z",
     "start_time": "2024-01-02T23:38:12.283645Z"
    }
   },
   "outputs": [],
   "source": [
    "clf_lgbm = lgbm.LGBMClassifier()\n",
    "\n",
    "evallgbm = cross_validation(5, 'LGBM', clf_lgbm, train_x, train_y)\n",
    "evallgbm"
   ]
  },
  {
   "cell_type": "code",
   "execution_count": null,
   "id": "4ef0fb0d",
   "metadata": {
    "ExecuteTime": {
     "end_time": "2024-01-02T21:20:03.523597Z",
     "start_time": "2024-01-02T21:20:02.450171Z"
    }
   },
   "outputs": [],
   "source": [
    "clf_lgbm = lgbm.LGBMClassifier()\n",
    "\n",
    "# model training\n",
    "clf_lgbm.fit( train_x, train_y )\n",
    "\n",
    "# model prediction - Check if the model perform well\n",
    "yhat_lgbm = clf_lgbm.predict( val_x )"
   ]
  },
  {
   "cell_type": "code",
   "execution_count": null,
   "id": "dff003de",
   "metadata": {
    "ExecuteTime": {
     "end_time": "2024-01-02T21:20:08.052790Z",
     "start_time": "2024-01-02T21:20:08.020608Z"
    }
   },
   "outputs": [],
   "source": [
    "precision_score(val_y, yhat_lgbm, average='micro') "
   ]
  },
  {
   "cell_type": "code",
   "execution_count": null,
   "id": "3a59c107",
   "metadata": {
    "ExecuteTime": {
     "end_time": "2024-01-02T21:20:13.115008Z",
     "start_time": "2024-01-02T21:20:12.714686Z"
    }
   },
   "outputs": [],
   "source": [
    "cm_lgbm = confusion_matrix(val_y, yhat_lgbm,  labels = clf_lgbm.classes_)\n",
    "cm_lgbm_disp = ConfusionMatrixDisplay(confusion_matrix = cm_lgbm,\n",
    "                                      display_labels = clf_lgbm.classes_,\n",
    "                                     )\n",
    "\n",
    "cm_lgbm_disp.plot(cmap=plt.cm.Blues)\n",
    "plt.grid(False) # removing grid\n",
    "plt.gca().set_facecolor('white') # changing background color to white\n",
    "\n",
    "plt.show()"
   ]
  },
  {
   "cell_type": "markdown",
   "id": "80b7501b",
   "metadata": {},
   "source": [
    "# 8. FINE TUNING"
   ]
  },
  {
   "cell_type": "markdown",
   "id": "094629f0",
   "metadata": {},
   "source": [
    "## 8.1 XGB"
   ]
  },
  {
   "cell_type": "code",
   "execution_count": null,
   "id": "6af0e684",
   "metadata": {
    "ExecuteTime": {
     "end_time": "2023-12-21T17:20:24.685248Z",
     "start_time": "2023-12-21T17:20:24.667382Z"
    }
   },
   "outputs": [],
   "source": [
    "def objective_xgb(trial):\n",
    "    \"\"\"Define the objective function\"\"\"\n",
    "\n",
    "    params = {\n",
    "        'max_depth': trial.suggest_int('max_depth', 5, 20),\n",
    "        'eta': trial.suggest_float('eta', 0.01, 0.05),\n",
    "        'learning_rate': trial.suggest_loguniform('learning_rate', 0.01, 1.0),\n",
    "        'n_estimators': trial.suggest_int('n_estimators', 100, 1000),\n",
    "        'min_child_weight': trial.suggest_int('min_child_weight', 1, 15),\n",
    "        'gamma': trial.suggest_loguniform('gamma', 1e-8, 1.0),\n",
    "        'subsample': trial.suggest_loguniform('subsample', 0.01, 1.0),\n",
    "        'colsample_bytree': trial.suggest_loguniform('colsample_bytree', 0.1, 1.0),\n",
    "        'reg_alpha': trial.suggest_loguniform('reg_alpha', 1e-8, 1.0),\n",
    "        'reg_lambda': trial.suggest_loguniform('reg_lambda', 1e-8, 1.0),\n",
    "        'eval_metric': 'mlogloss',\n",
    "        'use_label_encoder': False\n",
    "    }\n",
    "\n",
    "    # Fit the model\n",
    "    optuna_xgb = XGBClassifier(**params)\n",
    "    optuna_xgb.fit(x_train, y_train)\n",
    "\n",
    "    # Make predictions\n",
    "    optuna_xgb_pred = optuna_xgb.predict(test_x)\n",
    "\n",
    "    # Evaluate predictions\n",
    "    precision = precision_score(test_y, optuna_xgb_pred, average='micro')\n",
    "    return precision"
   ]
  },
  {
   "cell_type": "code",
   "execution_count": null,
   "id": "ff103e44",
   "metadata": {
    "ExecuteTime": {
     "end_time": "2023-12-21T19:47:57.801242Z",
     "start_time": "2023-12-21T17:20:25.296624Z"
    }
   },
   "outputs": [],
   "source": [
    "# %%time\n",
    "# study_xgb = optuna.create_study(direction='maximize')\n",
    "# study_xgb.optimize(objective_xgb, n_trials=150)"
   ]
  },
  {
   "cell_type": "code",
   "execution_count": null,
   "id": "3f8c8221",
   "metadata": {
    "ExecuteTime": {
     "end_time": "2023-12-21T19:47:57.862718Z",
     "start_time": "2023-12-21T19:47:57.805153Z"
    }
   },
   "outputs": [],
   "source": [
    "print('Number of finished trials: {}'.format(len(study_xgb.trials)))\n",
    "print('Best trial:')\n",
    "trial = study_xgb.best_trial\n",
    "\n",
    "print('  Value: {}'.format(trial.value))\n",
    "print('  Params: ')\n",
    "\n",
    "for key, value in trial.params.items():\n",
    "    print('    {}: {}'.format(key, value))"
   ]
  },
  {
   "cell_type": "code",
   "execution_count": null,
   "id": "872cd57e",
   "metadata": {
    "ExecuteTime": {
     "end_time": "2024-01-02T23:47:20.395037Z",
     "start_time": "2024-01-02T23:47:20.386938Z"
    }
   },
   "outputs": [],
   "source": [
    "params_xgb = {\n",
    "    'max_depth': 12,\n",
    "    'eta': 0.019834339603301256,\n",
    "    'learning_rate': 0.01249243707719708,\n",
    "    'n_estimators': 759,\n",
    "    'min_child_weight': 2,\n",
    "    'gamma': 0.3113641371820694,\n",
    "    'subsample': 0.7039764982894372,\n",
    "    'colsample_bytree': 0.6313892474468165,\n",
    "    'reg_alpha': 4.239283976142879e-06,\n",
    "    'reg_lambda': 7.270434099537632e-05\n",
    "}"
   ]
  },
  {
   "cell_type": "code",
   "execution_count": null,
   "id": "f1d29533",
   "metadata": {},
   "outputs": [],
   "source": [
    "fig = optuna.visualization.plot_slice(study_xgb, params=[\"learning_rate\", \"max_depth\", \"n_estimators\"])#, \"reg_alpha\", \"reg_lambda\"])\n",
    "fig.show()"
   ]
  },
  {
   "cell_type": "code",
   "execution_count": null,
   "id": "c47dccc0",
   "metadata": {},
   "outputs": [],
   "source": [
    "param_name = \"max_depth\"\n",
    "param_range = np.arange(6, 24, 1)\n",
    "fixed_params = params_xgb.copy()\n",
    "\n",
    "plot_scores(param_name, param_range, fixed_params, XGBClassifier, x_train, y_train, x_valid, y_valid)"
   ]
  },
  {
   "cell_type": "markdown",
   "id": "8d19da8f",
   "metadata": {},
   "source": [
    "## 8.2 LGBM"
   ]
  },
  {
   "cell_type": "code",
   "execution_count": null,
   "id": "b92cc903",
   "metadata": {
    "ExecuteTime": {
     "end_time": "2023-12-22T09:35:55.079600Z",
     "start_time": "2023-12-22T09:35:55.057137Z"
    }
   },
   "outputs": [],
   "source": [
    "def objective_lgbm(trial):\n",
    "    \"\"\"Objective function\"\"\"\n",
    "    param = {\n",
    "        \"n_estimators\":trial.suggest_int('n_estimators', 100, 1000),\n",
    "        'boosting_type': trial.suggest_categorical('boosting_type', ['gbdt','dart']),\n",
    "        'reg_alpha': trial.suggest_float('reg_alpha', 1e-3, 1e-1, log=True),\n",
    "        'reg_lambda': trial.suggest_float('reg_lambda', 1e-6, 1e-4, log=True),\n",
    "        \"learning_rate\":trial.suggest_float('learning_rate', 0.01, 0.1),\n",
    "        \"max_depth\":trial.suggest_int('max_depth', 5, 20),\n",
    "        \"objective\": \"binary\",\n",
    "        \"metric\": \"binary_logloss\",\n",
    "        \"num_leaves\": trial.suggest_int(\"num_leaves\", 2, 256),\n",
    "        \"bagging_fraction\": trial.suggest_float(\"bagging_fraction\", 0.4, 1.0),\n",
    "    }\n",
    "    \n",
    "    # Definicao do Modelo\n",
    "    lgbm_model = lgbm.LGBMClassifier(**param)\n",
    "    \n",
    "    # Treinamento do Modelo\n",
    "    lgbm_model.fit(train_x, train_y)\n",
    "    \n",
    "    # Predicoes do Modelo\n",
    "    preds = lgbm_model.predict(test_x)\n",
    "    \n",
    "    # Metrica\n",
    "    precision = precision_score(test_y, preds, average='micro')\n",
    "    return precision"
   ]
  },
  {
   "cell_type": "code",
   "execution_count": null,
   "id": "c1abb444",
   "metadata": {
    "ExecuteTime": {
     "end_time": "2023-12-22T11:03:43.171149Z",
     "start_time": "2023-12-22T09:38:24.311185Z"
    }
   },
   "outputs": [],
   "source": [
    "# %%time\n",
    "# study_lgbm = optuna.create_study(direction='maximize')\n",
    "# study_lgbm.optimize(objective_lgbm, n_trials=150)"
   ]
  },
  {
   "cell_type": "code",
   "execution_count": null,
   "id": "8ed7a89d",
   "metadata": {
    "ExecuteTime": {
     "end_time": "2023-12-22T11:03:43.218301Z",
     "start_time": "2023-12-22T11:03:43.174196Z"
    }
   },
   "outputs": [],
   "source": [
    "print('Number of finished trials: {}'.format(len(study_lgbm.trials)))\n",
    "print('Best trial:')\n",
    "trial = study_lgbm.best_trial\n",
    "\n",
    "print('  Value: {}'.format(trial.value))\n",
    "print('  Params: ')\n",
    "\n",
    "for key, value in trial.params.items():\n",
    "    print('    {}: {}'.format(key, value))"
   ]
  },
  {
   "cell_type": "code",
   "execution_count": null,
   "id": "677be48d",
   "metadata": {
    "ExecuteTime": {
     "end_time": "2024-01-02T22:15:08.361373Z",
     "start_time": "2024-01-02T22:15:08.352001Z"
    }
   },
   "outputs": [],
   "source": [
    "params_lgbm = {\n",
    "    'n_estimators': 615,\n",
    "    'boosting_type': 'dart',\n",
    "    'reg_alpha': 0.001060107983785464,\n",
    "    'reg_lambda': 4.014338101780075e-06,\n",
    "    'learning_rate': 0.06976461270675846,\n",
    "    'max_depth': 18,\n",
    "    'num_leaves': 74,\n",
    "    'bagging_fraction': 0.6210384794469442\n",
    "}"
   ]
  },
  {
   "cell_type": "code",
   "execution_count": null,
   "id": "d5f7d9ac",
   "metadata": {
    "ExecuteTime": {
     "end_time": "2023-12-22T11:16:23.072869Z",
     "start_time": "2023-12-22T11:16:22.853171Z"
    }
   },
   "outputs": [],
   "source": [
    "fig = optuna.visualization.plot_slice(study_lgbm, params=[\"learning_rate\", \"max_depth\", \"n_estimators\", \"reg_alpha\", \"reg_lambda\"])\n",
    "fig.show()"
   ]
  },
  {
   "cell_type": "code",
   "execution_count": null,
   "id": "3fe4bdb9",
   "metadata": {
    "ExecuteTime": {
     "end_time": "2023-12-22T11:37:55.801214Z",
     "start_time": "2023-12-22T11:25:26.420991Z"
    }
   },
   "outputs": [],
   "source": [
    "param_name = \"max_depth\"\n",
    "param_range = np.arange(6, 24, 1)\n",
    "fixed_params = params_lgbm.copy()\n",
    "\n",
    "plot_scores(param_name, param_range, fixed_params, lgbm.LGBMClassifier, x_train, y_train, x_valid, y_valid)"
   ]
  },
  {
   "cell_type": "markdown",
   "id": "caedf109",
   "metadata": {},
   "source": [
    "# 9.0 MACHINE LEARNING MODELS AFTER TUNING"
   ]
  },
  {
   "cell_type": "code",
   "execution_count": null,
   "id": "e6f8aba1",
   "metadata": {
    "ExecuteTime": {
     "end_time": "2024-01-02T23:45:58.551041Z",
     "start_time": "2024-01-02T23:45:57.798784Z"
    }
   },
   "outputs": [],
   "source": [
    "X = train_prep(df_raw)"
   ]
  },
  {
   "cell_type": "code",
   "execution_count": null,
   "id": "52d4569c",
   "metadata": {
    "ExecuteTime": {
     "end_time": "2024-01-02T23:45:58.581780Z",
     "start_time": "2024-01-02T23:45:58.555869Z"
    }
   },
   "outputs": [],
   "source": [
    "X_training = X.drop( ['satisfaction'], axis=1 )\n",
    "y_training = X['satisfaction'].copy()"
   ]
  },
  {
   "cell_type": "markdown",
   "id": "2e904ada",
   "metadata": {},
   "source": [
    "## 9.1 XGB"
   ]
  },
  {
   "cell_type": "code",
   "execution_count": null,
   "id": "aa90b93c",
   "metadata": {
    "ExecuteTime": {
     "end_time": "2024-01-02T23:50:24.455262Z",
     "start_time": "2024-01-02T23:49:17.819463Z"
    }
   },
   "outputs": [],
   "source": [
    "xgb_tuned = XGBClassifier(**params_xgb)\n",
    "\n",
    "eval_xgb = cross_validation(5, 'XGB', xgb_tuned, X_training, y_training)\n",
    "eval_xgb"
   ]
  },
  {
   "cell_type": "markdown",
   "id": "90d9ccc6",
   "metadata": {},
   "source": [
    "## 9.2 LGBM"
   ]
  },
  {
   "cell_type": "code",
   "execution_count": null,
   "id": "239d8cba",
   "metadata": {
    "ExecuteTime": {
     "end_time": "2024-01-02T22:21:05.273898Z",
     "start_time": "2024-01-02T22:17:15.636819Z"
    }
   },
   "outputs": [],
   "source": [
    "lgbm_tuned = lgbm.LGBMClassifier(**params_lgbm)\n",
    "\n",
    "eval_lgbm = cross_validation(5, 'LGBM', lgbm_tuned, X_training, y_training)\n",
    "eval_lgbm"
   ]
  },
  {
   "cell_type": "markdown",
   "id": "a8a338b5",
   "metadata": {
    "heading_collapsed": true
   },
   "source": [
    "## Last Training to save for deploy"
   ]
  },
  {
   "cell_type": "code",
   "execution_count": null,
   "id": "a1e37bc8",
   "metadata": {
    "ExecuteTime": {
     "end_time": "2024-01-02T21:44:42.087279Z",
     "start_time": "2024-01-02T21:43:51.479549Z"
    },
    "hidden": true
   },
   "outputs": [],
   "source": [
    "#lgbm_tunado = lgbm.LGBMClassifier(**params_lgbm).fit(X, y)"
   ]
  },
  {
   "cell_type": "code",
   "execution_count": null,
   "id": "6c810937",
   "metadata": {
    "ExecuteTime": {
     "end_time": "2024-01-02T21:44:42.241708Z",
     "start_time": "2024-01-02T21:44:42.089280Z"
    },
    "hidden": true
   },
   "outputs": [],
   "source": [
    "# Saving trained model to production\n",
    "#joblib.dump(lgbm_tunado, 'lgbm.joblib')"
   ]
  },
  {
   "cell_type": "markdown",
   "id": "dc6876b3",
   "metadata": {
    "heading_collapsed": true
   },
   "source": [
    "## 9.3 ENSEMBLE"
   ]
  },
  {
   "cell_type": "code",
   "execution_count": null,
   "id": "80823633",
   "metadata": {
    "ExecuteTime": {
     "end_time": "2023-12-22T17:36:48.481478Z",
     "start_time": "2023-12-22T17:36:48.465528Z"
    },
    "hidden": true
   },
   "outputs": [],
   "source": [
    "from sklearn.ensemble import VotingClassifier"
   ]
  },
  {
   "cell_type": "code",
   "execution_count": null,
   "id": "1463f912",
   "metadata": {
    "ExecuteTime": {
     "end_time": "2023-12-22T17:39:18.719891Z",
     "start_time": "2023-12-22T17:37:52.450365Z"
    },
    "hidden": true
   },
   "outputs": [],
   "source": [
    "Ensemble = VotingClassifier(estimators = [('lgbm', clfft_lgbm), ('xgb', clfft_xgb)], \n",
    "                            voting='hard',\n",
    "                            weights = [0.8,0.2])\n",
    "Ensemble.fit(X, y)"
   ]
  },
  {
   "cell_type": "markdown",
   "id": "b69e131e",
   "metadata": {
    "heading_collapsed": true
   },
   "source": [
    "# 10. SUBMISSION"
   ]
  },
  {
   "cell_type": "code",
   "execution_count": null,
   "id": "cf40a856",
   "metadata": {
    "ExecuteTime": {
     "end_time": "2023-12-22T17:41:07.531063Z",
     "start_time": "2023-12-22T17:41:07.121062Z"
    },
    "hidden": true
   },
   "outputs": [],
   "source": [
    "# Model Prediction\n",
    "yhat_submission = Ensemble.predict(x_test)"
   ]
  },
  {
   "cell_type": "code",
   "execution_count": null,
   "id": "8f695174",
   "metadata": {
    "ExecuteTime": {
     "end_time": "2023-12-22T17:42:13.437268Z",
     "start_time": "2023-12-22T17:42:13.429753Z"
    },
    "hidden": true
   },
   "outputs": [],
   "source": [
    "x_test['satisfaction'] = yhat_submission"
   ]
  },
  {
   "cell_type": "code",
   "execution_count": null,
   "id": "26717a1e",
   "metadata": {
    "ExecuteTime": {
     "end_time": "2023-12-22T17:42:14.586650Z",
     "start_time": "2023-12-22T17:42:14.561750Z"
    },
    "hidden": true
   },
   "outputs": [],
   "source": [
    "submission = df_test[['id','satisfaction']]"
   ]
  },
  {
   "cell_type": "code",
   "execution_count": null,
   "id": "7b9be120",
   "metadata": {
    "ExecuteTime": {
     "end_time": "2023-12-22T17:42:15.069973Z",
     "start_time": "2023-12-22T17:42:15.041637Z"
    },
    "hidden": true
   },
   "outputs": [],
   "source": [
    "submission.head()"
   ]
  },
  {
   "cell_type": "code",
   "execution_count": null,
   "id": "002efa0a",
   "metadata": {
    "ExecuteTime": {
     "end_time": "2023-12-22T17:42:21.677450Z",
     "start_time": "2023-12-22T17:42:21.582654Z"
    },
    "hidden": true
   },
   "outputs": [],
   "source": [
    "submission.to_csv(\"submission.csv\", index=None, sep=',')"
   ]
  },
  {
   "cell_type": "markdown",
   "id": "52d761fb",
   "metadata": {
    "heading_collapsed": true
   },
   "source": [
    "# 11. TO PRODUCTION"
   ]
  },
  {
   "cell_type": "markdown",
   "id": "58845547",
   "metadata": {
    "hidden": true
   },
   "source": [
    "## 11.1 InStyle Class"
   ]
  },
  {
   "cell_type": "code",
   "execution_count": null,
   "id": "41fed752",
   "metadata": {
    "hidden": true
   },
   "outputs": [],
   "source": [
    "\n",
    "import json\n",
    "import joblib\n",
    "import inflection\n",
    "import pandas   as pd\n",
    "import numpy    as np\n",
    "\n",
    "class instyle( object ):\n",
    "    def __init__( self ):\n",
    "        self.home_path     = 'C:/Users/perot/Documents/ds_repos/API e WebAPP/InStyle_API/src/features'\n",
    "        self.fe_gender     = joblib.load( open( self.home_path + '/fe_gender.joblib', 'rb') )\n",
    "        self.fe_tpurchase  = joblib.load( open( self.home_path + '/fe_tpurchase.joblib', 'rb') )\n",
    "        self.mm_age        = joblib.load( open( self.home_path + '/mm_age.joblib', 'rb') )\n",
    "        self.oe_ageg       = joblib.load( open( self.home_path + '/oe_ageg.joblib', 'rb'))\n",
    "        self.oe_customer   = joblib.load( open( self.home_path + '/oe_customer.joblib', 'rb') )\n",
    "        self.oe_distance   = joblib.load( open( self.home_path + '/oe_distance.joblib', 'rb') )\n",
    "        self.oe_store      = joblib.load( open( self.home_path + '/oe_store.joblib', 'rb') )\n",
    "        self.rs_stored     = joblib.load( open( self.home_path + '/rs_stored.joblib', 'rb') )\n",
    "        \n",
    "    def test_prep(self, df):\n",
    "        ## Rename Columns\n",
    "        cols_old = ['id', 'Gender', 'Customer Type', 'Age', 'Type of Purchase','Store size', 'Store distance', 'InStore wifi',\n",
    "                    'Open/Close time convenient', 'Easy of online shopping', 'Store location', 'Toilet cleaning', 'Dressing room', \n",
    "                    'Waiting room','Kids entertainment', 'Seller service', 'Showroom ', 'Self-Store', 'Purchase service', \n",
    "                    'Store Service', 'Cleanliness', 'Carrier delay in minutes', 'Delivery delay in minutes']\n",
    "\n",
    "        snakecase = lambda x: inflection.underscore(x.replace(' ', '_'))\n",
    "        cols_new = list( map( snakecase, cols_old ) )\n",
    "\n",
    "        df.columns = cols_new\n",
    "\n",
    "        # FEATURE ENGINEERING\n",
    "\n",
    "        df['distancia'] = df['store_distance'].apply(lambda x: 'close' if x <= 2500 else \n",
    "                                                               'far' )\n",
    "\n",
    "\n",
    "\n",
    "        df['age_group'] = df['age'].apply(lambda x: 'young' if x <= 18 else\n",
    "                                                    'adult' if ((x > 18) and (x <= 60)) else\n",
    "                                                    'elderly')\n",
    "\n",
    "        # TRANSFORMERS\n",
    "        # gender\n",
    "        df['gender'] = df['gender'].map(self.fe_gender)\n",
    "\n",
    "        # type_of_purchase\n",
    "        df['type_of_purchase'] = df['type_of_purchase'].map( self.fe_tpurchase )\n",
    "\n",
    "        # distance\n",
    "        df['distancia'] = self.oe_distance.transform(df[['distancia']].values)\n",
    "\n",
    "        # distance\n",
    "        df['age_group'] = self.oe_ageg.transform(df[['age_group']].values)\n",
    "\n",
    "        # distance\n",
    "        df['customer_type'] = self.oe_customer.transform(df[['customer_type']].values)\n",
    "\n",
    "        # Store Size\n",
    "        df['store_size'] = self.oe_store.transform(df[['store_size']].values)\n",
    "\n",
    "        # REESCALING\n",
    "\n",
    "        # age\n",
    "        df['age'] = self.mm_age.transform(df[['age']].values)\n",
    "\n",
    "        # Store Distance\n",
    "        df['store_distance'] = self.rs_stored.transform(df[['store_distance']].values)\n",
    "\n",
    "        # LOG TRANSFORMATION \n",
    "\n",
    "        # carrier_delay_in_minutes\n",
    "        df['carrier_delay_in_minutes'] = df['carrier_delay_in_minutes'].apply(lambda x: np.log(x) if x > 0 else x) \n",
    "\n",
    "        # delivery_delay_in_minutes\n",
    "        df['delivery_delay_in_minutes'] = df['delivery_delay_in_minutes'].apply(lambda x: np.log(x) if x > 0 else x) \n",
    "\n",
    "        return(df)\n",
    "    \n",
    "    def get_prediction (self, model, original_data, test_data ):\n",
    "        # prediction\n",
    "        pred = model.predict( test_data )\n",
    "        \n",
    "        # join pred into the original data\n",
    "        original_data['satisfaction'] =  pred \n",
    "        \n",
    "        return original_data.to_json( orient='records', date_format='iso' )  "
   ]
  },
  {
   "cell_type": "code",
   "execution_count": null,
   "id": "08006f8d",
   "metadata": {
    "hidden": true
   },
   "outputs": [],
   "source": [
    "import joblib\n",
    "import pandas as pd\n",
    "import os\n",
    "from flask                           import Flask, request, Response\n",
    "from instyle.instyle import instyle\n",
    "\n",
    "# logading model\n",
    "model = joblib.load( open('src/models/lgbm.joblib', 'rb') )\n",
    "                          \n",
    "# initialize API\n",
    "app = Flask( __name__ )\n",
    "\n",
    "@app.route( '/instyle/predict', methods=['POST'] )\n",
    "def instyle_predict():\n",
    "    test_json = request.get_json()\n",
    "    \n",
    "    if test_json: #there is data\n",
    "               \n",
    "        if isinstance( test_json, dict ): # unique example\n",
    "            test_raw = pd.DataFrame( test_json, index=[0] )\n",
    "    \n",
    "        else:\n",
    "            test_raw = pd.DataFrame( test_json, columns=test_json[0].keys() ) # multiple examples\n",
    "            \n",
    "        # Instantiate Instyle Class\n",
    "        pipeline = instyle()\n",
    "\n",
    "        # Data Preparation\n",
    "        df1 = pipeline.test_prep( test_raw )\n",
    "                              \n",
    "        # Prediction\n",
    "        df_response = pipeline.get_prediction( model, test_raw, df1 )\n",
    "        \n",
    "        return df_response\n",
    "        \n",
    "    else:\n",
    "        return Response( '{}', status=200, mimetype='application/json' )\n",
    "\n",
    "if __name__ == '__main__':\n",
    "    app.run('0.0.0.0')\n",
    "    #port = os.environ.get('PORT', 5000)\n",
    "    #app.run( host='0.0.0.0', port=port )"
   ]
  },
  {
   "cell_type": "markdown",
   "id": "f2a09fa0",
   "metadata": {
    "heading_collapsed": true
   },
   "source": [
    "# API CALL"
   ]
  },
  {
   "cell_type": "code",
   "execution_count": null,
   "id": "ff3d5de1",
   "metadata": {
    "ExecuteTime": {
     "end_time": "2023-12-24T15:25:07.022413Z",
     "start_time": "2023-12-24T15:25:06.556692Z"
    },
    "hidden": true
   },
   "outputs": [],
   "source": [
    "import requests\n",
    "import pandas as pd"
   ]
  },
  {
   "cell_type": "code",
   "execution_count": null,
   "id": "721f4e38",
   "metadata": {
    "ExecuteTime": {
     "end_time": "2023-12-24T15:25:07.709937Z",
     "start_time": "2023-12-24T15:25:07.626538Z"
    },
    "hidden": true
   },
   "outputs": [],
   "source": [
    "test = pd.read_csv('C:/Users/perot/Documents/ds_repos/projects/InStyle_Net_Promoter_Score/data/test.csv')"
   ]
  },
  {
   "cell_type": "code",
   "execution_count": null,
   "id": "9b7007f2",
   "metadata": {
    "ExecuteTime": {
     "end_time": "2023-12-24T15:25:08.364956Z",
     "start_time": "2023-12-24T15:25:08.345352Z"
    },
    "hidden": true
   },
   "outputs": [],
   "source": [
    "teste = test.head(10)"
   ]
  },
  {
   "cell_type": "code",
   "execution_count": null,
   "id": "e165e1a9",
   "metadata": {
    "ExecuteTime": {
     "end_time": "2023-12-24T15:25:09.459636Z",
     "start_time": "2023-12-24T15:25:08.885429Z"
    },
    "hidden": true
   },
   "outputs": [],
   "source": [
    "data = json.dumps( test.to_dict( orient='records'))"
   ]
  },
  {
   "cell_type": "code",
   "execution_count": null,
   "id": "f3b92d7f",
   "metadata": {
    "ExecuteTime": {
     "end_time": "2023-12-24T15:25:10.868881Z",
     "start_time": "2023-12-24T15:25:09.957495Z"
    },
    "hidden": true
   },
   "outputs": [],
   "source": [
    "# API Call\n",
    "url = 'http://127.0.0.1:5000/instyle/predict'\n",
    "header = {'Content-type': 'application/json'}\n",
    "data = data\n",
    "\n",
    "r = requests.post( url, data=data , headers=header )\n",
    "print( 'Stadus Code{}'.format( r.status_code ) )"
   ]
  },
  {
   "cell_type": "code",
   "execution_count": null,
   "id": "95306d69",
   "metadata": {
    "ExecuteTime": {
     "end_time": "2023-12-24T15:25:12.088275Z",
     "start_time": "2023-12-24T15:25:11.525610Z"
    },
    "hidden": true
   },
   "outputs": [],
   "source": [
    "d1 = pd.DataFrame( r.json(), columns=r.json()[0].keys() )"
   ]
  }
 ],
 "metadata": {
  "hide_input": false,
  "kernelspec": {
   "display_name": "Python 3 (ipykernel)",
   "language": "python",
   "name": "python3"
  },
  "language_info": {
   "codemirror_mode": {
    "name": "ipython",
    "version": 3
   },
   "file_extension": ".py",
   "mimetype": "text/x-python",
   "name": "python",
   "nbconvert_exporter": "python",
   "pygments_lexer": "ipython3",
   "version": "3.10.13"
  }
 },
 "nbformat": 4,
 "nbformat_minor": 5
}
