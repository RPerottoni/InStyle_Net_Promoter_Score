{
 "cells": [
  {
   "cell_type": "raw",
   "id": "1b5a917c-eea5-4c72-b12c-6df2f4139c6b",
   "metadata": {},
   "source": [
    "---\n",
    "title: \"InStyle Net Promoter Score\"\n",
    "format: \n",
    "  html:\n",
    "    code-fold: true\n",
    "jupyter: python3\n",
    "---"
   ]
  },
  {
   "cell_type": "markdown",
   "id": "ce96817c",
   "metadata": {},
   "source": [
    "# 0 - IMPORTS AND FUNCTIONS"
   ]
  },
  {
   "cell_type": "code",
   "execution_count": 1,
   "id": "179b485c",
   "metadata": {
    "ExecuteTime": {
     "end_time": "2024-01-06T13:22:38.723807Z",
     "start_time": "2024-01-06T13:22:36.093138Z"
    }
   },
   "outputs": [],
   "source": [
    "# Data Analysis and Data Manipulation Libraries\n",
    "import inflection\n",
    "import joblib\n",
    "import pandas                                       as pd\n",
    "import numpy                                        as np\n",
    "import seaborn                                      as sns\n",
    "import scikitplot                                   as skplt\n",
    "import plotly.express                               as px\n",
    "import plotly.graph_objects                         as go\n",
    "from matplotlib              import pyplot          as plt\n",
    "\n",
    "# Data Processing\n",
    "from sklearn                 import model_selection as ms\n",
    "from sklearn                 import preprocessing   as pp\n",
    "from sklearn.model_selection import KFold\n",
    "\n",
    "import optuna\n",
    "\n",
    "# ML Models and Metrics\n",
    "import lightgbm                                         as lgbm\n",
    "\n",
    "from catboost                import CatBoostClassifier\n",
    "from xgboost                 import XGBClassifier\n",
    "from sklearn.metrics         import precision_score \n",
    "from sklearn.metrics         import precision_recall_curve\n",
    "from sklearn.metrics         import confusion_matrix, ConfusionMatrixDisplay\n",
    "\n",
    "# Dysplay\n",
    "%matplotlib inline\n",
    "from IPython.core.display    import HTML\n",
    "from IPython.display         import Image\n",
    "\n",
    "import warnings\n",
    "warnings.filterwarnings( 'ignore' )"
   ]
  },
  {
   "cell_type": "markdown",
   "id": "05be3a58",
   "metadata": {},
   "source": [
    "### 0.1 - HELPER FUNCTIONS"
   ]
  },
  {
   "cell_type": "code",
   "execution_count": 87,
   "id": "81dd28bb",
   "metadata": {
    "ExecuteTime": {
     "end_time": "2024-01-06T20:26:39.185144Z",
     "start_time": "2024-01-06T20:26:39.142273Z"
    }
   },
   "outputs": [
    {
     "data": {
      "text/html": [
       "<style>.container { width:100% !important; }</style>"
      ],
      "text/plain": [
       "<IPython.core.display.HTML object>"
      ]
     },
     "metadata": {},
     "output_type": "display_data"
    }
   ],
   "source": [
    "def test_prep(dfte):\n",
    "    ######## TEST DATASET ############\n",
    "    ## Renaming Columns\n",
    "    cols_old = ['id', 'Gender', 'Customer Type', 'Age', 'Type of Purchase','Store size', 'Store distance', 'InStore wifi',\n",
    "                'Open/Close time convenient', 'Easy of online shopping', 'Store location', 'Toilet cleaning', 'Dressing room', \n",
    "                'Waiting room','Kids entertainment', 'Seller service', 'Showroom ', 'Self-Store', 'Purchase service', \n",
    "                'Store Service', 'Cleanliness', 'Carrier delay in minutes', 'Delivery delay in minutes']\n",
    "\n",
    "    snakecase = lambda x: inflection.underscore(x.replace(' ', '_'))\n",
    "    cols_new = list( map( snakecase, cols_old ) )\n",
    "\n",
    "    dfte.columns = cols_new\n",
    "    \n",
    "    # Fill NaN\n",
    "    dfte['delivery_delay_in_minutes'] = dfte['delivery_delay_in_minutes'].fillna(dfte['carrier_delay_in_minutes'])\n",
    "\n",
    "    \n",
    "    # TRANSFORMERS\n",
    "    \n",
    "    fe_gender    = joblib.load( 'fe_gender.joblib')\n",
    "    fe_tpurchase = joblib.load( 'fe_tpurchase.joblib')\n",
    "    oe_customer  = joblib.load( 'oe_customer.joblib')\n",
    "    oe_store     = joblib.load( 'oe_store_size.joblib')\n",
    "    mm_age       = joblib.load( 'mms_age.joblib')\n",
    "    rs_stored    = joblib.load( 'rs_stored.joblib')\n",
    "    \n",
    "    # gender\n",
    "    dfte['gender'] = dfte['gender'].map(fe_gender)\n",
    "    \n",
    "    # type_of_purchase\n",
    "    dfte['type_of_purchase'] = dfte['type_of_purchase'].map( fe_tpurchase )\n",
    "\n",
    "    # distance\n",
    "    dfte['customer_type'] =oe_customer.transform(dfte[['customer_type']].values)\n",
    "\n",
    "    # Store Size\n",
    "    dfte['store_size'] = oe_store.transform(dfte[['store_size']].values)\n",
    "\n",
    "    # REESCALING\n",
    " \n",
    "    # age\n",
    "    dfte['age'] = mm_age.transform(dfte[['age']].values)\n",
    "\n",
    "    # Store Distance\n",
    "    dfte['store_distance'] = rs_stored.transform(dfte[['store_distance']].values)\n",
    "\n",
    "    # TRANSFORMACAO LOGARITMICA \n",
    "    \n",
    "    # carrier_delay_in_minutes\n",
    "    dfte['carrier_delay_in_minutes'] = dfte['carrier_delay_in_minutes'].apply(lambda x: np.log(x) if x > 0 else x) \n",
    "\n",
    "    # delivery_delay_in_minutes\n",
    "    dfte['delivery_delay_in_minutes'] = dfte['delivery_delay_in_minutes'].apply(lambda x: np.log(x) if x > 0 else x) \n",
    "\n",
    "    return(dfte)\n",
    "\n",
    "def cross_validation(kfold, modelName, model, X, y):\n",
    "    \n",
    "    # Number of folds\n",
    "    fold=ms.StratifiedKFold(n_splits = kfold, shuffle=True, random_state=42)\n",
    "    \n",
    "    # Performance variables\n",
    "    precision_list = []\n",
    "    \n",
    "    for train_cv,val_cv in fold.split(X, y):\n",
    "        \n",
    "        # Separating train and validation dataset for each kfold\n",
    "        # training data\n",
    "        x_train_fold = X.iloc[train_cv]\n",
    "        x_train_fold = x_train_fold\n",
    "        \n",
    "        y_train_fold = y.iloc[train_cv]\n",
    "        y_train_fold = y_train_fold\n",
    "        \n",
    "        # validation data\n",
    "        x_val_fold = X.iloc[val_cv]\n",
    "        x_val_fold = x_val_fold\n",
    "        \n",
    "        y_val_fold = y.iloc[val_cv]\n",
    "        y_val_fold = y_val_fold\n",
    "        \n",
    "        # fitting the model\n",
    "        model_fitted = model.fit(x_train_fold, y_train_fold)\n",
    "        \n",
    "        # predict\n",
    "        yhat = model_fitted.predict(x_val_fold)\n",
    "        \n",
    "        #performance\n",
    "        precision = precision_score(y_val_fold, yhat, average='micro')\n",
    "        precision_list.append(precision)\n",
    "        \n",
    "    return np.mean(precision_list)\n",
    "\n",
    "def plot_scores(param_name, param_range, fixed_params, clf_model, X_train, y_train, X_val, y_val):\n",
    "    \n",
    "    train_scores = []\n",
    "    val_scores = []\n",
    "    \n",
    "    for param_value in param_range:\n",
    "        params = fixed_params\n",
    "        params[param_name] = param_value\n",
    "        \n",
    "        model = clf_model(**params)\n",
    "        model.fit(X_train, y_train)\n",
    "        \n",
    "        train_scores.append(precision_score(y_train, model.predict(X_train)))\n",
    "        val_scores.append(precision_score(y_val, model.predict(X_val)))\n",
    "    \n",
    "    plt.figure(figsize=(8, 4))\n",
    "    plt.plot(param_range, train_scores, label=\"Train\", color=\"#264653\", marker='o')\n",
    "    plt.plot(param_range, val_scores, label=\"Val\", color=\"#e76f51\", marker='o')\n",
    "\n",
    "    plt.title(\"LightGBM\")\n",
    "    plt.xlabel(param_name)\n",
    "    plt.ylabel(\"Precision\")\n",
    "    plt.tight_layout()\n",
    "    plt.legend(loc=\"best\");\n",
    "\n",
    "def jupyter_settings():\n",
    "    %matplotlib inline\n",
    "    \n",
    "    plt.style.use( 'bmh' )\n",
    "    plt.rcParams['figure.figsize'] = [15, 7]\n",
    "    plt.rcParams['font.size'] = 24\n",
    "    \n",
    "    display( HTML( '<style>.container { width:100% !important; }</style>') )\n",
    "    pd.options.display.max_columns = None\n",
    "    pd.options.display.max_rows = None\n",
    "    pd.set_option( 'display.expand_frame_repr', False )\n",
    "   \n",
    "    sns.set()\n",
    "jupyter_settings()"
   ]
  },
  {
   "cell_type": "markdown",
   "id": "82380eb7",
   "metadata": {
    "cell_style": "center"
   },
   "source": [
    "# 1 - DATA EXTRACTION"
   ]
  },
  {
   "cell_type": "code",
   "execution_count": 74,
   "id": "c520d31c",
   "metadata": {
    "ExecuteTime": {
     "end_time": "2024-01-06T20:22:23.941312Z",
     "start_time": "2024-01-06T20:22:23.740444Z"
    },
    "cell_style": "center"
   },
   "outputs": [],
   "source": [
    "# All Data - Windows\n",
    "df_raw = pd.read_csv('C:/Users/perot/Documents/ds_repos/projects/InStyle_Net_Promoter_Score/data/train.csv')"
   ]
  },
  {
   "cell_type": "code",
   "execution_count": 4,
   "id": "d5d15957",
   "metadata": {
    "ExecuteTime": {
     "end_time": "2024-01-06T13:22:38.959120Z",
     "start_time": "2024-01-06T13:22:38.948444Z"
    }
   },
   "outputs": [],
   "source": [
    "## Renaming Columns\n",
    "cols_old = ['id', 'Gender', 'Customer Type', 'Age', 'Type of Purchase','Store size', 'Store distance', 'InStore wifi',\n",
    "            'Open/Close time convenient', 'Easy of online shopping', 'Store location', 'Toilet cleaning', 'Dressing room', \n",
    "            'Waiting room','Kids entertainment', 'Seller service', 'Showroom ', 'Self-Store', 'Purchase service', \n",
    "            'Store Service', 'Cleanliness', 'Carrier delay in minutes', 'Delivery delay in minutes', 'Satisfaction']\n",
    "\n",
    "snakecase = lambda x: inflection.underscore(x.replace(' ', '_'))\n",
    "cols_new = list( map( snakecase, cols_old ) )\n",
    "\n",
    "df_raw.columns = cols_new"
   ]
  },
  {
   "cell_type": "code",
   "execution_count": 5,
   "id": "021166b1",
   "metadata": {
    "ExecuteTime": {
     "end_time": "2024-01-06T13:22:38.974646Z",
     "start_time": "2024-01-06T13:22:38.961088Z"
    }
   },
   "outputs": [],
   "source": [
    "df1 = df_raw.copy()"
   ]
  },
  {
   "cell_type": "markdown",
   "id": "80a64eaf",
   "metadata": {
    "heading_collapsed": true
   },
   "source": [
    "### 1.1 - Data Descriptive"
   ]
  },
  {
   "cell_type": "code",
   "execution_count": null,
   "id": "f74f6f5d",
   "metadata": {
    "ExecuteTime": {
     "end_time": "2024-01-03T21:19:28.350588Z",
     "start_time": "2024-01-03T21:19:28.342120Z"
    },
    "hidden": true
   },
   "outputs": [],
   "source": [
    "#prof = ProfileReport(df_raw)\n",
    "#prof.to_file(output_file='data_descriptive.html')"
   ]
  },
  {
   "cell_type": "code",
   "execution_count": null,
   "id": "e8e7bc75",
   "metadata": {
    "ExecuteTime": {
     "end_time": "2024-01-03T21:19:28.568490Z",
     "start_time": "2024-01-03T21:19:28.547751Z"
    },
    "hidden": true
   },
   "outputs": [],
   "source": [
    "# Data Dimensions\n",
    "print( 'Number of Rows: {}'.format( df1.shape[0] ) )\n",
    "print( 'Number of Cols: {}'.format( df1.shape[1] ) )"
   ]
  },
  {
   "cell_type": "code",
   "execution_count": null,
   "id": "740d7b7c",
   "metadata": {
    "ExecuteTime": {
     "end_time": "2024-01-03T21:19:28.710317Z",
     "start_time": "2024-01-03T21:19:28.687735Z"
    },
    "hidden": true
   },
   "outputs": [],
   "source": [
    "# Data Types\n",
    "df1.dtypes"
   ]
  },
  {
   "cell_type": "code",
   "execution_count": null,
   "id": "a62084af",
   "metadata": {
    "ExecuteTime": {
     "end_time": "2024-01-03T21:19:28.866459Z",
     "start_time": "2024-01-03T21:19:28.842800Z"
    },
    "hidden": true
   },
   "outputs": [],
   "source": [
    "# Verifying if there are NaN values\n",
    "df1.isna().sum()"
   ]
  },
  {
   "cell_type": "markdown",
   "id": "b937bed6",
   "metadata": {
    "hidden": true
   },
   "source": [
    "There are 310 missing values for the variable delivery_delay_in_minutes. The decision made is to fill the NaN values with the correspondent value on the column carrier_delay_in_minutes, because were noticed that when the carrier is 0, the delay is also 0, and around 50% of the NaN is 0 for carrier_delay."
   ]
  },
  {
   "cell_type": "code",
   "execution_count": null,
   "id": "4a74ec90",
   "metadata": {
    "ExecuteTime": {
     "end_time": "2024-01-06T12:17:14.594371Z",
     "start_time": "2024-01-06T12:17:14.554794Z"
    },
    "hidden": true
   },
   "outputs": [],
   "source": [
    "# Analyze and Fill NaN\n",
    "df1['delivery_delay_in_minutes'] = df1['delivery_delay_in_minutes'].fillna(df1['carrier_delay_in_minutes'])"
   ]
  },
  {
   "cell_type": "markdown",
   "id": "4c859d60",
   "metadata": {
    "heading_collapsed": true
   },
   "source": [
    "### 1.1.1 - Distribuition Analysis"
   ]
  },
  {
   "cell_type": "code",
   "execution_count": null,
   "id": "bba05eb6",
   "metadata": {
    "ExecuteTime": {
     "end_time": "2024-01-03T21:19:30.850164Z",
     "start_time": "2024-01-03T21:19:30.828672Z"
    },
    "hidden": true
   },
   "outputs": [],
   "source": [
    "# numerical features\n",
    "num_attributes = df1.select_dtypes(include=['int64', 'float64'])\n",
    "\n",
    "# categorical features\n",
    "cat_attributes = df1.select_dtypes(exclude=['int64', 'float64'])"
   ]
  },
  {
   "cell_type": "code",
   "execution_count": null,
   "id": "74c82bb9",
   "metadata": {
    "ExecuteTime": {
     "end_time": "2024-01-03T21:19:31.654454Z",
     "start_time": "2024-01-03T21:19:31.262434Z"
    },
    "hidden": true
   },
   "outputs": [],
   "source": [
    "# Central Tendency - mean, median\n",
    "ct1 = pd.DataFrame( num_attributes.apply( np.mean ) ).T\n",
    "ct2 = pd.DataFrame( num_attributes.apply( np.median ) ).T\n",
    "\n",
    "# Dispersion - std, min, max, range, skew, kurtosis\n",
    "d1 = pd.DataFrame( num_attributes.apply( np.std ) ).T\n",
    "d2 = pd.DataFrame( num_attributes.apply( min ) ).T\n",
    "d3 = pd.DataFrame( num_attributes.apply( max ) ).T\n",
    "d4 = pd.DataFrame( num_attributes.apply( lambda x: x.max() - x.min() ) ).T\n",
    "d5 = pd.DataFrame( num_attributes.apply( lambda x: x.skew() ) ).T\n",
    "d6 = pd.DataFrame( num_attributes.apply( lambda x: x.kurtosis() ) ).T\n",
    "\n",
    "# Concatenar\n",
    "m = pd.concat( [ d2, d3, d4, ct1, ct2, d1, d5, d6 ] ).T.reset_index()\n",
    "m.columns = ['attributes', 'min', 'max', 'range', 'mean', 'median', 'std', 'skew', 'kurtosis']\n",
    "m"
   ]
  },
  {
   "cell_type": "markdown",
   "id": "8a2a7dd3",
   "metadata": {},
   "source": [
    "# 2 - FEATURE ENGINEERING"
   ]
  },
  {
   "cell_type": "code",
   "execution_count": 6,
   "id": "88f55bba",
   "metadata": {
    "ExecuteTime": {
     "end_time": "2024-01-06T13:22:42.972192Z",
     "start_time": "2024-01-06T13:22:42.957639Z"
    }
   },
   "outputs": [],
   "source": [
    "df2 = df1.copy()"
   ]
  },
  {
   "cell_type": "markdown",
   "id": "9f147da5",
   "metadata": {},
   "source": [
    "# 3. DATA FILTERING"
   ]
  },
  {
   "cell_type": "code",
   "execution_count": 7,
   "id": "9b2d09ba",
   "metadata": {
    "ExecuteTime": {
     "end_time": "2024-01-06T13:22:43.346181Z",
     "start_time": "2024-01-06T13:22:43.329591Z"
    }
   },
   "outputs": [],
   "source": [
    "df3 = df2.copy()"
   ]
  },
  {
   "cell_type": "markdown",
   "id": "ad8b24ef",
   "metadata": {},
   "source": [
    "# 4. EDA"
   ]
  },
  {
   "cell_type": "code",
   "execution_count": 8,
   "id": "d5fde51b",
   "metadata": {
    "ExecuteTime": {
     "end_time": "2024-01-06T13:22:43.720021Z",
     "start_time": "2024-01-06T13:22:43.703157Z"
    }
   },
   "outputs": [],
   "source": [
    "df4_eda = df3.copy()"
   ]
  },
  {
   "cell_type": "markdown",
   "id": "41dd5d35",
   "metadata": {
    "heading_collapsed": true
   },
   "source": [
    "## 4.1 Univariate Analysis"
   ]
  },
  {
   "cell_type": "markdown",
   "id": "a8203723",
   "metadata": {
    "hidden": true
   },
   "source": [
    "### Numerical Attributes"
   ]
  },
  {
   "cell_type": "code",
   "execution_count": null,
   "id": "f6ed27d2",
   "metadata": {
    "ExecuteTime": {
     "end_time": "2024-01-03T21:19:40.923532Z",
     "start_time": "2024-01-03T21:19:37.542834Z"
    },
    "hidden": true
   },
   "outputs": [],
   "source": [
    "columns_to_plot = num_attributes.columns\n",
    "\n",
    "fig, axes = plt.subplots(nrows=7, ncols=3, figsize=(30, 15))\n",
    "fig.subplots_adjust(hspace=0.5)\n",
    "\n",
    "#Usar o divmod para encontrar os axes \n",
    "for i, column in enumerate(columns_to_plot):\n",
    "    row, col = divmod(i, 3)\n",
    "    ax = axes[row, col]\n",
    "    #plotar todos os boxplots\n",
    "    sns.boxplot(df1, x=column, ax=ax)\n",
    "    ax.set_title(column)\n",
    "\n",
    "plt.tight_layout()\n",
    "plt.show()"
   ]
  },
  {
   "cell_type": "markdown",
   "id": "7ca8dab0",
   "metadata": {
    "hidden": true
   },
   "source": [
    "### Categorical Attributes"
   ]
  },
  {
   "cell_type": "code",
   "execution_count": null,
   "id": "8a912aa8",
   "metadata": {
    "ExecuteTime": {
     "end_time": "2024-01-03T21:19:40.938503Z",
     "start_time": "2024-01-03T21:19:40.925535Z"
    },
    "hidden": true
   },
   "outputs": [],
   "source": [
    "labels = cat_attributes.columns\n",
    "label = 'satisfaction'"
   ]
  },
  {
   "cell_type": "code",
   "execution_count": null,
   "id": "98de3b2b",
   "metadata": {
    "ExecuteTime": {
     "end_time": "2024-01-03T21:19:42.441466Z",
     "start_time": "2024-01-03T21:19:40.940519Z"
    },
    "hidden": true
   },
   "outputs": [],
   "source": [
    "plt.figure(figsize=(14, len(labels) * 2))\n",
    "\n",
    "for i, col in enumerate(labels):\n",
    "    plt.subplot(len(labels) // 2 + 1, 3, i + 1)\n",
    "    sns.countplot(x=col, hue=label, data=df1)\n",
    "    plt.title(f\"{col} vs {label}\")\n",
    "    plt.tight_layout()"
   ]
  },
  {
   "cell_type": "markdown",
   "id": "2994e1e0",
   "metadata": {
    "heading_collapsed": true
   },
   "source": [
    "## 4.2 Bivariate Analysis"
   ]
  },
  {
   "cell_type": "code",
   "execution_count": null,
   "id": "22bf06c2",
   "metadata": {
    "ExecuteTime": {
     "end_time": "2024-01-03T21:19:42.456653Z",
     "start_time": "2024-01-03T21:19:42.444103Z"
    },
    "hidden": true
   },
   "outputs": [],
   "source": [
    "print(px.colors.qualitative.Plotly)"
   ]
  },
  {
   "cell_type": "code",
   "execution_count": null,
   "id": "d4078954",
   "metadata": {
    "ExecuteTime": {
     "end_time": "2024-01-03T21:19:43.280024Z",
     "start_time": "2024-01-03T21:19:42.458637Z"
    },
    "hidden": true
   },
   "outputs": [],
   "source": [
    "# 1 - As the dressing room score increases, the volume of dissatisfied customers decreases.\n",
    "# Hyphotesis is true.\n",
    "aux = df4_eda[['id','dressing_room','satisfaction']].groupby(['dressing_room','satisfaction']).count().reset_index()\n",
    "fig = px.bar(aux, x=\"dressing_room\", y=\"id\",\n",
    "             color='satisfaction',\n",
    "             barmode='group',\n",
    "             text='id',\n",
    "             color_discrete_sequence=['mediumturquoise', 'lightgreen'],\n",
    "             height=600,\n",
    "             width=1000)\n",
    "\n",
    "fig.update_traces(texttemplate='%{text:.2s}', \n",
    "                  textposition='outside')\n",
    "\n",
    "fig.update_layout(uniformtext_minsize=8, \n",
    "                  uniformtext_mode='hide',\n",
    "                  title={ 'text':'Dressing Room Score vs Customer Satisfaction', 'x':0.45, 'y':0.95},\n",
    "                  plot_bgcolor='white',\n",
    "                  paper_bgcolor='white')\n",
    "\n",
    "fig.show()"
   ]
  },
  {
   "cell_type": "code",
   "execution_count": null,
   "id": "101dfcd7",
   "metadata": {
    "ExecuteTime": {
     "end_time": "2024-01-03T21:19:43.357336Z",
     "start_time": "2024-01-03T21:19:43.282026Z"
    },
    "hidden": true
   },
   "outputs": [],
   "source": [
    "# 2 - As the toilet cleaning score increases, the volume of dissatisfied customers decreases.\n",
    "aux = df4_eda[['id','toilet_cleaning','satisfaction']].groupby(['toilet_cleaning','satisfaction']).count().reset_index()\n",
    "fig = px.bar(aux, x=\"toilet_cleaning\", y=\"id\",\n",
    "             color='satisfaction',\n",
    "             barmode='group',\n",
    "             text='id',\n",
    "             color_discrete_sequence=['mediumturquoise', 'lightgreen'],\n",
    "             height=600,\n",
    "             width=1000)\n",
    "\n",
    "fig.update_traces(texttemplate='%{text:.2s}', \n",
    "                  textposition='outside')\n",
    "\n",
    "fig.update_layout(uniformtext_minsize=8, \n",
    "                  uniformtext_mode='hide',\n",
    "                  title={ 'text':'Toilet Cleaning Score vs Customer Satisfaction', 'x':0.45, 'y':0.95},\n",
    "                  plot_bgcolor='white',\n",
    "                  paper_bgcolor='white')\n",
    "\n",
    "fig.show()"
   ]
  },
  {
   "cell_type": "code",
   "execution_count": null,
   "id": "1055d2a8",
   "metadata": {
    "ExecuteTime": {
     "end_time": "2024-01-03T21:19:43.418165Z",
     "start_time": "2024-01-03T21:19:43.359421Z"
    },
    "hidden": true
   },
   "outputs": [],
   "source": [
    "# 3 - Clientes homens sao em geral, mais satisfeitos que clientes mulheres.\n",
    "\n",
    "aux2 = pd.crosstab(df4_eda['gender'], df4_eda['satisfaction'])\n",
    "aux2['percentage'] = aux2['Neutral or Dissatisfaction']/(aux2['Neutral or Dissatisfaction']+aux2['Satisfied'])\n",
    "\n",
    "colors = ['mediumturquoise', 'lightgreen']\n",
    "\n",
    "fig = go.Figure(data=[go.Pie(labels= ['Neutral or Dissatisfaction', 'Satisfied'], values= [57, 56])])\n",
    "\n",
    "fig.update_traces(hoverinfo='label+percent', textinfo='value', textfont_size=20,\n",
    "                  marker=dict(colors=colors, line=dict(color='#000000', width=2)))\n",
    "\n",
    "\n",
    "fig.update_layout(uniformtext_minsize=8, \n",
    "                  uniformtext_mode='hide',\n",
    "                  title={ 'text':'Percent. of Gender vs Customer Satisfaction', 'x':0.40, 'y':0.95},\n",
    "                  height=600,  # Adjust the height as needed\n",
    "                  width=1000    # Adjust the width as needed\n",
    "                  )\n",
    "fig.show()"
   ]
  },
  {
   "cell_type": "code",
   "execution_count": null,
   "id": "fb896aa4",
   "metadata": {
    "ExecuteTime": {
     "end_time": "2024-01-03T21:19:43.496408Z",
     "start_time": "2024-01-03T21:19:43.419568Z"
    },
    "hidden": true
   },
   "outputs": [],
   "source": [
    "# 4 - The larger the store, the more satisfied its customers tend to be.\n",
    "aux1 = df4_eda[['id','store_size','satisfaction']].groupby(['store_size','satisfaction']).count().reset_index()\n",
    "\n",
    "fig = px.bar(aux1, x=\"store_size\", y=\"id\",\n",
    "             color='satisfaction',\n",
    "             barmode='group',\n",
    "             text='id',\n",
    "             color_discrete_sequence=['mediumturquoise', 'lightgreen'],\n",
    "             height=600,\n",
    "             width=1000)\n",
    "\n",
    "fig.update_traces(texttemplate='%{text:.2s}', \n",
    "                  textposition='outside')\n",
    "\n",
    "fig.update_layout(uniformtext_minsize=8, \n",
    "                  uniformtext_mode='hide',\n",
    "                  title={ 'text':'Store Size vs Customer Satisfaction', 'x':0.35, 'y':0.95},\n",
    "                  plot_bgcolor='white',\n",
    "                  paper_bgcolor='white')\n",
    "\n",
    "fig.show()"
   ]
  },
  {
   "cell_type": "code",
   "execution_count": null,
   "id": "b1b0aacc",
   "metadata": {
    "ExecuteTime": {
     "end_time": "2024-01-03T21:19:43.573081Z",
     "start_time": "2024-01-03T21:19:43.498409Z"
    },
    "hidden": true
   },
   "outputs": [],
   "source": [
    "# Even unsatisfied customers are happy with the store service.\n",
    "aux =df4_eda[['id','store_service','satisfaction']].groupby(['store_service','satisfaction']).count().reset_index()\n",
    "\n",
    "fig = px.bar(aux, x=\"store_service\", y=\"id\",\n",
    "             color='satisfaction',\n",
    "             barmode='group',\n",
    "             text='id',\n",
    "             color_discrete_sequence=['mediumturquoise', 'lightgreen'],\n",
    "             height=600,\n",
    "             width=1000)\n",
    "\n",
    "fig.update_traces(texttemplate='%{text:.2s}', \n",
    "                  textposition='outside')\n",
    "\n",
    "fig.update_layout(uniformtext_minsize=8, \n",
    "                  uniformtext_mode='hide',\n",
    "                  title={ 'text':'Store Service Score vs Customer Satisfaction', 'x':0.50, 'y':0.95},\n",
    "                  plot_bgcolor='white',\n",
    "                  paper_bgcolor='white')\n",
    "\n",
    "fig.show()"
   ]
  },
  {
   "cell_type": "markdown",
   "id": "4aebc137",
   "metadata": {
    "heading_collapsed": true
   },
   "source": [
    "## 4.3 Multivariate Analysis"
   ]
  },
  {
   "cell_type": "code",
   "execution_count": null,
   "id": "5eca5fd3",
   "metadata": {
    "ExecuteTime": {
     "end_time": "2024-01-03T21:19:44.728307Z",
     "start_time": "2024-01-03T21:19:43.576065Z"
    },
    "hidden": true
   },
   "outputs": [],
   "source": [
    "aux_43= num_attributes.copy()\n",
    "\n",
    "mask = np.zeros_like(aux_43.corr(), dtype=bool) \n",
    "mask[np.triu_indices_from(mask)] = True \n",
    "\n",
    "f, ax = plt.subplots(figsize=(16, 12))\n",
    "\n",
    "plt.title('Correlation Matrix',fontsize=18)\n",
    "sns.heatmap(aux_43.corr(),linewidths=0.25, fmt=\".2f\", cmap=\"Blues\", linecolor='w', annot=True, annot_kws={\"size\":11}, mask=mask, cbar_kws={\"shrink\": .9});"
   ]
  },
  {
   "cell_type": "markdown",
   "id": "ea6adb1f",
   "metadata": {},
   "source": [
    "# 5. DATA PREPARATION"
   ]
  },
  {
   "cell_type": "code",
   "execution_count": 62,
   "id": "bb1b8f36",
   "metadata": {
    "ExecuteTime": {
     "end_time": "2024-01-06T20:20:56.195419Z",
     "start_time": "2024-01-06T20:20:56.168861Z"
    }
   },
   "outputs": [],
   "source": [
    "df5 = df4_eda.copy()"
   ]
  },
  {
   "cell_type": "code",
   "execution_count": 63,
   "id": "af577ff0",
   "metadata": {
    "ExecuteTime": {
     "end_time": "2024-01-06T20:20:56.647694Z",
     "start_time": "2024-01-06T20:20:56.358435Z"
    }
   },
   "outputs": [],
   "source": [
    "# FREQUENCY ENCODER\n",
    "# gender\n",
    "fe_gender = df5.groupby('gender').size() / len(df5)\n",
    "df5['gender'] = df5['gender'].map( fe_gender )\n",
    "joblib.dump(fe_gender, 'fe_gender.joblib')\n",
    "\n",
    "# type_of_purchase\n",
    "fe_tpurchase = df5.groupby( 'type_of_purchase' ).size() / len( df5 ) \n",
    "df5['type_of_purchase'] = df5['type_of_purchase'].map( fe_tpurchase )\n",
    "joblib.dump(fe_tpurchase, 'fe_tpurchase.joblib')\n",
    "\n",
    "# ORDINAL ENCODER\n",
    "oea = pp.OrdinalEncoder()\n",
    "oeb = pp.OrdinalEncoder()\n",
    "\n",
    "# distance\n",
    "df5['distance'] = oea.fit_transform(df5[['distance']].values)\n",
    "#joblib.dump(oe_distance, 'oe_distance.joblib')\n",
    "\n",
    "# age_group\n",
    "df5['age_group'] = oeb.fit_transform(df5[['age_group']].values)\n",
    "#joblib.dump(oe_ageg, 'oe_ageg.joblib')\n",
    "\n",
    "# distance\n",
    "df5['customer_type'] = oea.fit_transform(df5[['customer_type']].values)\n",
    "joblib.dump(oea, 'oe_customer.joblib')\n",
    "\n",
    "# Store Size\n",
    "df5['store_size'] = oeb.fit_transform( df5[['store_size']].values )\n",
    "joblib.dump(oeb, 'oe_store_size.joblib')\n",
    "\n",
    "# REESCALING\n",
    "mms = pp.MinMaxScaler()\n",
    "\n",
    "# age\n",
    "df5['age'] = mms.fit_transform( df5[['age']].values )\n",
    "joblib.dump(mms, 'mms_age.joblib')\n",
    "\n",
    "# ROBUST SCALER\n",
    "rs = pp.RobustScaler()\n",
    "\n",
    "# Store Distance\n",
    "df5['store_distance'] = rs.fit_transform( df5[['store_distance']].values )\n",
    "joblib.dump(rs, 'rs_stored.joblib')\n",
    "\n",
    "# TRANSFORMACAO LOGARITMICA \n",
    "# carrier_delay_in_minutes\n",
    "df5['carrier_delay_in_minutes'] = df5['carrier_delay_in_minutes'].apply(lambda x: np.log(x) if x > 0 else x) \n",
    "\n",
    "# delivery_delay_in_minutes\n",
    "df5['delivery_delay_in_minutes'] = df5['delivery_delay_in_minutes'].apply(lambda x: np.log(x) if x > 0 else x) \n",
    "\n",
    "# Response\n",
    "# satisfaction\n",
    "df5['satisfaction'] = df5['satisfaction'].apply(lambda x: 1 if x=='Satisfied' else 0)"
   ]
  },
  {
   "cell_type": "markdown",
   "id": "49b4282c",
   "metadata": {
    "heading_collapsed": true
   },
   "source": [
    "# 6. FEATURE SELECTION"
   ]
  },
  {
   "cell_type": "code",
   "execution_count": null,
   "id": "78170a55",
   "metadata": {
    "ExecuteTime": {
     "end_time": "2024-01-03T20:16:51.579891Z",
     "start_time": "2024-01-03T20:16:50.606821Z"
    },
    "hidden": true
   },
   "outputs": [],
   "source": [
    "df6 = df_raw.copy()\n",
    "df6_prep = train_prep(df6)\n",
    "feat_x = df6_prep.drop(['satisfaction'], axis=1)\n",
    "feat_y = df6_prep['satisfaction'].copy() "
   ]
  },
  {
   "cell_type": "code",
   "execution_count": null,
   "id": "6d1f6518",
   "metadata": {
    "ExecuteTime": {
     "end_time": "2024-01-03T20:16:51.581396Z",
     "start_time": "2024-01-03T20:16:51.581396Z"
    },
    "hidden": true
   },
   "outputs": [],
   "source": [
    "# model definition\n",
    "xgboost = XGBClassifier()\n",
    "\n",
    "# model training\n",
    "xgboost.fit(feat_x, feat_y)"
   ]
  },
  {
   "cell_type": "code",
   "execution_count": null,
   "id": "a7ced9e8",
   "metadata": {
    "ExecuteTime": {
     "end_time": "2024-01-03T20:16:51.582403Z",
     "start_time": "2024-01-03T20:16:51.582403Z"
    },
    "hidden": true
   },
   "outputs": [],
   "source": [
    "feature_importances = xgboost.feature_importances_\n",
    "feature_names = feat_x.columns \n",
    "feature_importance_dict = dict(zip(feature_names, feature_importances))\n",
    "sorted_feature_importance = sorted(feature_importance_dict.items(), key=lambda x: x[1], reverse=True)\n",
    "sorted_feature_names, sorted_importance_scores = zip(*sorted_feature_importance)\n",
    "plt.figure(figsize=(10, 10))\n",
    "\n",
    "plt.barh(sorted_feature_names, sorted_importance_scores)\n",
    "plt.xlabel(\"Feature Importance\")\n",
    "plt.ylabel(\"Feature Name\")\n",
    "plt.title(\"Feature Importance\")\n",
    "plt.show()"
   ]
  },
  {
   "cell_type": "markdown",
   "id": "a269f4a4",
   "metadata": {
    "hidden": true
   },
   "source": [
    "As this is the first cycle, we will consider all features for the model, but it is something that could be tested ont he new further cycles and see the impact on performance, resources, etc."
   ]
  },
  {
   "cell_type": "markdown",
   "id": "a4bbd0c9",
   "metadata": {},
   "source": [
    "# 7. MACHINE LEARNING"
   ]
  },
  {
   "cell_type": "code",
   "execution_count": 11,
   "id": "c6c1a312",
   "metadata": {
    "ExecuteTime": {
     "end_time": "2024-01-06T13:22:52.213868Z",
     "start_time": "2024-01-06T13:22:52.181611Z"
    }
   },
   "outputs": [],
   "source": [
    "df7 = df5.copy()"
   ]
  },
  {
   "cell_type": "markdown",
   "id": "48471f52",
   "metadata": {},
   "source": [
    "## 7.1 - DATASET SPLIT"
   ]
  },
  {
   "cell_type": "code",
   "execution_count": 12,
   "id": "47506d22",
   "metadata": {
    "ExecuteTime": {
     "end_time": "2024-01-06T13:22:52.758266Z",
     "start_time": "2024-01-06T13:22:52.668980Z"
    }
   },
   "outputs": [
    {
     "name": "stdout",
     "output_type": "stream",
     "text": [
      " train_x: (72731, 23)\n",
      " train_y: (72731,)\n",
      " val_x: (15586, 23)\n",
      " val_y: (15586,)\n",
      " test_x: (15587, 23)\n",
      " test_y: (15587,)\n",
      "\n"
     ]
    }
   ],
   "source": [
    "# Dividindo o dataset em treino, validacao e teste\n",
    "X = df7.drop( ['satisfaction'], axis=1 )\n",
    "y = df7['satisfaction'].copy()\n",
    "\n",
    "train_x, val_x, train_y, val_y   = ms.train_test_split( X, y, test_size=0.15, shuffle=True, random_state=None )\n",
    "train_x, test_x, train_y, test_y   = ms.train_test_split( train_x, train_y, test_size=0.176475917, shuffle=True, random_state=None )\n",
    "print(f\" train_x: {train_x.shape}\\n train_y: {train_y.shape}\\n val_x: {val_x.shape}\\n val_y: {val_y.shape}\\n test_x: {test_x.shape}\\n test_y: {test_y.shape}\\n\")"
   ]
  },
  {
   "cell_type": "markdown",
   "id": "d9f15c43",
   "metadata": {},
   "source": [
    "## 7.2 Machine Learning Models"
   ]
  },
  {
   "cell_type": "markdown",
   "id": "1955ecc5",
   "metadata": {},
   "source": [
    "The goal is to select the model that is cappable to classify/identify the highest number of dissatisfied customers. We are going to use two machine learning algorithms:\n",
    "* Extreme Boosting Classifier\n",
    "\n",
    "* Light Gradient Boosting Classifier"
   ]
  },
  {
   "cell_type": "markdown",
   "id": "09561de2",
   "metadata": {},
   "source": [
    "### 7.2.1 XGB"
   ]
  },
  {
   "cell_type": "markdown",
   "id": "1dee15e2",
   "metadata": {},
   "source": [
    "#### performance using cross_validation technique"
   ]
  },
  {
   "cell_type": "code",
   "execution_count": 13,
   "id": "6ec0a178",
   "metadata": {
    "ExecuteTime": {
     "end_time": "2024-01-06T13:23:04.460520Z",
     "start_time": "2024-01-06T13:22:55.400788Z"
    }
   },
   "outputs": [
    {
     "data": {
      "text/plain": [
       "0.9629456565688816"
      ]
     },
     "execution_count": 13,
     "metadata": {},
     "output_type": "execute_result"
    }
   ],
   "source": [
    "clf_xgb = XGBClassifier()\n",
    "\n",
    "evalxgb = cross_validation(5, 'XGB', clf_xgb, train_x, train_y)\n",
    "evalxgb"
   ]
  },
  {
   "cell_type": "markdown",
   "id": "880270aa",
   "metadata": {},
   "source": [
    "#### performance using train_test_val split"
   ]
  },
  {
   "cell_type": "code",
   "execution_count": 14,
   "id": "3551db92",
   "metadata": {
    "ExecuteTime": {
     "end_time": "2024-01-06T13:23:06.716245Z",
     "start_time": "2024-01-06T13:23:04.463520Z"
    }
   },
   "outputs": [
    {
     "data": {
      "text/plain": [
       "0.9660592839727961"
      ]
     },
     "execution_count": 14,
     "metadata": {},
     "output_type": "execute_result"
    }
   ],
   "source": [
    "clf_xgb_one = XGBClassifier()\n",
    "\n",
    "# model training\n",
    "clf_xgb_one.fit( train_x, train_y )\n",
    "\n",
    "# model prediction - Check if the model perform well\n",
    "yhat_xgb_one = clf_xgb_one.predict( val_x )\n",
    "\n",
    "# Evaluation\n",
    "precision_score(val_y, yhat_xgb_one, average='micro') "
   ]
  },
  {
   "cell_type": "code",
   "execution_count": 15,
   "id": "4821e9f6",
   "metadata": {
    "ExecuteTime": {
     "end_time": "2024-01-06T13:23:06.965822Z",
     "start_time": "2024-01-06T13:23:06.718246Z"
    }
   },
   "outputs": [
    {
     "data": {
      "image/png": "[encoded data removed]",
      "text/plain": [
       "<Figure size 1500x700 with 2 Axes>"
      ]
     },
     "metadata": {},
     "output_type": "display_data"
    }
   ],
   "source": [
    "cm_xgb = confusion_matrix(val_y, yhat_xgb_one, labels=clf_xgb_one.classes_)\n",
    "cm_xgb_disp = ConfusionMatrixDisplay(confusion_matrix=cm_xgb, display_labels=clf_xgb_one.classes_)\n",
    "cm_xgb_disp.plot(cmap=plt.cm.Blues)\n",
    "\n",
    "plt.title('Confusion Matrix for XGBoost', fontsize=18)\n",
    "plt.grid(False)\n",
    "plt.gca().set_facecolor('white')\n",
    "\n",
    "plt.show()"
   ]
  },
  {
   "cell_type": "markdown",
   "id": "ac669a47",
   "metadata": {},
   "source": [
    "* 0 represents Neutral or Dissatisfaction\n",
    "\n",
    "* 1 represents Satisfied\n",
    "\n",
    "The metric selected is precision, that evaluate the proportion of correct predictions made considering the true label (Satisfied Customers)."
   ]
  },
  {
   "cell_type": "markdown",
   "id": "413c1a7b",
   "metadata": {},
   "source": [
    "### 7.2.2 LGBM"
   ]
  },
  {
   "cell_type": "markdown",
   "id": "5de7d21e",
   "metadata": {},
   "source": [
    "#### performance using cross_validation technique"
   ]
  },
  {
   "cell_type": "code",
   "execution_count": 16,
   "id": "a8730fd3",
   "metadata": {
    "ExecuteTime": {
     "end_time": "2024-01-06T13:23:08.451389Z",
     "start_time": "2024-01-06T13:23:06.967722Z"
    }
   },
   "outputs": [
    {
     "data": {
      "text/plain": [
       "0.9636468405755745"
      ]
     },
     "execution_count": 16,
     "metadata": {},
     "output_type": "execute_result"
    }
   ],
   "source": [
    "clf_lgbm = lgbm.LGBMClassifier(verbose=-1)\n",
    "\n",
    "evallgbm = cross_validation(5, 'LGBM', clf_lgbm, train_x, train_y)\n",
    "evallgbm"
   ]
  },
  {
   "cell_type": "markdown",
   "id": "da31d127",
   "metadata": {},
   "source": [
    "#### performance using train_test_val split technique"
   ]
  },
  {
   "cell_type": "code",
   "execution_count": 17,
   "id": "4ef0fb0d",
   "metadata": {
    "ExecuteTime": {
     "end_time": "2024-01-06T13:23:08.798004Z",
     "start_time": "2024-01-06T13:23:08.454388Z"
    }
   },
   "outputs": [
    {
     "data": {
      "text/plain": [
       "0.9667008854099833"
      ]
     },
     "execution_count": 17,
     "metadata": {},
     "output_type": "execute_result"
    }
   ],
   "source": [
    "clf_lgbm_one = lgbm.LGBMClassifier(verbose=-1)\n",
    "\n",
    "# model training\n",
    "clf_lgbm_one.fit( train_x, train_y )\n",
    "\n",
    "# model prediction - Check if the model perform well\n",
    "yhat_lgbm_one = clf_lgbm_one.predict( val_x )\n",
    "\n",
    "# Evaluation\n",
    "precision_score(val_y, yhat_lgbm_one, average='micro') "
   ]
  },
  {
   "cell_type": "code",
   "execution_count": 18,
   "id": "3a59c107",
   "metadata": {
    "ExecuteTime": {
     "end_time": "2024-01-06T13:23:09.018531Z",
     "start_time": "2024-01-06T13:23:08.800005Z"
    }
   },
   "outputs": [
    {
     "data": {
      "image/png": "[encoded data removed]",
      "text/plain": [
       "<Figure size 1500x700 with 2 Axes>"
      ]
     },
     "metadata": {},
     "output_type": "display_data"
    }
   ],
   "source": [
    "cm_lgbm = confusion_matrix(val_y, yhat_lgbm_one,  labels = clf_lgbm_one.classes_)\n",
    "cm_lgbm_disp = ConfusionMatrixDisplay(confusion_matrix = cm_lgbm,\n",
    "                                      display_labels = clf_lgbm_one.classes_,\n",
    "                                     )\n",
    "\n",
    "cm_lgbm_disp.plot(cmap=plt.cm.Blues)\n",
    "plt.title('Confusion Matrix for LGBM', fontsize=18)\n",
    "plt.grid(False)\n",
    "plt.gca().set_facecolor('white')\n",
    "\n",
    "plt.show()"
   ]
  },
  {
   "cell_type": "markdown",
   "id": "80b7501b",
   "metadata": {},
   "source": [
    "# 8. FINE TUNING"
   ]
  },
  {
   "cell_type": "markdown",
   "id": "fcbc1997",
   "metadata": {},
   "source": [
    "The hyperparameteres were selected using two techniques:\n",
    "\n",
    "* Optuna: with is a bysean search technique.\n",
    "\n",
    "* Manualy setting some parameters after optuna selection."
   ]
  },
  {
   "cell_type": "markdown",
   "id": "094629f0",
   "metadata": {},
   "source": [
    "## 8.1 XGB"
   ]
  },
  {
   "cell_type": "code",
   "execution_count": null,
   "id": "6af0e684",
   "metadata": {
    "ExecuteTime": {
     "end_time": "2023-12-21T17:20:24.685248Z",
     "start_time": "2023-12-21T17:20:24.667382Z"
    }
   },
   "outputs": [],
   "source": [
    "# def objective_xgb(trial):\n",
    "#     \"\"\"Define the objective function\"\"\"\n",
    "\n",
    "#     params = {\n",
    "#         'max_depth': trial.suggest_int('max_depth', 5, 20),\n",
    "#         'eta': trial.suggest_float('eta', 0.01, 0.05),\n",
    "#         'learning_rate': trial.suggest_loguniform('learning_rate', 0.01, 1.0),\n",
    "#         'n_estimators': trial.suggest_int('n_estimators', 100, 1000),\n",
    "#         'min_child_weight': trial.suggest_int('min_child_weight', 1, 15),\n",
    "#         'gamma': trial.suggest_loguniform('gamma', 1e-8, 1.0),\n",
    "#         'subsample': trial.suggest_loguniform('subsample', 0.01, 1.0),\n",
    "#         'colsample_bytree': trial.suggest_loguniform('colsample_bytree', 0.1, 1.0),\n",
    "#         'reg_alpha': trial.suggest_loguniform('reg_alpha', 1e-8, 1.0),\n",
    "#         'reg_lambda': trial.suggest_loguniform('reg_lambda', 1e-8, 1.0),\n",
    "#         'eval_metric': 'mlogloss',\n",
    "#         'use_label_encoder': False\n",
    "#     }\n",
    "\n",
    "#     # Fit the model\n",
    "#     optuna_xgb = XGBClassifier(**params)\n",
    "#     optuna_xgb.fit(x_train, y_train)\n",
    "\n",
    "#     # Make predictions\n",
    "#     optuna_xgb_pred = optuna_xgb.predict(test_x)\n",
    "\n",
    "#     # Evaluate predictions\n",
    "#     precision = precision_score(test_y, optuna_xgb_pred, average='micro')\n",
    "#     return precision"
   ]
  },
  {
   "cell_type": "code",
   "execution_count": null,
   "id": "ff103e44",
   "metadata": {
    "ExecuteTime": {
     "end_time": "2023-12-21T19:47:57.801242Z",
     "start_time": "2023-12-21T17:20:25.296624Z"
    }
   },
   "outputs": [],
   "source": [
    "# %%time\n",
    "# study_xgb = optuna.create_study(direction='maximize')\n",
    "# study_xgb.optimize(objective_xgb, n_trials=150)"
   ]
  },
  {
   "cell_type": "code",
   "execution_count": null,
   "id": "3f8c8221",
   "metadata": {
    "ExecuteTime": {
     "end_time": "2023-12-21T19:47:57.862718Z",
     "start_time": "2023-12-21T19:47:57.805153Z"
    }
   },
   "outputs": [],
   "source": [
    "# print('Number of finished trials: {}'.format(len(study_xgb.trials)))\n",
    "# print('Best trial:')\n",
    "# trial = study_xgb.best_trial\n",
    "\n",
    "# print('  Value: {}'.format(trial.value))\n",
    "# print('  Params: ')\n",
    "\n",
    "# for key, value in trial.params.items():\n",
    "#     print('    {}: {}'.format(key, value))"
   ]
  },
  {
   "cell_type": "code",
   "execution_count": null,
   "id": "f1d29533",
   "metadata": {
    "ExecuteTime": {
     "end_time": "2024-01-03T21:31:17.759859Z",
     "start_time": "2024-01-03T21:31:16.627009Z"
    }
   },
   "outputs": [],
   "source": [
    "# fig = optuna.visualization.plot_slice(study_xgb, params=[\"learning_rate\", \"max_depth\", \"n_estimators\"])#, \"reg_alpha\", \"reg_lambda\"])\n",
    "# fig.show()"
   ]
  },
  {
   "cell_type": "code",
   "execution_count": 19,
   "id": "872cd57e",
   "metadata": {
    "ExecuteTime": {
     "end_time": "2024-01-06T13:23:09.034259Z",
     "start_time": "2024-01-06T13:23:09.021550Z"
    }
   },
   "outputs": [],
   "source": [
    "params_xgb = {\n",
    "    'max_depth': 12,\n",
    "    'eta': 0.019834339603301256,\n",
    "    'learning_rate': 0.011,\n",
    "    'n_estimators': 450,\n",
    "    'min_child_weight': 2,\n",
    "    'gamma': 0.3113641371820694,\n",
    "    'subsample': 0.7039764982894372,\n",
    "    'colsample_bytree': 0.6313892474468165,\n",
    "    'reg_alpha': 4.239283976142879e-06,\n",
    "    'reg_lambda': 7.270434099537632e-05\n",
    "}"
   ]
  },
  {
   "cell_type": "code",
   "execution_count": null,
   "id": "90d046a3",
   "metadata": {},
   "outputs": [],
   "source": [
    "param_name = \"learning_rate\"\n",
    "param_range = np.arange(0.01, 0.2, 0.05)\n",
    "fixed_params = params_xgb.copy()\n",
    "\n",
    "plot_scores(param_name, param_range, fixed_params, XGBClassifier, train_x, train_y, val_x, val_y)"
   ]
  },
  {
   "cell_type": "code",
   "execution_count": null,
   "id": "7555bb27",
   "metadata": {},
   "outputs": [],
   "source": [
    "param_name = \"n_estimators\"\n",
    "param_range = np.arange(100, 750, 50)\n",
    "fixed_params = params_xgb.copy()\n",
    "\n",
    "plot_scores(param_name, param_range, fixed_params, XGBClassifier, train_x, train_y, val_x, val_y)"
   ]
  },
  {
   "cell_type": "code",
   "execution_count": null,
   "id": "c47dccc0",
   "metadata": {
    "ExecuteTime": {
     "end_time": "2024-01-03T22:27:30.945078Z",
     "start_time": "2024-01-03T22:22:42.632082Z"
    }
   },
   "outputs": [],
   "source": [
    "param_name = \"max_depth\"\n",
    "param_range = np.arange(2, 20, 1)\n",
    "fixed_params = params_xgb.copy()\n",
    "\n",
    "plot_scores(param_name, param_range, fixed_params, XGBClassifier, train_x, train_y, val_x, val_y)"
   ]
  },
  {
   "cell_type": "markdown",
   "id": "8d19da8f",
   "metadata": {},
   "source": [
    "## 8.2 LGBM"
   ]
  },
  {
   "cell_type": "code",
   "execution_count": null,
   "id": "b92cc903",
   "metadata": {
    "ExecuteTime": {
     "end_time": "2023-12-22T09:35:55.079600Z",
     "start_time": "2023-12-22T09:35:55.057137Z"
    }
   },
   "outputs": [],
   "source": [
    "# def objective_lgbm(trial):\n",
    "#     \"\"\"Objective function\"\"\"\n",
    "#     param = {\n",
    "#         \"n_estimators\":trial.suggest_int('n_estimators', 100, 1000),\n",
    "#         'boosting_type': trial.suggest_categorical('boosting_type', ['gbdt','dart']),\n",
    "#         'reg_alpha': trial.suggest_float('reg_alpha', 1e-3, 1e-1, log=True),\n",
    "#         'reg_lambda': trial.suggest_float('reg_lambda', 1e-6, 1e-4, log=True),\n",
    "#         \"learning_rate\":trial.suggest_float('learning_rate', 0.01, 0.1),\n",
    "#         \"max_depth\":trial.suggest_int('max_depth', 5, 20),\n",
    "#         \"objective\": \"binary\",\n",
    "#         \"metric\": \"binary_logloss\",\n",
    "#         \"num_leaves\": trial.suggest_int(\"num_leaves\", 2, 256),\n",
    "#         \"bagging_fraction\": trial.suggest_float(\"bagging_fraction\", 0.4, 1.0),\n",
    "#     }\n",
    "    \n",
    "#     # Definicao do Modelo\n",
    "#     lgbm_model = lgbm.LGBMClassifier(**param)\n",
    "    \n",
    "#     # Treinamento do Modelo\n",
    "#     lgbm_model.fit(train_x, train_y)\n",
    "    \n",
    "#     # Predicoes do Modelo\n",
    "#     preds = lgbm_model.predict(test_x)\n",
    "    \n",
    "#     # Metrica\n",
    "#     precision = precision_score(test_y, preds, average='micro')\n",
    "#     return precision"
   ]
  },
  {
   "cell_type": "code",
   "execution_count": null,
   "id": "c1abb444",
   "metadata": {
    "ExecuteTime": {
     "end_time": "2023-12-22T11:03:43.171149Z",
     "start_time": "2023-12-22T09:38:24.311185Z"
    }
   },
   "outputs": [],
   "source": [
    "# %%time\n",
    "# study_lgbm = optuna.create_study(direction='maximize')\n",
    "# study_lgbm.optimize(objective_lgbm, n_trials=150)"
   ]
  },
  {
   "cell_type": "code",
   "execution_count": null,
   "id": "8ed7a89d",
   "metadata": {
    "ExecuteTime": {
     "end_time": "2023-12-22T11:03:43.218301Z",
     "start_time": "2023-12-22T11:03:43.174196Z"
    }
   },
   "outputs": [],
   "source": [
    "# print('Number of finished trials: {}'.format(len(study_lgbm.trials)))\n",
    "# print('Best trial:')\n",
    "# trial = study_lgbm.best_trial\n",
    "\n",
    "# print('  Value: {}'.format(trial.value))\n",
    "# print('  Params: ')\n",
    "\n",
    "# for key, value in trial.params.items():\n",
    "#     print('    {}: {}'.format(key, value))"
   ]
  },
  {
   "cell_type": "code",
   "execution_count": null,
   "id": "d5f7d9ac",
   "metadata": {
    "ExecuteTime": {
     "end_time": "2023-12-22T11:16:23.072869Z",
     "start_time": "2023-12-22T11:16:22.853171Z"
    }
   },
   "outputs": [],
   "source": [
    "# fig = optuna.visualization.plot_slice(study_lgbm, params=[\"learning_rate\", \"max_depth\", \"n_estimators\", \"reg_alpha\", \"reg_lambda\"])\n",
    "# fig.show()"
   ]
  },
  {
   "cell_type": "code",
   "execution_count": 20,
   "id": "677be48d",
   "metadata": {
    "ExecuteTime": {
     "end_time": "2024-01-06T13:23:09.049510Z",
     "start_time": "2024-01-06T13:23:09.036072Z"
    }
   },
   "outputs": [],
   "source": [
    "params_lgbm = {\n",
    "    'verbose':-1,\n",
    "    'n_estimators': 600,\n",
    "    'boosting_type': 'dart',\n",
    "    'reg_alpha': 0.001060107983785464,\n",
    "    'reg_lambda': 4.014338101780075e-06,\n",
    "    'learning_rate': 0.06,\n",
    "    'max_depth': 11,\n",
    "    'num_leaves': 74,\n",
    "    'bagging_fraction': 0.6210384794469442\n",
    "}"
   ]
  },
  {
   "cell_type": "code",
   "execution_count": null,
   "id": "3fe4bdb9",
   "metadata": {
    "ExecuteTime": {
     "end_time": "2024-01-03T22:49:34.426397Z",
     "start_time": "2024-01-03T22:47:38.048317Z"
    }
   },
   "outputs": [],
   "source": [
    "param_name = \"learning_rate\"\n",
    "param_range = np.arange(0.02, 0.08, 0.005)\n",
    "fixed_params = params_lgbm.copy()\n",
    "\n",
    "plot_scores(param_name, param_range, fixed_params, lgbm.LGBMClassifier, train_x, train_y, val_x, val_y)"
   ]
  },
  {
   "cell_type": "code",
   "execution_count": null,
   "id": "f26676da",
   "metadata": {
    "ExecuteTime": {
     "end_time": "2024-01-03T22:53:13.011730Z",
     "start_time": "2024-01-03T22:52:03.872572Z"
    }
   },
   "outputs": [],
   "source": [
    "param_name = \"n_estimators\"\n",
    "param_range = np.arange(100, 1000, 100)\n",
    "fixed_params = params_lgbm.copy()\n",
    "\n",
    "plot_scores(param_name, param_range, fixed_params, lgbm.LGBMClassifier, train_x, train_y, val_x, val_y)"
   ]
  },
  {
   "cell_type": "code",
   "execution_count": null,
   "id": "e125c03b",
   "metadata": {
    "ExecuteTime": {
     "end_time": "2024-01-03T22:56:52.190573Z",
     "start_time": "2024-01-03T22:54:16.823549Z"
    }
   },
   "outputs": [],
   "source": [
    "param_name = \"max_depth\"\n",
    "param_range = np.arange(1, 20, 1)\n",
    "fixed_params = params_lgbm.copy()\n",
    "\n",
    "plot_scores(param_name, param_range, fixed_params, lgbm.LGBMClassifier, train_x, train_y, val_x, val_y)"
   ]
  },
  {
   "cell_type": "markdown",
   "id": "caedf109",
   "metadata": {},
   "source": [
    "# 9.0 MACHINE LEARNING MODELS AFTER TUNING"
   ]
  },
  {
   "cell_type": "markdown",
   "id": "2e904ada",
   "metadata": {},
   "source": [
    "## 9.1 XGB"
   ]
  },
  {
   "cell_type": "code",
   "execution_count": 21,
   "id": "aa90b93c",
   "metadata": {
    "ExecuteTime": {
     "end_time": "2024-01-06T13:24:26.635471Z",
     "start_time": "2024-01-06T13:23:13.393749Z"
    }
   },
   "outputs": [
    {
     "data": {
      "text/plain": [
       "0.964444303109033"
      ]
     },
     "execution_count": 21,
     "metadata": {},
     "output_type": "execute_result"
    }
   ],
   "source": [
    "xgb_tuned = XGBClassifier(**params_xgb)\n",
    "\n",
    "eval_xgb = cross_validation(5, 'XGB', xgb_tuned, train_x, train_y)\n",
    "eval_xgb"
   ]
  },
  {
   "cell_type": "code",
   "execution_count": 22,
   "id": "4c23d281",
   "metadata": {
    "ExecuteTime": {
     "end_time": "2024-01-06T13:24:44.981970Z",
     "start_time": "2024-01-06T13:24:26.638471Z"
    }
   },
   "outputs": [
    {
     "data": {
      "text/plain": [
       "0.9637518444857894"
      ]
     },
     "execution_count": 22,
     "metadata": {},
     "output_type": "execute_result"
    }
   ],
   "source": [
    "clf_xgb_ft = XGBClassifier(**params_xgb)\n",
    "\n",
    "# model training\n",
    "clf_xgb_ft.fit( train_x, train_y )\n",
    "\n",
    "# model prediction - Check if the model perform well\n",
    "yhat_xgb_ft = clf_xgb_ft.predict( test_x )\n",
    "\n",
    "# Evaluation\n",
    "precision_score(test_y, yhat_xgb_ft, average='micro') "
   ]
  },
  {
   "cell_type": "code",
   "execution_count": 23,
   "id": "fa91356a",
   "metadata": {
    "ExecuteTime": {
     "end_time": "2024-01-06T13:24:45.215575Z",
     "start_time": "2024-01-06T13:24:44.984971Z"
    }
   },
   "outputs": [
    {
     "data": {
      "image/png": "[encoded data removed]",
      "text/plain": [
       "<Figure size 1500x700 with 2 Axes>"
      ]
     },
     "metadata": {},
     "output_type": "display_data"
    }
   ],
   "source": [
    "cm_xgb = confusion_matrix(test_y, yhat_xgb_ft, labels=clf_xgb_ft.classes_)\n",
    "cm_xgb_disp = ConfusionMatrixDisplay(confusion_matrix=cm_xgb, display_labels=clf_xgb_ft.classes_)\n",
    "cm_xgb_disp.plot(cmap=plt.cm.Blues)\n",
    "\n",
    "plt.title('Confusion Matrix for XGBoost', fontsize=18)\n",
    "plt.grid(False)\n",
    "plt.gca().set_facecolor('white')\n",
    "\n",
    "plt.show()"
   ]
  },
  {
   "cell_type": "markdown",
   "id": "90d9ccc6",
   "metadata": {},
   "source": [
    "## 9.2 LGBM"
   ]
  },
  {
   "cell_type": "code",
   "execution_count": 24,
   "id": "239d8cba",
   "metadata": {
    "ExecuteTime": {
     "end_time": "2024-01-06T13:25:22.205149Z",
     "start_time": "2024-01-06T13:24:45.219560Z"
    }
   },
   "outputs": [
    {
     "data": {
      "text/plain": [
       "0.9660667299802682"
      ]
     },
     "execution_count": 24,
     "metadata": {},
     "output_type": "execute_result"
    }
   ],
   "source": [
    "lgbm_tuned = lgbm.LGBMClassifier(**params_lgbm)\n",
    "\n",
    "eval_lgbm = cross_validation(5, 'LGBM', lgbm_tuned, train_x, train_y)\n",
    "eval_lgbm"
   ]
  },
  {
   "cell_type": "code",
   "execution_count": 25,
   "id": "05bffce2",
   "metadata": {
    "ExecuteTime": {
     "end_time": "2024-01-06T13:25:31.215038Z",
     "start_time": "2024-01-06T13:25:22.207148Z"
    }
   },
   "outputs": [
    {
     "data": {
      "text/plain": [
       "0.965612369282094"
      ]
     },
     "execution_count": 25,
     "metadata": {},
     "output_type": "execute_result"
    }
   ],
   "source": [
    "# model definition\n",
    "clf_lgbm_ft = lgbm.LGBMClassifier(**params_lgbm)\n",
    "\n",
    "# model training\n",
    "clf_lgbm_ft.fit( train_x, train_y )\n",
    "\n",
    "# model prediction - Check if the model perform well\n",
    "yhat_lgbm_ft = clf_lgbm_ft.predict( test_x )\n",
    "\n",
    "# Evaluation\n",
    "precision_score(test_y, yhat_lgbm_ft, average='micro') "
   ]
  },
  {
   "cell_type": "code",
   "execution_count": 26,
   "id": "cebb381b",
   "metadata": {
    "ExecuteTime": {
     "end_time": "2024-01-06T13:25:31.431342Z",
     "start_time": "2024-01-06T13:25:31.216986Z"
    }
   },
   "outputs": [
    {
     "data": {
      "image/png": "[encoded data removed]",
      "text/plain": [
       "<Figure size 1500x700 with 2 Axes>"
      ]
     },
     "metadata": {},
     "output_type": "display_data"
    }
   ],
   "source": [
    "cm_lgbm = confusion_matrix(test_y, yhat_lgbm_ft,  labels = clf_lgbm_ft.classes_)\n",
    "cm_lgbm_disp = ConfusionMatrixDisplay(confusion_matrix = cm_lgbm,\n",
    "                                      display_labels = clf_lgbm_ft.classes_)\n",
    "\n",
    "cm_lgbm_disp.plot(cmap=plt.cm.Blues)\n",
    "plt.title('Confusion Matrix for LGBM', fontsize=18)\n",
    "plt.grid(False)\n",
    "plt.gca().set_facecolor('white')\n",
    "\n",
    "plt.show()"
   ]
  },
  {
   "cell_type": "markdown",
   "id": "b6d64ef8",
   "metadata": {},
   "source": [
    "## Understanding the Model Calibration"
   ]
  },
  {
   "cell_type": "code",
   "execution_count": 35,
   "id": "86a8a895",
   "metadata": {
    "ExecuteTime": {
     "end_time": "2024-01-06T18:40:59.101135Z",
     "start_time": "2024-01-06T18:40:58.750788Z"
    }
   },
   "outputs": [
    {
     "data": {
      "image/png": "[encoded data removed]",
      "text/plain": [
       "<Figure size 1500x700 with 1 Axes>"
      ]
     },
     "metadata": {},
     "output_type": "display_data"
    }
   ],
   "source": [
    "from sklearn.calibration import calibration_curve\n",
    "\n",
    "fig, ax = plt.subplots()\n",
    "models, names = [clf_lgbm_ft, clf_xgb_ft], ['LGBM', 'XGB']\n",
    "\n",
    "for model, name in zip(models, names):\n",
    "    y_probs = model.predict_proba(test_x)[:,1]\n",
    "    proportion_true, prob_pred = calibration_curve(test_y, y_probs, n_bins=8)\n",
    "    ax.plot(prob_pred, proportion_true, label=name, marker='o')\n",
    "\n",
    "plt.plot([0,1], color='gray', linestyle='--')\n",
    "plt.xlabel(\"Mean predicted scores\")\n",
    "plt.ylabel(\"True proportion\")\n",
    "plt.legend()\n",
    "plt.show()"
   ]
  },
  {
   "cell_type": "code",
   "execution_count": 33,
   "id": "61fab816",
   "metadata": {
    "ExecuteTime": {
     "end_time": "2024-01-06T18:37:55.584492Z",
     "start_time": "2024-01-06T18:37:55.536508Z"
    }
   },
   "outputs": [
    {
     "name": "stdout",
     "output_type": "stream",
     "text": [
      "BS = 0.026 (LGBM)\n",
      "BS = 0.027 (XGB)\n"
     ]
    }
   ],
   "source": [
    "from sklearn.metrics import brier_score_loss\n",
    "\n",
    "for model, name in zip(models, names):\n",
    "    y_probs = model.predict_proba(test_x)[:,1]\n",
    "    print(f\"BS = {round(brier_score_loss(test_y, y_probs),3)} ({name})\")"
   ]
  },
  {
   "cell_type": "code",
   "execution_count": 39,
   "id": "05578640",
   "metadata": {
    "ExecuteTime": {
     "end_time": "2024-01-06T18:42:30.093305Z",
     "start_time": "2024-01-06T18:42:29.926384Z"
    }
   },
   "outputs": [
    {
     "name": "stdout",
     "output_type": "stream",
     "text": [
      "Precision_Micro = 0.966 (LGBM)\n",
      "Precision_Micro = 0.964 (XGB)\n"
     ]
    }
   ],
   "source": [
    "for model, name in zip(models, names):\n",
    "    y_probs = model.predict(test_x)\n",
    "    print(f\"Precision_Micro = {round(precision_score(test_y, y_probs, average='micro'),3)} ({name})\")"
   ]
  },
  {
   "cell_type": "markdown",
   "id": "9b34837b",
   "metadata": {},
   "source": [
    "### ECE: distância média (no sentido L1, e ponderada) de o quanto a curva de calibração se afasta da identidade."
   ]
  },
  {
   "cell_type": "code",
   "execution_count": 41,
   "id": "d1719e7d",
   "metadata": {
    "ExecuteTime": {
     "end_time": "2024-01-06T18:44:07.942455Z",
     "start_time": "2024-01-06T18:44:07.746177Z"
    }
   },
   "outputs": [
    {
     "name": "stdout",
     "output_type": "stream",
     "text": [
      "ECE = 0.003 (LGBM)\n",
      "ECE = 0.011 (XGB)\n"
     ]
    }
   ],
   "source": [
    "def calib_curve_proportions(y_true, y_probs, n_bins=10, method='uniform'):\n",
    "    from sklearn.calibration import calibration_curve\n",
    "    assert method in ['quantile', 'uniform'], \"Unrecognized method\"\n",
    "    \n",
    "    predictions = pd.DataFrame({\n",
    "        'label': y_true,\n",
    "        'scores': y_probs,\n",
    "        })\n",
    "    \n",
    "    predictions = predictions.sort_values('scores')\n",
    "    \n",
    "    if method == 'quantile':\n",
    "        quantiles = [predictions['scores'].quantile(q) for q in np.linspace(0, 1, n_bins+1)] \n",
    "        predictions['bins'] = pd.cut(predictions['scores'], quantiles)\n",
    "\n",
    "    else:\n",
    "        bins=np.linspace(0, 1, n_bins+1) \n",
    "        predictions['bins'] = pd.cut(predictions['scores'], bins)\n",
    "        \n",
    "    # podemos agregar: calcule as médias de y=1 por chunk e calcule o score médio de cada chunk\n",
    "    calibration = predictions.groupby('bins').mean().reset_index(drop=True)\n",
    "    calibration.columns = ['Fraction of positives', 'Average score']\n",
    "    \n",
    "    x, y = calibration['Average score'], calibration['Fraction of positives']\n",
    "    p = predictions.groupby('bins').\\\n",
    "                   apply(lambda x: len(x)).\\\n",
    "                   values\n",
    "    p = p/len(y_true)\n",
    "    \n",
    "    return x, y, p\n",
    "def ece(y_true, y_probs, n_bins=10, method='uniform'):\n",
    "    x, y, p = calib_curve_proportions(y_true, y_probs, n_bins=n_bins, method=method)\n",
    "    return np.sum(p*np.abs(x - y))\n",
    "for model, name in zip(models, names):\n",
    "    y_probs = model.predict_proba(test_x)[:,1]\n",
    "    print(f\"ECE = {round(ece(test_y, y_probs, method='quantile'),3)} ({name})\")"
   ]
  },
  {
   "cell_type": "markdown",
   "id": "a8a338b5",
   "metadata": {},
   "source": [
    "## Last Training to save for deploy"
   ]
  },
  {
   "cell_type": "code",
   "execution_count": 80,
   "id": "a0d7a127",
   "metadata": {
    "ExecuteTime": {
     "end_time": "2024-01-06T20:23:49.849107Z",
     "start_time": "2024-01-06T20:23:49.826658Z"
    }
   },
   "outputs": [],
   "source": [
    "df_last = df_raw.copy()"
   ]
  },
  {
   "cell_type": "code",
   "execution_count": 81,
   "id": "5cb9f35f",
   "metadata": {
    "ExecuteTime": {
     "end_time": "2024-01-06T20:23:50.877702Z",
     "start_time": "2024-01-06T20:23:50.620445Z"
    }
   },
   "outputs": [],
   "source": [
    "df_aux = test_prep(df_last)"
   ]
  },
  {
   "cell_type": "code",
   "execution_count": 83,
   "id": "869cd52e",
   "metadata": {
    "ExecuteTime": {
     "end_time": "2024-01-06T20:25:24.876382Z",
     "start_time": "2024-01-06T20:25:24.854193Z"
    }
   },
   "outputs": [],
   "source": [
    "X_training = df_aux.drop( ['satisfaction'], axis=1 )\n",
    "y_training = df_aux['satisfaction'].copy()"
   ]
  },
  {
   "cell_type": "code",
   "execution_count": null,
   "id": "6546b705",
   "metadata": {},
   "outputs": [],
   "source": []
  },
  {
   "cell_type": "code",
   "execution_count": null,
   "id": "6c810937",
   "metadata": {
    "ExecuteTime": {
     "end_time": "2024-01-03T23:48:49.119727Z",
     "start_time": "2024-01-03T23:48:49.057838Z"
    }
   },
   "outputs": [],
   "source": [
    "# Saving trained model to production\n",
    "#joblib.dump(lgbm_tunado, 'lgbm.joblib')"
   ]
  },
  {
   "cell_type": "markdown",
   "id": "dc6876b3",
   "metadata": {
    "heading_collapsed": true
   },
   "source": [
    "## 9.3 ENSEMBLE"
   ]
  },
  {
   "cell_type": "code",
   "execution_count": null,
   "id": "80823633",
   "metadata": {
    "ExecuteTime": {
     "end_time": "2024-01-03T23:19:08.431264Z",
     "start_time": "2024-01-03T23:19:08.335205Z"
    },
    "hidden": true
   },
   "outputs": [],
   "source": [
    "from sklearn.ensemble import VotingClassifier"
   ]
  },
  {
   "cell_type": "code",
   "execution_count": null,
   "id": "1463f912",
   "metadata": {
    "ExecuteTime": {
     "end_time": "2024-01-03T23:28:14.352360Z",
     "start_time": "2024-01-03T23:28:10.868102Z"
    },
    "hidden": true
   },
   "outputs": [],
   "source": [
    "Ensemble = VotingClassifier(estimators = [('lgbm', clf_lgbm_one), ('xgb', clf_xgb_one)], \n",
    "                            voting='hard',\n",
    "                            weights = [0.8, 0.5])\n",
    "\n",
    "Ensemble.fit(X_training, y_training)"
   ]
  },
  {
   "cell_type": "markdown",
   "id": "b69e131e",
   "metadata": {
    "heading_collapsed": true
   },
   "source": [
    "# 10. SUBMISSION"
   ]
  },
  {
   "cell_type": "code",
   "execution_count": 125,
   "id": "8e3a83db",
   "metadata": {
    "ExecuteTime": {
     "end_time": "2024-01-06T20:54:03.321911Z",
     "start_time": "2024-01-06T20:54:03.236946Z"
    },
    "hidden": true
   },
   "outputs": [],
   "source": [
    "df_test = pd.read_csv('C:/Users/perot/Documents/ds_repos/projects/InStyle_Net_Promoter_Score/data/test.csv')"
   ]
  },
  {
   "cell_type": "code",
   "execution_count": 126,
   "id": "0ce7aa22",
   "metadata": {
    "ExecuteTime": {
     "end_time": "2024-01-06T20:54:03.711681Z",
     "start_time": "2024-01-06T20:54:03.690424Z"
    },
    "hidden": true
   },
   "outputs": [
    {
     "data": {
      "text/plain": [
       "(25976, 23)"
      ]
     },
     "execution_count": 126,
     "metadata": {},
     "output_type": "execute_result"
    }
   ],
   "source": [
    "df_test.shape"
   ]
  },
  {
   "cell_type": "code",
   "execution_count": 127,
   "id": "11a47c47",
   "metadata": {
    "ExecuteTime": {
     "end_time": "2024-01-06T20:54:04.195201Z",
     "start_time": "2024-01-06T20:54:04.044717Z"
    },
    "hidden": true
   },
   "outputs": [],
   "source": [
    "x_test = test_prep(df_test)"
   ]
  },
  {
   "cell_type": "code",
   "execution_count": 128,
   "id": "a1840484",
   "metadata": {
    "ExecuteTime": {
     "end_time": "2024-01-06T20:54:04.442134Z",
     "start_time": "2024-01-06T20:54:04.401718Z"
    },
    "hidden": true
   },
   "outputs": [
    {
     "data": {
      "text/html": [
       "<div>\n",
       "<style scoped>\n",
       "    .dataframe tbody tr th:only-of-type {\n",
       "        vertical-align: middle;\n",
       "    }\n",
       "\n",
       "    .dataframe tbody tr th {\n",
       "        vertical-align: top;\n",
       "    }\n",
       "\n",
       "    .dataframe thead th {\n",
       "        text-align: right;\n",
       "    }\n",
       "</style>\n",
       "<table border=\"1\" class=\"dataframe\">\n",
       "  <thead>\n",
       "    <tr style=\"text-align: right;\">\n",
       "      <th></th>\n",
       "      <th>id</th>\n",
       "      <th>gender</th>\n",
       "      <th>customer_type</th>\n",
       "      <th>age</th>\n",
       "      <th>type_of_purchase</th>\n",
       "      <th>store_size</th>\n",
       "      <th>store_distance</th>\n",
       "      <th>in_store_wifi</th>\n",
       "      <th>open/close_time_convenient</th>\n",
       "      <th>easy_of_online_shopping</th>\n",
       "      <th>store_location</th>\n",
       "      <th>toilet_cleaning</th>\n",
       "      <th>dressing_room</th>\n",
       "      <th>waiting_room</th>\n",
       "      <th>kids_entertainment</th>\n",
       "      <th>seller_service</th>\n",
       "      <th>showroom_</th>\n",
       "      <th>self_store</th>\n",
       "      <th>purchase_service</th>\n",
       "      <th>store_service</th>\n",
       "      <th>cleanliness</th>\n",
       "      <th>carrier_delay_in_minutes</th>\n",
       "      <th>delivery_delay_in_minutes</th>\n",
       "    </tr>\n",
       "  </thead>\n",
       "  <tbody>\n",
       "    <tr>\n",
       "      <th>0</th>\n",
       "      <td>19556</td>\n",
       "      <td>0.507459</td>\n",
       "      <td>0.0</td>\n",
       "      <td>0.576923</td>\n",
       "      <td>0.689627</td>\n",
       "      <td>1.0</td>\n",
       "      <td>-0.513920</td>\n",
       "      <td>5</td>\n",
       "      <td>4</td>\n",
       "      <td>3</td>\n",
       "      <td>4</td>\n",
       "      <td>3</td>\n",
       "      <td>4</td>\n",
       "      <td>3</td>\n",
       "      <td>5</td>\n",
       "      <td>5</td>\n",
       "      <td>5</td>\n",
       "      <td>5</td>\n",
       "      <td>2</td>\n",
       "      <td>5</td>\n",
       "      <td>5</td>\n",
       "      <td>3.912023</td>\n",
       "      <td>3.784190</td>\n",
       "    </tr>\n",
       "    <tr>\n",
       "      <th>1</th>\n",
       "      <td>90035</td>\n",
       "      <td>0.507459</td>\n",
       "      <td>0.0</td>\n",
       "      <td>0.371795</td>\n",
       "      <td>0.689627</td>\n",
       "      <td>0.0</td>\n",
       "      <td>1.519940</td>\n",
       "      <td>1</td>\n",
       "      <td>1</td>\n",
       "      <td>3</td>\n",
       "      <td>1</td>\n",
       "      <td>5</td>\n",
       "      <td>4</td>\n",
       "      <td>5</td>\n",
       "      <td>4</td>\n",
       "      <td>4</td>\n",
       "      <td>4</td>\n",
       "      <td>4</td>\n",
       "      <td>3</td>\n",
       "      <td>4</td>\n",
       "      <td>5</td>\n",
       "      <td>0.000000</td>\n",
       "      <td>0.000000</td>\n",
       "    </tr>\n",
       "    <tr>\n",
       "      <th>2</th>\n",
       "      <td>12360</td>\n",
       "      <td>0.492541</td>\n",
       "      <td>1.0</td>\n",
       "      <td>0.166667</td>\n",
       "      <td>0.689627</td>\n",
       "      <td>1.0</td>\n",
       "      <td>-0.489842</td>\n",
       "      <td>2</td>\n",
       "      <td>0</td>\n",
       "      <td>2</td>\n",
       "      <td>4</td>\n",
       "      <td>2</td>\n",
       "      <td>2</td>\n",
       "      <td>2</td>\n",
       "      <td>2</td>\n",
       "      <td>4</td>\n",
       "      <td>1</td>\n",
       "      <td>3</td>\n",
       "      <td>2</td>\n",
       "      <td>2</td>\n",
       "      <td>2</td>\n",
       "      <td>0.000000</td>\n",
       "      <td>0.000000</td>\n",
       "    </tr>\n",
       "    <tr>\n",
       "      <th>3</th>\n",
       "      <td>77959</td>\n",
       "      <td>0.492541</td>\n",
       "      <td>0.0</td>\n",
       "      <td>0.474359</td>\n",
       "      <td>0.689627</td>\n",
       "      <td>0.0</td>\n",
       "      <td>1.906697</td>\n",
       "      <td>0</td>\n",
       "      <td>0</td>\n",
       "      <td>0</td>\n",
       "      <td>2</td>\n",
       "      <td>3</td>\n",
       "      <td>4</td>\n",
       "      <td>4</td>\n",
       "      <td>1</td>\n",
       "      <td>1</td>\n",
       "      <td>1</td>\n",
       "      <td>1</td>\n",
       "      <td>3</td>\n",
       "      <td>1</td>\n",
       "      <td>4</td>\n",
       "      <td>0.000000</td>\n",
       "      <td>1.791759</td>\n",
       "    </tr>\n",
       "    <tr>\n",
       "      <th>4</th>\n",
       "      <td>36875</td>\n",
       "      <td>0.507459</td>\n",
       "      <td>0.0</td>\n",
       "      <td>0.538462</td>\n",
       "      <td>0.689627</td>\n",
       "      <td>1.0</td>\n",
       "      <td>0.255079</td>\n",
       "      <td>2</td>\n",
       "      <td>3</td>\n",
       "      <td>4</td>\n",
       "      <td>3</td>\n",
       "      <td>4</td>\n",
       "      <td>1</td>\n",
       "      <td>2</td>\n",
       "      <td>2</td>\n",
       "      <td>2</td>\n",
       "      <td>2</td>\n",
       "      <td>2</td>\n",
       "      <td>4</td>\n",
       "      <td>2</td>\n",
       "      <td>4</td>\n",
       "      <td>0.000000</td>\n",
       "      <td>2.995732</td>\n",
       "    </tr>\n",
       "  </tbody>\n",
       "</table>\n",
       "</div>"
      ],
      "text/plain": [
       "      id    gender  customer_type       age  type_of_purchase  store_size  store_distance  in_store_wifi  open/close_time_convenient  easy_of_online_shopping  store_location  toilet_cleaning  dressing_room  waiting_room  kids_entertainment  seller_service  showroom_  self_store  purchase_service  store_service  cleanliness  carrier_delay_in_minutes  delivery_delay_in_minutes\n",
       "0  19556  0.507459            0.0  0.576923          0.689627         1.0       -0.513920              5                           4                        3               4                3              4             3                   5               5          5           5                 2              5            5                  3.912023                   3.784190\n",
       "1  90035  0.507459            0.0  0.371795          0.689627         0.0        1.519940              1                           1                        3               1                5              4             5                   4               4          4           4                 3              4            5                  0.000000                   0.000000\n",
       "2  12360  0.492541            1.0  0.166667          0.689627         1.0       -0.489842              2                           0                        2               4                2              2             2                   2               4          1           3                 2              2            2                  0.000000                   0.000000\n",
       "3  77959  0.492541            0.0  0.474359          0.689627         0.0        1.906697              0                           0                        0               2                3              4             4                   1               1          1           1                 3              1            4                  0.000000                   1.791759\n",
       "4  36875  0.507459            0.0  0.538462          0.689627         1.0        0.255079              2                           3                        4               3                4              1             2                   2               2          2           2                 4              2            4                  0.000000                   2.995732"
      ]
     },
     "execution_count": 128,
     "metadata": {},
     "output_type": "execute_result"
    }
   ],
   "source": [
    "x_test.head()"
   ]
  },
  {
   "cell_type": "code",
   "execution_count": 129,
   "id": "8934f748",
   "metadata": {
    "ExecuteTime": {
     "end_time": "2024-01-06T20:54:04.847861Z",
     "start_time": "2024-01-06T20:54:04.828856Z"
    },
    "hidden": true
   },
   "outputs": [],
   "source": [
    "chosen_model_index = 1\n",
    "chosen_model = calibrated_models[chosen_model_index]"
   ]
  },
  {
   "cell_type": "code",
   "execution_count": 134,
   "id": "3b9f3093",
   "metadata": {
    "ExecuteTime": {
     "end_time": "2024-01-06T20:54:23.390580Z",
     "start_time": "2024-01-06T20:54:23.366375Z"
    },
    "hidden": true
   },
   "outputs": [
    {
     "data": {
      "text/html": [
       "<style>#sk-container-id-2 {color: black;}#sk-container-id-2 pre{padding: 0;}#sk-container-id-2 div.sk-toggleable {background-color: white;}#sk-container-id-2 label.sk-toggleable__label {cursor: pointer;display: block;width: 100%;margin-bottom: 0;padding: 0.3em;box-sizing: border-box;text-align: center;}#sk-container-id-2 label.sk-toggleable__label-arrow:before {content: \"▸\";float: left;margin-right: 0.25em;color: #696969;}#sk-container-id-2 label.sk-toggleable__label-arrow:hover:before {color: black;}#sk-container-id-2 div.sk-estimator:hover label.sk-toggleable__label-arrow:before {color: black;}#sk-container-id-2 div.sk-toggleable__content {max-height: 0;max-width: 0;overflow: hidden;text-align: left;background-color: #f0f8ff;}#sk-container-id-2 div.sk-toggleable__content pre {margin: 0.2em;color: black;border-radius: 0.25em;background-color: #f0f8ff;}#sk-container-id-2 input.sk-toggleable__control:checked~div.sk-toggleable__content {max-height: 200px;max-width: 100%;overflow: auto;}#sk-container-id-2 input.sk-toggleable__control:checked~label.sk-toggleable__label-arrow:before {content: \"▾\";}#sk-container-id-2 div.sk-estimator input.sk-toggleable__control:checked~label.sk-toggleable__label {background-color: #d4ebff;}#sk-container-id-2 div.sk-label input.sk-toggleable__control:checked~label.sk-toggleable__label {background-color: #d4ebff;}#sk-container-id-2 input.sk-hidden--visually {border: 0;clip: rect(1px 1px 1px 1px);clip: rect(1px, 1px, 1px, 1px);height: 1px;margin: -1px;overflow: hidden;padding: 0;position: absolute;width: 1px;}#sk-container-id-2 div.sk-estimator {font-family: monospace;background-color: #f0f8ff;border: 1px dotted black;border-radius: 0.25em;box-sizing: border-box;margin-bottom: 0.5em;}#sk-container-id-2 div.sk-estimator:hover {background-color: #d4ebff;}#sk-container-id-2 div.sk-parallel-item::after {content: \"\";width: 100%;border-bottom: 1px solid gray;flex-grow: 1;}#sk-container-id-2 div.sk-label:hover label.sk-toggleable__label {background-color: #d4ebff;}#sk-container-id-2 div.sk-serial::before {content: \"\";position: absolute;border-left: 1px solid gray;box-sizing: border-box;top: 0;bottom: 0;left: 50%;z-index: 0;}#sk-container-id-2 div.sk-serial {display: flex;flex-direction: column;align-items: center;background-color: white;padding-right: 0.2em;padding-left: 0.2em;position: relative;}#sk-container-id-2 div.sk-item {position: relative;z-index: 1;}#sk-container-id-2 div.sk-parallel {display: flex;align-items: stretch;justify-content: center;background-color: white;position: relative;}#sk-container-id-2 div.sk-item::before, #sk-container-id-2 div.sk-parallel-item::before {content: \"\";position: absolute;border-left: 1px solid gray;box-sizing: border-box;top: 0;bottom: 0;left: 50%;z-index: -1;}#sk-container-id-2 div.sk-parallel-item {display: flex;flex-direction: column;z-index: 1;position: relative;background-color: white;}#sk-container-id-2 div.sk-parallel-item:first-child::after {align-self: flex-end;width: 50%;}#sk-container-id-2 div.sk-parallel-item:last-child::after {align-self: flex-start;width: 50%;}#sk-container-id-2 div.sk-parallel-item:only-child::after {width: 0;}#sk-container-id-2 div.sk-dashed-wrapped {border: 1px dashed gray;margin: 0 0.4em 0.5em 0.4em;box-sizing: border-box;padding-bottom: 0.4em;background-color: white;}#sk-container-id-2 div.sk-label label {font-family: monospace;font-weight: bold;display: inline-block;line-height: 1.2em;}#sk-container-id-2 div.sk-label-container {text-align: center;}#sk-container-id-2 div.sk-container {/* jupyter's `normalize.less` sets `[hidden] { display: none; }` but bootstrap.min.css set `[hidden] { display: none !important; }` so we also need the `!important` here to be able to override the default hidden behavior on the sphinx rendered scikit-learn.org. See: https://github.com/scikit-learn/scikit-learn/issues/21755 */display: inline-block !important;position: relative;}#sk-container-id-2 div.sk-text-repr-fallback {display: none;}</style><div id=\"sk-container-id-2\" class=\"sk-top-container\"><div class=\"sk-text-repr-fallback\"><pre>CalibratedClassifierCV(cv=&#x27;prefit&#x27;,\n",
       "                       estimator=XGBClassifier(base_score=None, booster=None,\n",
       "                                               callbacks=None,\n",
       "                                               colsample_bylevel=None,\n",
       "                                               colsample_bynode=None,\n",
       "                                               colsample_bytree=0.6313892474468165,\n",
       "                                               early_stopping_rounds=None,\n",
       "                                               enable_categorical=False,\n",
       "                                               eta=0.019834339603301256,\n",
       "                                               eval_metric=None,\n",
       "                                               feature_types=None,\n",
       "                                               gamma=0.3113641371820694,\n",
       "                                               gpu_id=None, grow_policy=None,\n",
       "                                               importance_type=None,\n",
       "                                               interaction_constraints=None,\n",
       "                                               learning_rate=0.011,\n",
       "                                               max_bin=None,\n",
       "                                               max_cat_threshold=None,\n",
       "                                               max_cat_to_onehot=None,\n",
       "                                               max_delta_step=None,\n",
       "                                               max_depth=12, max_leaves=None,\n",
       "                                               min_child_weight=2, missing=nan,\n",
       "                                               monotone_constraints=None,\n",
       "                                               n_estimators=450, n_jobs=None,\n",
       "                                               num_parallel_tree=None,\n",
       "                                               predictor=None, ...),\n",
       "                       method=&#x27;isotonic&#x27;)</pre><b>In a Jupyter environment, please rerun this cell to show the HTML representation or trust the notebook. <br />On GitHub, the HTML representation is unable to render, please try loading this page with nbviewer.org.</b></div><div class=\"sk-container\" hidden><div class=\"sk-item sk-dashed-wrapped\"><div class=\"sk-label-container\"><div class=\"sk-label sk-toggleable\"><input class=\"sk-toggleable__control sk-hidden--visually\" id=\"sk-estimator-id-4\" type=\"checkbox\" ><label for=\"sk-estimator-id-4\" class=\"sk-toggleable__label sk-toggleable__label-arrow\">CalibratedClassifierCV</label><div class=\"sk-toggleable__content\"><pre>CalibratedClassifierCV(cv=&#x27;prefit&#x27;,\n",
       "                       estimator=XGBClassifier(base_score=None, booster=None,\n",
       "                                               callbacks=None,\n",
       "                                               colsample_bylevel=None,\n",
       "                                               colsample_bynode=None,\n",
       "                                               colsample_bytree=0.6313892474468165,\n",
       "                                               early_stopping_rounds=None,\n",
       "                                               enable_categorical=False,\n",
       "                                               eta=0.019834339603301256,\n",
       "                                               eval_metric=None,\n",
       "                                               feature_types=None,\n",
       "                                               gamma=0.3113641371820694,\n",
       "                                               gpu_id=None, grow_policy=None,\n",
       "                                               importance_type=None,\n",
       "                                               interaction_constraints=None,\n",
       "                                               learning_rate=0.011,\n",
       "                                               max_bin=None,\n",
       "                                               max_cat_threshold=None,\n",
       "                                               max_cat_to_onehot=None,\n",
       "                                               max_delta_step=None,\n",
       "                                               max_depth=12, max_leaves=None,\n",
       "                                               min_child_weight=2, missing=nan,\n",
       "                                               monotone_constraints=None,\n",
       "                                               n_estimators=450, n_jobs=None,\n",
       "                                               num_parallel_tree=None,\n",
       "                                               predictor=None, ...),\n",
       "                       method=&#x27;isotonic&#x27;)</pre></div></div></div><div class=\"sk-parallel\"><div class=\"sk-parallel-item\"><div class=\"sk-item\"><div class=\"sk-label-container\"><div class=\"sk-label sk-toggleable\"><input class=\"sk-toggleable__control sk-hidden--visually\" id=\"sk-estimator-id-5\" type=\"checkbox\" ><label for=\"sk-estimator-id-5\" class=\"sk-toggleable__label sk-toggleable__label-arrow\">estimator: XGBClassifier</label><div class=\"sk-toggleable__content\"><pre>XGBClassifier(base_score=None, booster=None, callbacks=None,\n",
       "              colsample_bylevel=None, colsample_bynode=None,\n",
       "              colsample_bytree=0.6313892474468165, early_stopping_rounds=None,\n",
       "              enable_categorical=False, eta=0.019834339603301256,\n",
       "              eval_metric=None, feature_types=None, gamma=0.3113641371820694,\n",
       "              gpu_id=None, grow_policy=None, importance_type=None,\n",
       "              interaction_constraints=None, learning_rate=0.011, max_bin=None,\n",
       "              max_cat_threshold=None, max_cat_to_onehot=None,\n",
       "              max_delta_step=None, max_depth=12, max_leaves=None,\n",
       "              min_child_weight=2, missing=nan, monotone_constraints=None,\n",
       "              n_estimators=450, n_jobs=None, num_parallel_tree=None,\n",
       "              predictor=None, ...)</pre></div></div></div><div class=\"sk-serial\"><div class=\"sk-item\"><div class=\"sk-estimator sk-toggleable\"><input class=\"sk-toggleable__control sk-hidden--visually\" id=\"sk-estimator-id-6\" type=\"checkbox\" ><label for=\"sk-estimator-id-6\" class=\"sk-toggleable__label sk-toggleable__label-arrow\">XGBClassifier</label><div class=\"sk-toggleable__content\"><pre>XGBClassifier(base_score=None, booster=None, callbacks=None,\n",
       "              colsample_bylevel=None, colsample_bynode=None,\n",
       "              colsample_bytree=0.6313892474468165, early_stopping_rounds=None,\n",
       "              enable_categorical=False, eta=0.019834339603301256,\n",
       "              eval_metric=None, feature_types=None, gamma=0.3113641371820694,\n",
       "              gpu_id=None, grow_policy=None, importance_type=None,\n",
       "              interaction_constraints=None, learning_rate=0.011, max_bin=None,\n",
       "              max_cat_threshold=None, max_cat_to_onehot=None,\n",
       "              max_delta_step=None, max_depth=12, max_leaves=None,\n",
       "              min_child_weight=2, missing=nan, monotone_constraints=None,\n",
       "              n_estimators=450, n_jobs=None, num_parallel_tree=None,\n",
       "              predictor=None, ...)</pre></div></div></div></div></div></div></div></div></div></div>"
      ],
      "text/plain": [
       "CalibratedClassifierCV(cv='prefit',\n",
       "                       estimator=XGBClassifier(base_score=None, booster=None,\n",
       "                                               callbacks=None,\n",
       "                                               colsample_bylevel=None,\n",
       "                                               colsample_bynode=None,\n",
       "                                               colsample_bytree=0.6313892474468165,\n",
       "                                               early_stopping_rounds=None,\n",
       "                                               enable_categorical=False,\n",
       "                                               eta=0.019834339603301256,\n",
       "                                               eval_metric=None,\n",
       "                                               feature_types=None,\n",
       "                                               gamma=0.3113641371820694,\n",
       "                                               gpu_id=None, grow_policy=None,\n",
       "                                               importance_type=None,\n",
       "                                               interaction_constraints=None,\n",
       "                                               learning_rate=0.011,\n",
       "                                               max_bin=None,\n",
       "                                               max_cat_threshold=None,\n",
       "                                               max_cat_to_onehot=None,\n",
       "                                               max_delta_step=None,\n",
       "                                               max_depth=12, max_leaves=None,\n",
       "                                               min_child_weight=2, missing=nan,\n",
       "                                               monotone_constraints=None,\n",
       "                                               n_estimators=450, n_jobs=None,\n",
       "                                               num_parallel_tree=None,\n",
       "                                               predictor=None, ...),\n",
       "                       method='isotonic')"
      ]
     },
     "execution_count": 134,
     "metadata": {},
     "output_type": "execute_result"
    }
   ],
   "source": [
    "chosen_model"
   ]
  },
  {
   "cell_type": "code",
   "execution_count": 130,
   "id": "cf40a856",
   "metadata": {
    "ExecuteTime": {
     "end_time": "2024-01-06T20:54:05.677211Z",
     "start_time": "2024-01-06T20:54:05.425892Z"
    },
    "hidden": true
   },
   "outputs": [],
   "source": [
    "# Model Prediction\n",
    "yhat_submission = chosen_model.predict(x_test)"
   ]
  },
  {
   "cell_type": "code",
   "execution_count": 131,
   "id": "8f695174",
   "metadata": {
    "ExecuteTime": {
     "end_time": "2024-01-06T20:54:06.066849Z",
     "start_time": "2024-01-06T20:54:06.049224Z"
    },
    "hidden": true
   },
   "outputs": [],
   "source": [
    "x_test['satisfaction'] = yhat_submission"
   ]
  },
  {
   "cell_type": "code",
   "execution_count": 132,
   "id": "26717a1e",
   "metadata": {
    "ExecuteTime": {
     "end_time": "2024-01-06T20:54:06.829981Z",
     "start_time": "2024-01-06T20:54:06.816818Z"
    },
    "hidden": true
   },
   "outputs": [],
   "source": [
    "submission = x_test[['id','satisfaction']]"
   ]
  },
  {
   "cell_type": "code",
   "execution_count": 133,
   "id": "7b9be120",
   "metadata": {
    "ExecuteTime": {
     "end_time": "2024-01-06T20:54:07.437032Z",
     "start_time": "2024-01-06T20:54:07.421082Z"
    },
    "hidden": true
   },
   "outputs": [
    {
     "data": {
      "text/plain": [
       "satisfaction\n",
       "0    25976\n",
       "Name: count, dtype: int64"
      ]
     },
     "execution_count": 133,
     "metadata": {},
     "output_type": "execute_result"
    }
   ],
   "source": [
    "submission['satisfaction'].value_counts()"
   ]
  },
  {
   "cell_type": "code",
   "execution_count": 110,
   "id": "002efa0a",
   "metadata": {
    "ExecuteTime": {
     "end_time": "2024-01-06T20:49:13.736695Z",
     "start_time": "2024-01-06T20:49:13.697426Z"
    },
    "hidden": true
   },
   "outputs": [],
   "source": [
    "submission.to_csv(\"submission_lgbm.csv\", index=None, sep=',')"
   ]
  },
  {
   "cell_type": "code",
   "execution_count": 111,
   "id": "d8c90ff6",
   "metadata": {
    "ExecuteTime": {
     "end_time": "2024-01-06T20:50:01.496653Z",
     "start_time": "2024-01-06T20:50:01.438248Z"
    },
    "hidden": true
   },
   "outputs": [
    {
     "data": {
      "text/plain": [
       "satisfaction\n",
       "0.0    14903\n",
       "1.0    11073\n",
       "Name: count, dtype: int64"
      ]
     },
     "execution_count": 111,
     "metadata": {},
     "output_type": "execute_result"
    }
   ],
   "source": [
    "aux = pd.read_csv('C:/Users/perot/Documents/ds_repos/projects/InStyle_Net_Promoter_Score/notebook/sub_production.csv')\n",
    "aux['satisfaction'].value_counts()"
   ]
  },
  {
   "cell_type": "markdown",
   "id": "52d761fb",
   "metadata": {
    "heading_collapsed": true
   },
   "source": [
    "# 11. TO PRODUCTION"
   ]
  },
  {
   "cell_type": "markdown",
   "id": "58845547",
   "metadata": {
    "hidden": true
   },
   "source": [
    "## 11.1 InStyle Class"
   ]
  },
  {
   "cell_type": "code",
   "execution_count": null,
   "id": "41fed752",
   "metadata": {
    "hidden": true
   },
   "outputs": [],
   "source": [
    "\n",
    "import json\n",
    "import joblib\n",
    "import inflection\n",
    "import pandas   as pd\n",
    "import numpy    as np\n",
    "\n",
    "class instyle( object ):\n",
    "    def __init__( self ):\n",
    "        self.home_path     = 'C:/Users/perot/Documents/ds_repos/API e WebAPP/InStyle_API/src/features'\n",
    "        self.fe_gender     = joblib.load( open( self.home_path + '/fe_gender.joblib', 'rb') )\n",
    "        self.fe_tpurchase  = joblib.load( open( self.home_path + '/fe_tpurchase.joblib', 'rb') )\n",
    "        self.mm_age        = joblib.load( open( self.home_path + '/mm_age.joblib', 'rb') )\n",
    "        self.oe_ageg       = joblib.load( open( self.home_path + '/oe_ageg.joblib', 'rb'))\n",
    "        self.oe_customer   = joblib.load( open( self.home_path + '/oe_customer.joblib', 'rb') )\n",
    "        self.oe_distance   = joblib.load( open( self.home_path + '/oe_distance.joblib', 'rb') )\n",
    "        self.oe_store      = joblib.load( open( self.home_path + '/oe_store.joblib', 'rb') )\n",
    "        self.rs_stored     = joblib.load( open( self.home_path + '/rs_stored.joblib', 'rb') )\n",
    "        \n",
    "    def test_prep(self, df):\n",
    "        ## Rename Columns\n",
    "        cols_old = ['id', 'Gender', 'Customer Type', 'Age', 'Type of Purchase','Store size', 'Store distance', 'InStore wifi',\n",
    "                    'Open/Close time convenient', 'Easy of online shopping', 'Store location', 'Toilet cleaning', 'Dressing room', \n",
    "                    'Waiting room','Kids entertainment', 'Seller service', 'Showroom ', 'Self-Store', 'Purchase service', \n",
    "                    'Store Service', 'Cleanliness', 'Carrier delay in minutes', 'Delivery delay in minutes']\n",
    "\n",
    "        snakecase = lambda x: inflection.underscore(x.replace(' ', '_'))\n",
    "        cols_new = list( map( snakecase, cols_old ) )\n",
    "\n",
    "        df.columns = cols_new\n",
    "\n",
    "        # FEATURE ENGINEERING\n",
    "\n",
    "        df['distancia'] = df['store_distance'].apply(lambda x: 'close' if x <= 2500 else \n",
    "                                                               'far' )\n",
    "\n",
    "\n",
    "\n",
    "        df['age_group'] = df['age'].apply(lambda x: 'young' if x <= 18 else\n",
    "                                                    'adult' if ((x > 18) and (x <= 60)) else\n",
    "                                                    'elderly')\n",
    "\n",
    "        # TRANSFORMERS\n",
    "        # gender\n",
    "        df['gender'] = df['gender'].map(self.fe_gender)\n",
    "\n",
    "        # type_of_purchase\n",
    "        df['type_of_purchase'] = df['type_of_purchase'].map( self.fe_tpurchase )\n",
    "\n",
    "        # distance\n",
    "        df['distancia'] = self.oe_distance.transform(df[['distancia']].values)\n",
    "\n",
    "        # distance\n",
    "        df['age_group'] = self.oe_ageg.transform(df[['age_group']].values)\n",
    "\n",
    "        # distance\n",
    "        df['customer_type'] = self.oe_customer.transform(df[['customer_type']].values)\n",
    "\n",
    "        # Store Size\n",
    "        df['store_size'] = self.oe_store.transform(df[['store_size']].values)\n",
    "\n",
    "        # REESCALING\n",
    "\n",
    "        # age\n",
    "        df['age'] = self.mm_age.transform(df[['age']].values)\n",
    "\n",
    "        # Store Distance\n",
    "        df['store_distance'] = self.rs_stored.transform(df[['store_distance']].values)\n",
    "\n",
    "        # LOG TRANSFORMATION \n",
    "\n",
    "        # carrier_delay_in_minutes\n",
    "        df['carrier_delay_in_minutes'] = df['carrier_delay_in_minutes'].apply(lambda x: np.log(x) if x > 0 else x) \n",
    "\n",
    "        # delivery_delay_in_minutes\n",
    "        df['delivery_delay_in_minutes'] = df['delivery_delay_in_minutes'].apply(lambda x: np.log(x) if x > 0 else x) \n",
    "\n",
    "        return(df)\n",
    "    \n",
    "    def get_prediction (self, model, original_data, test_data ):\n",
    "        # prediction\n",
    "        pred = model.predict( test_data )\n",
    "        \n",
    "        # join pred into the original data\n",
    "        original_data['satisfaction'] =  pred \n",
    "        \n",
    "        return original_data.to_json( orient='records', date_format='iso' )  "
   ]
  },
  {
   "cell_type": "code",
   "execution_count": null,
   "id": "08006f8d",
   "metadata": {
    "hidden": true
   },
   "outputs": [],
   "source": [
    "import joblib\n",
    "import pandas as pd\n",
    "import os\n",
    "from flask                           import Flask, request, Response\n",
    "from instyle.instyle import instyle\n",
    "\n",
    "# logading model\n",
    "model = joblib.load( open('src/models/lgbm.joblib', 'rb') )\n",
    "                          \n",
    "# initialize API\n",
    "app = Flask( __name__ )\n",
    "\n",
    "@app.route( '/instyle/predict', methods=['POST'] )\n",
    "def instyle_predict():\n",
    "    test_json = request.get_json()\n",
    "    \n",
    "    if test_json: #there is data\n",
    "               \n",
    "        if isinstance( test_json, dict ): # unique example\n",
    "            test_raw = pd.DataFrame( test_json, index=[0] )\n",
    "    \n",
    "        else:\n",
    "            test_raw = pd.DataFrame( test_json, columns=test_json[0].keys() ) # multiple examples\n",
    "            \n",
    "        # Instantiate Instyle Class\n",
    "        pipeline = instyle()\n",
    "\n",
    "        # Data Preparation\n",
    "        df1 = pipeline.test_prep( test_raw )\n",
    "                              \n",
    "        # Prediction\n",
    "        df_response = pipeline.get_prediction( model, test_raw, df1 )\n",
    "        \n",
    "        return df_response\n",
    "        \n",
    "    else:\n",
    "        return Response( '{}', status=200, mimetype='application/json' )\n",
    "\n",
    "if __name__ == '__main__':\n",
    "    app.run('0.0.0.0')\n",
    "    #port = os.environ.get('PORT', 5000)\n",
    "    #app.run( host='0.0.0.0', port=port )"
   ]
  },
  {
   "cell_type": "markdown",
   "id": "f2a09fa0",
   "metadata": {
    "heading_collapsed": true
   },
   "source": [
    "# API CALL"
   ]
  },
  {
   "cell_type": "code",
   "execution_count": null,
   "id": "ff3d5de1",
   "metadata": {
    "ExecuteTime": {
     "end_time": "2024-01-04T17:48:51.978397Z",
     "start_time": "2024-01-04T17:48:50.945350Z"
    },
    "hidden": true
   },
   "outputs": [],
   "source": [
    "import requests\n",
    "import pandas as pd"
   ]
  },
  {
   "cell_type": "code",
   "execution_count": null,
   "id": "721f4e38",
   "metadata": {
    "ExecuteTime": {
     "end_time": "2024-01-04T17:48:52.439662Z",
     "start_time": "2024-01-04T17:48:52.295589Z"
    },
    "hidden": true
   },
   "outputs": [],
   "source": [
    "test = pd.read_csv('C:/Users/perot/Documents/ds_repos/projects/InStyle_Net_Promoter_Score/data/test.csv')"
   ]
  },
  {
   "cell_type": "code",
   "execution_count": null,
   "id": "9b7007f2",
   "metadata": {
    "ExecuteTime": {
     "end_time": "2024-01-04T17:48:52.741001Z",
     "start_time": "2024-01-04T17:48:52.709570Z"
    },
    "hidden": true
   },
   "outputs": [],
   "source": [
    "teste = test.head(10)"
   ]
  },
  {
   "cell_type": "code",
   "execution_count": null,
   "id": "e165e1a9",
   "metadata": {
    "ExecuteTime": {
     "end_time": "2024-01-04T17:48:53.908901Z",
     "start_time": "2024-01-04T17:48:53.223192Z"
    },
    "hidden": true
   },
   "outputs": [],
   "source": [
    "data = json.dumps( test.to_dict( orient='records'))"
   ]
  },
  {
   "cell_type": "code",
   "execution_count": null,
   "id": "f3b92d7f",
   "metadata": {
    "ExecuteTime": {
     "end_time": "2024-01-04T17:48:56.494451Z",
     "start_time": "2024-01-04T17:48:54.252997Z"
    },
    "hidden": true
   },
   "outputs": [],
   "source": [
    "# API Call\n",
    "url = 'http://127.0.0.1:5000/instyle/predict'\n",
    "header = {'Content-type': 'application/json'}\n",
    "data = data\n",
    "\n",
    "r = requests.post( url, data=data , headers=header )\n",
    "print( 'Stadus Code{}'.format( r.status_code ) )"
   ]
  },
  {
   "cell_type": "code",
   "execution_count": null,
   "id": "95306d69",
   "metadata": {
    "ExecuteTime": {
     "end_time": "2024-01-04T17:49:05.280998Z",
     "start_time": "2024-01-04T17:49:04.238042Z"
    },
    "hidden": true
   },
   "outputs": [],
   "source": [
    "d1 = pd.DataFrame( r.json(), columns=r.json()[0].keys() )"
   ]
  },
  {
   "cell_type": "code",
   "execution_count": null,
   "id": "1e8a5f43",
   "metadata": {
    "ExecuteTime": {
     "end_time": "2024-01-04T17:50:00.742305Z",
     "start_time": "2024-01-04T17:50:00.691607Z"
    },
    "hidden": true
   },
   "outputs": [],
   "source": [
    "d1.head()"
   ]
  },
  {
   "cell_type": "code",
   "execution_count": null,
   "id": "8bec4737",
   "metadata": {
    "ExecuteTime": {
     "end_time": "2024-01-04T17:49:26.381665Z",
     "start_time": "2024-01-04T17:49:26.365140Z"
    },
    "hidden": true
   },
   "outputs": [],
   "source": [
    "submission = d1[['id','satisfaction']]"
   ]
  },
  {
   "cell_type": "code",
   "execution_count": null,
   "id": "9aedbe60",
   "metadata": {
    "ExecuteTime": {
     "end_time": "2024-01-04T17:49:26.616520Z",
     "start_time": "2024-01-04T17:49:26.590315Z"
    },
    "hidden": true
   },
   "outputs": [],
   "source": [
    "submission.head()"
   ]
  },
  {
   "cell_type": "code",
   "execution_count": null,
   "id": "1934f66e",
   "metadata": {
    "ExecuteTime": {
     "end_time": "2024-01-03T23:59:54.518521Z",
     "start_time": "2024-01-03T23:59:54.479321Z"
    },
    "hidden": true
   },
   "outputs": [],
   "source": [
    "submission.to_csv(\"submission.csv\", index=None, sep=',')"
   ]
  }
 ],
 "metadata": {
  "hide_input": false,
  "kernelspec": {
   "display_name": "Python 3 (ipykernel)",
   "language": "python",
   "name": "python3"
  },
  "language_info": {
   "codemirror_mode": {
    "name": "ipython",
    "version": 3
   },
   "file_extension": ".py",
   "mimetype": "text/x-python",
   "name": "python",
   "nbconvert_exporter": "python",
   "pygments_lexer": "ipython3",
   "version": "3.10.13"
  }
 },
 "nbformat": 4,
 "nbformat_minor": 5
}
