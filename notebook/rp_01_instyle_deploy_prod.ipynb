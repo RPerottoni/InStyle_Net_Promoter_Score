{
 "cells": [
  {
   "cell_type": "markdown",
   "id": "7c1d7fdc",
   "metadata": {},
   "source": [
    "In this notebook, I am making sure if what I did previously will work properly before to create the infra to deploy it into production. I am checking if the data processings steps are working, if the selected algorithm is working and performing accordingly the tests made.\n"
   ]
  },
  {
   "cell_type": "markdown",
   "id": "ce96817c",
   "metadata": {},
   "source": [
    "## 0 - LIBRARIES AND HELPER FUNCTIONS"
   ]
  },
  {
   "cell_type": "markdown",
   "id": "4d074743",
   "metadata": {},
   "source": [
    "### 0.1 - LIBRARIES"
   ]
  },
  {
   "cell_type": "markdown",
   "id": "1d6ed30f",
   "metadata": {},
   "source": [
    "**Loading the libraries to be used on the project**"
   ]
  },
  {
   "cell_type": "code",
   "execution_count": 1,
   "id": "179b485c",
   "metadata": {
    "ExecuteTime": {
     "end_time": "2024-03-12T21:27:03.172973Z",
     "start_time": "2024-03-12T21:26:55.918139Z"
    }
   },
   "outputs": [],
   "source": [
    "# Data Analysis and Data Manipulation Libraries\n",
    "import inflection\n",
    "import joblib\n",
    "import pandas                                       as pd\n",
    "import numpy                                        as np\n",
    "import seaborn                                      as sns\n",
    "import scikitplot                                   as skplt\n",
    "import plotly.express                               as px\n",
    "import plotly.graph_objects                         as go\n",
    "from matplotlib              import pyplot          as plt\n",
    "\n",
    "# Data Processing\n",
    "from sklearn                 import model_selection as ms\n",
    "from sklearn                 import preprocessing   as pp\n",
    "from sklearn.model_selection import KFold\n",
    "\n",
    "#import optuna\n",
    "\n",
    "# ML Models and Metrics\n",
    "import lightgbm                                     as lgbm\n",
    "from sklearn                 import ensemble        as en\n",
    "from xgboost                 import XGBClassifier\n",
    "from sklearn.linear_model    import LogisticRegression\n",
    "\n",
    "from sklearn.metrics         import precision_score \n",
    "from sklearn.metrics         import precision_recall_curve\n",
    "from sklearn.metrics         import confusion_matrix, ConfusionMatrixDisplay\n",
    "\n",
    "# Dysplay\n",
    "from IPython.core.display    import HTML\n",
    "from IPython.display         import Image\n",
    "\n",
    "import warnings\n",
    "warnings.filterwarnings( 'ignore' )"
   ]
  },
  {
   "cell_type": "markdown",
   "id": "05be3a58",
   "metadata": {},
   "source": [
    "### 0.2 - HELPER FUNCTIONS"
   ]
  },
  {
   "cell_type": "markdown",
   "id": "162a5fb3",
   "metadata": {
    "ExecuteTime": {
     "end_time": "2024-03-03T19:07:20.334723Z",
     "start_time": "2024-03-03T19:07:20.324630Z"
    }
   },
   "source": [
    "**Personalized functions created to optimize the project**"
   ]
  },
  {
   "cell_type": "code",
   "execution_count": 2,
   "id": "b12e9959",
   "metadata": {
    "ExecuteTime": {
     "end_time": "2024-03-12T21:27:40.710925Z",
     "start_time": "2024-03-12T21:27:40.673103Z"
    },
    "code_folding": []
   },
   "outputs": [],
   "source": [
    "# Function to help to indentify the best value for each parameter at time\n",
    "def plot_scores(param_name, param_range, fixed_params, model, model_name, X_train, y_train, X_val, y_val):\n",
    "    \n",
    "    train_scores = []\n",
    "    val_scores = []\n",
    "    \n",
    "    for param_value in param_range:\n",
    "        params = fixed_params\n",
    "        params[param_name] = param_value\n",
    "        \n",
    "        lgbm = model(**params)\n",
    "        lgbm.fit(X_train, y_train)\n",
    "        \n",
    "        train_scores.append(precision_score(y_train, lgbm.predict(X_train)))\n",
    "        val_scores.append(precision_score(y_val, lgbm.predict(X_val)))\n",
    "    \n",
    "    plt.figure(figsize=(8, 4))\n",
    "    plt.plot(param_range, train_scores, label=\"Train\", color=\"#264653\", marker='o')\n",
    "    plt.plot(param_range, val_scores, label=\"Val\", color=\"#e76f51\", marker='o')\n",
    "\n",
    "    plt.title(model_name)\n",
    "    plt.xlabel(param_name)\n",
    "    plt.ylabel(\"Precision\")\n",
    "    plt.tight_layout()\n",
    "    plt.legend(loc=\"best\");\n",
    "\n",
    "def cross_validation(kfold, modelName, model, X, y):\n",
    "    \n",
    "    # Number of folds\n",
    "    fold=ms.StratifiedKFold(n_splits = kfold, shuffle=True, random_state=42)\n",
    "    \n",
    "    # Performance variables\n",
    "    precision_list = []\n",
    "    \n",
    "    for train_cv,val_cv in fold.split(X, y):\n",
    "        \n",
    "        # Separating train and validation dataset for each kfold\n",
    "        # training data\n",
    "        x_train_fold = X.iloc[train_cv]\n",
    "        x_train_fold = x_train_fold\n",
    "        \n",
    "        y_train_fold = y.iloc[train_cv]\n",
    "        y_train_fold = y_train_fold\n",
    "        \n",
    "        # validation data\n",
    "        x_val_fold = X.iloc[val_cv]\n",
    "        x_val_fold = x_val_fold\n",
    "        \n",
    "        y_val_fold = y.iloc[val_cv]\n",
    "        y_val_fold = y_val_fold\n",
    "        \n",
    "        # fitting the model\n",
    "        model_fitted = model.fit(x_train_fold, y_train_fold)\n",
    "        \n",
    "        # predict\n",
    "        yhat = model_fitted.predict(x_val_fold)\n",
    "        \n",
    "        #performance\n",
    "        precision = precision_score(y_val_fold, yhat, average='micro')\n",
    "        precision_list.append(precision)\n",
    "        \n",
    "    return np.mean(precision_list)\n",
    "\n",
    "def jupyter_settings():\n",
    "    %matplotlib inline\n",
    "   \n",
    "    plt.style.use( 'bmh' )\n",
    "    plt.rcParams['figure.figsize'] = [18, 8]\n",
    "    plt.rcParams['font.size'] = 24\n",
    "    \n",
    "    display( HTML( '<style>.container {width:100% !important; }</style>') )\n",
    "    pd.options.display.max_columns = None\n",
    "    pd.options.display.max_rows = None\n",
    "    pd.set_option( 'display.expand_frame_repr', False )\n",
    "    \n",
    "    sns.set()"
   ]
  },
  {
   "cell_type": "code",
   "execution_count": 3,
   "id": "123d7d61",
   "metadata": {
    "ExecuteTime": {
     "end_time": "2024-03-12T21:27:41.596923Z",
     "start_time": "2024-03-12T21:27:41.549355Z"
    }
   },
   "outputs": [
    {
     "data": {
      "text/html": [
       "<style>.container {width:100% !important; }</style>"
      ],
      "text/plain": [
       "<IPython.core.display.HTML object>"
      ]
     },
     "metadata": {},
     "output_type": "display_data"
    }
   ],
   "source": [
    "jupyter_settings()"
   ]
  },
  {
   "cell_type": "markdown",
   "id": "f17c24e9",
   "metadata": {
    "heading_collapsed": true
   },
   "source": [
    "## 11.2 Running the application locally"
   ]
  },
  {
   "cell_type": "markdown",
   "id": "0867d39e",
   "metadata": {},
   "source": []
  },
  {
   "cell_type": "code",
   "execution_count": null,
   "id": "0202dcf9",
   "metadata": {},
   "outputs": [],
   "source": [
    "# Loading the Test Dataset\n",
    "df_test_raw = pd.read_csv('C:/Users/ricardo/Documents/ds_repos/projects/InStyle_Net_Promoter_Score/data/test.csv')"
   ]
  },
  {
   "cell_type": "code",
   "execution_count": null,
   "id": "5b57239f",
   "metadata": {},
   "outputs": [],
   "source": [
    "# Function to apply the pre-proceesing onto the test dataset\n",
    "\n",
    "def test_prep(dfte):\n",
    "    \n",
    "    ## Renaming Columns\n",
    "    cols_old = ['id', 'Gender', 'Customer Type', 'Age', 'Type of Purchase','Store size', 'Store distance', 'InStore wifi',\n",
    "                'Open/Close time convenient', 'Easy of online shopping', 'Store location', 'Toilet cleaning', 'Dressing room', \n",
    "                'Waiting room','Kids entertainment', 'Seller service', 'Showroom ', 'Self-Store', 'Purchase service', \n",
    "                'Store Service', 'Cleanliness', 'Carrier delay in minutes', 'Delivery delay in minutes']\n",
    "\n",
    "    snakecase = lambda x: inflection.underscore(x.replace(' ', '_'))\n",
    "    cols_new = list( map( snakecase, cols_old ) )\n",
    "\n",
    "    dfte.columns = cols_new\n",
    "    \n",
    "    # Fill NaN\n",
    "    dfte['delivery_delay_in_minutes'] = dfte['delivery_delay_in_minutes'].fillna(dfte['carrier_delay_in_minutes'])\n",
    "    \n",
    "    # FEATURE ENGINEERING\n",
    "    # New Features\n",
    "    dfte['distance'] = dfte['store_distance'].apply(lambda x: 'close' if x <= 2500 else \n",
    "                                                              'far' )\n",
    "\n",
    "\n",
    "\n",
    "    dfte['age_group'] = dfte['age'].apply(lambda x: 'young' if x <= 18 else\n",
    "                                                    'adult' if ((x > 18) and (x <= 60)) else\n",
    "                                                    'elderly')\n",
    "    \n",
    "    # TRANSFORMERS\n",
    "    \n",
    "    fe_gender    = joblib.load( 'C:/Users/ricardo/Documents/ds_repos/api/InStyle_API/src/features/fe_gender.joblib')\n",
    "    fe_tpurchase = joblib.load( 'C:/Users/ricardo/Documents/ds_repos/api/InStyle_API/src/features/fe_tpurchase.joblib')\n",
    "    oe_distance  = joblib.load( 'C:/Users/ricardo/Documents/ds_repos/api/InStyle_API/src/features/oe_distance.joblib')\n",
    "    oe_ageg      = joblib.load( 'C:/Users/ricardo/Documents/ds_repos/api/InStyle_API/src/features/oe_ageg.joblib')\n",
    "    oe_customer  = joblib.load( 'C:/Users/ricardo/Documents/ds_repos/api/InStyle_API/src/features/oe_customer.joblib')\n",
    "    oe_store     = joblib.load( 'C:/Users/ricardo/Documents/ds_repos/api/InStyle_API/src/features/oe_store_size.joblib')\n",
    "    mm_age       = joblib.load( 'C:/Users/ricardo/Documents/ds_repos/api/InStyle_API/src/features/mms_age.joblib')\n",
    "    rs_stored    = joblib.load( 'C:/Users/ricardo/Documents/ds_repos/api/InStyle_API/src/features/rs_stored.joblib')\n",
    "    \n",
    "    # gender\n",
    "    dfte['gender'] = dfte['gender'].map(fe_gender)\n",
    "    \n",
    "    # type_of_purchase\n",
    "    dfte['type_of_purchase'] = dfte['type_of_purchase'].map(fe_tpurchase)\n",
    "\n",
    "    # distance\n",
    "    dfte['distance'] = oe_distance.transform(dfte[['distance']].values)\n",
    "\n",
    "    # age_group\n",
    "    dfte['age_group'] = oe_ageg.transform(dfte[['age_group']].values)\n",
    "\n",
    "    # Customer\n",
    "    dfte['customer_type'] =oe_customer.transform(dfte[['customer_type']].values)\n",
    "\n",
    "    # Store Size\n",
    "    dfte['store_size'] = oe_store.transform(dfte[['store_size']].values)\n",
    "\n",
    "    # REESCALING\n",
    " \n",
    "    # age\n",
    "    dfte['age'] = mm_age.transform(dfte[['age']].values)\n",
    "\n",
    "    # Store Distance\n",
    "    dfte['store_distance'] = rs_stored.transform(dfte[['store_distance']].values)\n",
    "\n",
    "    # TRANSFORMACAO LOGARITMICA \n",
    "    \n",
    "    # carrier_delay_in_minutes\n",
    "    dfte['carrier_delay_in_minutes'] = dfte['carrier_delay_in_minutes'].apply(lambda x: np.log(x) if x > 0 else x) \n",
    "\n",
    "    # delivery_delay_in_minutes\n",
    "    dfte['delivery_delay_in_minutes'] = dfte['delivery_delay_in_minutes'].apply(lambda x: np.log(x) if x > 0 else x) \n",
    "\n",
    "    return(dfte)"
   ]
  },
  {
   "cell_type": "code",
   "execution_count": null,
   "id": "32c2dff6",
   "metadata": {},
   "outputs": [],
   "source": [
    "x_test = test_prep( df_test_raw)"
   ]
  },
  {
   "cell_type": "code",
   "execution_count": null,
   "id": "f2021437",
   "metadata": {
    "ExecuteTime": {
     "end_time": "2023-12-22T17:41:07.531063Z",
     "start_time": "2023-12-22T17:41:07.121062Z"
    },
    "hidden": true
   },
   "outputs": [],
   "source": [
    "# Model Prediction\n",
    "yhat_submission = lgbm_final.predict(x_test)"
   ]
  },
  {
   "cell_type": "code",
   "execution_count": null,
   "id": "f43ba79e",
   "metadata": {
    "ExecuteTime": {
     "end_time": "2023-12-22T17:42:13.437268Z",
     "start_time": "2023-12-22T17:42:13.429753Z"
    },
    "hidden": true
   },
   "outputs": [],
   "source": [
    "x_test['satisfaction'] = yhat_submission"
   ]
  },
  {
   "cell_type": "code",
   "execution_count": null,
   "id": "73cd9c81",
   "metadata": {
    "ExecuteTime": {
     "end_time": "2023-12-22T17:42:14.586650Z",
     "start_time": "2023-12-22T17:42:14.561750Z"
    },
    "hidden": true
   },
   "outputs": [],
   "source": [
    "submission = x_test[['id','satisfaction']]"
   ]
  },
  {
   "cell_type": "code",
   "execution_count": null,
   "id": "b1d74808",
   "metadata": {
    "ExecuteTime": {
     "end_time": "2023-12-22T17:42:15.069973Z",
     "start_time": "2023-12-22T17:42:15.041637Z"
    },
    "hidden": true
   },
   "outputs": [],
   "source": [
    "submission.head()"
   ]
  },
  {
   "cell_type": "code",
   "execution_count": null,
   "id": "4b0614c0",
   "metadata": {
    "ExecuteTime": {
     "end_time": "2023-12-22T17:42:21.677450Z",
     "start_time": "2023-12-22T17:42:21.582654Z"
    },
    "hidden": true
   },
   "outputs": [],
   "source": [
    "submission.to_csv(\"submission.csv\", index=None, sep=',')"
   ]
  },
  {
   "cell_type": "markdown",
   "id": "d669d63f",
   "metadata": {
    "hidden": true
   },
   "source": [
    "## 11.3 InStyle Class"
   ]
  },
  {
   "cell_type": "code",
   "execution_count": null,
   "id": "67d580cb",
   "metadata": {
    "hidden": true
   },
   "outputs": [],
   "source": [
    "import json\n",
    "import joblib\n",
    "import inflection\n",
    "import pandas   as pd\n",
    "import numpy    as np\n",
    "\n",
    "class instyle( object ):\n",
    "    def __init__( self ):\n",
    "        self.home_path     = 'C:/Users/perot/Documents/ds_repos/API e WebAPP/InStyle_API/src/features'\n",
    "        self.fe_gender     = joblib.load( open( self.home_path + '/fe_gender.joblib', 'rb') )\n",
    "        self.fe_tpurchase  = joblib.load( open( self.home_path + '/fe_tpurchase.joblib', 'rb') )\n",
    "        self.mm_age        = joblib.load( open( self.home_path + '/mm_age.joblib', 'rb') )\n",
    "        self.oe_ageg       = joblib.load( open( self.home_path + '/oe_ageg.joblib', 'rb'))\n",
    "        self.oe_customer   = joblib.load( open( self.home_path + '/oe_customer.joblib', 'rb') )\n",
    "        self.oe_distance   = joblib.load( open( self.home_path + '/oe_distance.joblib', 'rb') )\n",
    "        self.oe_store      = joblib.load( open( self.home_path + '/oe_store.joblib', 'rb') )\n",
    "        self.rs_stored     = joblib.load( open( self.home_path + '/rs_stored.joblib', 'rb') )\n",
    "        \n",
    "    def test_prep(self, df):\n",
    "        ## Rename Columns\n",
    "        cols_old = ['id', 'Gender', 'Customer Type', 'Age', 'Type of Purchase','Store size', 'Store distance', 'InStore wifi',\n",
    "                    'Open/Close time convenient', 'Easy of online shopping', 'Store location', 'Toilet cleaning', 'Dressing room', \n",
    "                    'Waiting room','Kids entertainment', 'Seller service', 'Showroom ', 'Self-Store', 'Purchase service', \n",
    "                    'Store Service', 'Cleanliness', 'Carrier delay in minutes', 'Delivery delay in minutes']\n",
    "\n",
    "        snakecase = lambda x: inflection.underscore(x.replace(' ', '_'))\n",
    "        cols_new = list( map( snakecase, cols_old ) )\n",
    "\n",
    "        df.columns = cols_new\n",
    "\n",
    "        # FEATURE ENGINEERING\n",
    "\n",
    "        df['distancia'] = df['store_distance'].apply(lambda x: 'close' if x <= 2500 else \n",
    "                                                               'far' )\n",
    "\n",
    "\n",
    "\n",
    "        df['age_group'] = df['age'].apply(lambda x: 'young' if x <= 18 else\n",
    "                                                    'adult' if ((x > 18) and (x <= 60)) else\n",
    "                                                    'elderly')\n",
    "\n",
    "        # TRANSFORMERS\n",
    "        # gender\n",
    "        df['gender'] = df['gender'].map(self.fe_gender)\n",
    "\n",
    "        # type_of_purchase\n",
    "        df['type_of_purchase'] = df['type_of_purchase'].map( self.fe_tpurchase )\n",
    "\n",
    "        # distance\n",
    "        df['distancia'] = self.oe_distance.transform(df[['distancia']].values)\n",
    "\n",
    "        # distance\n",
    "        df['age_group'] = self.oe_ageg.transform(df[['age_group']].values)\n",
    "\n",
    "        # distance\n",
    "        df['customer_type'] = self.oe_customer.transform(df[['customer_type']].values)\n",
    "\n",
    "        # Store Size\n",
    "        df['store_size'] = self.oe_store.transform(df[['store_size']].values)\n",
    "\n",
    "        # REESCALING\n",
    "\n",
    "        # age\n",
    "        df['age'] = self.mm_age.transform(df[['age']].values)\n",
    "\n",
    "        # Store Distance\n",
    "        df['store_distance'] = self.rs_stored.transform(df[['store_distance']].values)\n",
    "\n",
    "        # LOG TRANSFORMATION \n",
    "\n",
    "        # carrier_delay_in_minutes\n",
    "        df['carrier_delay_in_minutes'] = df['carrier_delay_in_minutes'].apply(lambda x: np.log(x) if x > 0 else x) \n",
    "\n",
    "        # delivery_delay_in_minutes\n",
    "        df['delivery_delay_in_minutes'] = df['delivery_delay_in_minutes'].apply(lambda x: np.log(x) if x > 0 else x) \n",
    "\n",
    "        return(df)\n",
    "    \n",
    "    def get_prediction (self, model, original_data, test_data ):\n",
    "        # prediction\n",
    "        pred = model.predict( test_data )\n",
    "        \n",
    "        # join pred into the original data\n",
    "        original_data['satisfaction'] =  pred \n",
    "        \n",
    "        return original_data.to_json( orient='records', date_format='iso' )  "
   ]
  },
  {
   "cell_type": "code",
   "execution_count": null,
   "id": "5dffd1e9",
   "metadata": {
    "hidden": true
   },
   "outputs": [],
   "source": [
    "import joblib\n",
    "import pandas as pd\n",
    "import os\n",
    "from flask                           import Flask, request, Response\n",
    "from instyle.instyle import instyle\n",
    "\n",
    "# logading model\n",
    "model = joblib.load( open('src/models/lgbm.joblib', 'rb') )\n",
    "                          \n",
    "# initialize API\n",
    "app = Flask( __name__ )\n",
    "\n",
    "@app.route( '/instyle/predict', methods=['POST'] )\n",
    "def instyle_predict():\n",
    "    test_json = request.get_json()\n",
    "    \n",
    "    if test_json: #there is data\n",
    "               \n",
    "        if isinstance( test_json, dict ): # unique example\n",
    "            test_raw = pd.DataFrame( test_json, index=[0] )\n",
    "    \n",
    "        else:\n",
    "            test_raw = pd.DataFrame( test_json, columns=test_json[0].keys() ) # multiple examples\n",
    "            \n",
    "        # Instantiate Instyle Class\n",
    "        pipeline = instyle()\n",
    "\n",
    "        # Data Preparation\n",
    "        df1 = pipeline.test_prep( test_raw )\n",
    "                              \n",
    "        # Prediction\n",
    "        df_response = pipeline.get_prediction( model, test_raw, df1 )\n",
    "        \n",
    "        return df_response\n",
    "        \n",
    "    else:\n",
    "        return Response( '{}', status=200, mimetype='application/json' )\n",
    "\n",
    "if __name__ == '__main__':\n",
    "    app.run('0.0.0.0')\n",
    "    #port = os.environ.get('PORT', 5000)\n",
    "    #app.run( host='0.0.0.0', port=port )"
   ]
  },
  {
   "cell_type": "markdown",
   "id": "3a07cb74",
   "metadata": {
    "heading_collapsed": true
   },
   "source": [
    "# 12. API TESTING"
   ]
  },
  {
   "cell_type": "code",
   "execution_count": null,
   "id": "9d52f38a",
   "metadata": {
    "ExecuteTime": {
     "end_time": "2023-12-24T15:25:07.022413Z",
     "start_time": "2023-12-24T15:25:06.556692Z"
    },
    "hidden": true
   },
   "outputs": [],
   "source": [
    "import requests\n",
    "import pandas as pd"
   ]
  },
  {
   "cell_type": "code",
   "execution_count": null,
   "id": "39b3ee3f",
   "metadata": {
    "ExecuteTime": {
     "end_time": "2023-12-24T15:25:07.709937Z",
     "start_time": "2023-12-24T15:25:07.626538Z"
    },
    "hidden": true
   },
   "outputs": [],
   "source": [
    "test = pd.read_csv('C:/Users/perot/Documents/ds_repos/projects/InStyle_Net_Promoter_Score/data/test.csv')"
   ]
  },
  {
   "cell_type": "code",
   "execution_count": null,
   "id": "afdb0877",
   "metadata": {
    "ExecuteTime": {
     "end_time": "2023-12-24T15:25:08.364956Z",
     "start_time": "2023-12-24T15:25:08.345352Z"
    },
    "hidden": true
   },
   "outputs": [],
   "source": [
    "teste = test.head(10)"
   ]
  },
  {
   "cell_type": "code",
   "execution_count": null,
   "id": "f1172198",
   "metadata": {
    "ExecuteTime": {
     "end_time": "2023-12-24T15:25:09.459636Z",
     "start_time": "2023-12-24T15:25:08.885429Z"
    },
    "hidden": true
   },
   "outputs": [],
   "source": [
    "data = json.dumps( test.to_dict( orient='records'))"
   ]
  },
  {
   "cell_type": "code",
   "execution_count": null,
   "id": "1d48c4ef",
   "metadata": {
    "ExecuteTime": {
     "end_time": "2023-12-24T15:25:10.868881Z",
     "start_time": "2023-12-24T15:25:09.957495Z"
    },
    "hidden": true
   },
   "outputs": [],
   "source": [
    "# API Call\n",
    "url = 'http://127.0.0.1:5000/instyle/predict'\n",
    "header = {'Content-type': 'application/json'}\n",
    "data = data\n",
    "\n",
    "r = requests.post( url, data=data , headers=header )\n",
    "print( 'Stadus Code{}'.format( r.status_code ) )"
   ]
  },
  {
   "cell_type": "code",
   "execution_count": null,
   "id": "a9861710",
   "metadata": {
    "ExecuteTime": {
     "end_time": "2023-12-24T15:25:12.088275Z",
     "start_time": "2023-12-24T15:25:11.525610Z"
    },
    "hidden": true
   },
   "outputs": [],
   "source": [
    "d1 = pd.DataFrame( r.json(), columns=r.json()[0].keys() )"
   ]
  }
 ],
 "metadata": {
  "hide_input": false,
  "kernelspec": {
   "display_name": "Python 3 (ipykernel)",
   "language": "python",
   "name": "python3"
  },
  "language_info": {
   "codemirror_mode": {
    "name": "ipython",
    "version": 3
   },
   "file_extension": ".py",
   "mimetype": "text/x-python",
   "name": "python",
   "nbconvert_exporter": "python",
   "pygments_lexer": "ipython3",
   "version": "3.10.13"
  }
 },
 "nbformat": 4,
 "nbformat_minor": 5
}
